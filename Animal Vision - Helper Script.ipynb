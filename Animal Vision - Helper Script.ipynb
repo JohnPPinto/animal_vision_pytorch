{
 "cells": [
  {
   "cell_type": "markdown",
   "metadata": {
    "id": "v_AisAC8E53o"
   },
   "source": [
    "# Animal Vision - Helper Script"
   ]
  },
  {
   "cell_type": "markdown",
   "metadata": {
    "id": "UDHi-JviEy0T"
   },
   "source": [
    "# 1. Getting partial data - get_data.py"
   ]
  },
  {
   "cell_type": "code",
   "execution_count": null,
   "metadata": {
    "colab": {
     "base_uri": "https://localhost:8080/"
    },
    "executionInfo": {
     "elapsed": 11,
     "status": "ok",
     "timestamp": 1670391836091,
     "user": {
      "displayName": "John Pinto",
      "userId": "13049805689452713408"
     },
     "user_tz": -330
    },
    "id": "3vMd1VKLEJ0C",
    "outputId": "31616123-9c59-4206-ff23-9c58ed6cca3f"
   },
   "outputs": [],
   "source": [
    "%%writefile get_data.py\n",
    "\"\"\"\n",
    "Contains code to download the animal data for three classes\n",
    "and process into the format required as per the \n",
    "torchvision ImageFolder function.\n",
    "Data is downloaded through kaggle dataset, for this\n",
    "kaggle.json file is required.\n",
    "\"\"\"\n",
    "import os\n",
    "from pathlib import Path\n",
    "import shutil\n",
    "from pip._internal.cli.main import main\n",
    "package_names=['split-folders', 'opendatasets'] #packages to install\n",
    "main(['install'] + package_names + ['--upgrade']) \n",
    "import splitfolders\n",
    "import opendatasets as od\n",
    "\n",
    "def download_data():\n",
    "    \"\"\"\n",
    "    Download data from kaggle.\n",
    "    Kaggle username and key will be needed to download the data.\n",
    "    You can find your username and key from your account \n",
    "    Kaggle.com -> Account -> API -> click on 'Create New API Token'\n",
    "    \"\"\"\n",
    "    # Download the dataset\n",
    "    kaggle_dataset_url = 'https://www.kaggle.com/datasets/jerrinbright/cheetahtigerwolf'\n",
    "    temp_data_path = Path('temp_data')\n",
    "    if temp_data_path.exists():\n",
    "        print(f'{temp_data_path} directory exist')\n",
    "    else:\n",
    "        print('Downloading data...')\n",
    "        od.download_kaggle_dataset(kaggle_dataset_url,\n",
    "                                   temp_data_path)\n",
    "\n",
    "    # Copying three classes data from the raw data\n",
    "    raw_data = Path('temp_data/cheetahtigerwolf/ANIMALS/ANIMALS')\n",
    "    data_extracted_path = Path('temp_data/animal_data')\n",
    "    animal_list = ['LION', 'TIGER', 'WOLF']\n",
    "    if data_extracted_path.exists():\n",
    "        print(f'\\n{raw_data} directory exist')\n",
    "    else:\n",
    "        print('\\nCopying raw data...')\n",
    "        for i in animal_list:\n",
    "            shutil.copytree(raw_data / i, data_extracted_path / i)\n",
    "            print(f'{i} directory created and files copied in \"{data_extracted_path/i}\"')\n",
    "\n",
    "    # Splitting the data in Train Test Split in ratio(80:20).\n",
    "    data_path = Path('data')\n",
    "    lion_tiger_wolf_path = data_path / 'lion_tiger_wolf'\n",
    "    if lion_tiger_wolf_path.exists():\n",
    "        print(f'\\nSplit directory exist - {lion_tiger_wolf_path}')\n",
    "    else:\n",
    "        print('\\nSpliting data in Train and Test set')\n",
    "        splitfolders.ratio(data_extracted_path, str(lion_tiger_wolf_path), 42, (0.80, 0.20))\n",
    "\n",
    "    shutil.rmtree(temp_data_path)\n",
    "    print(f'\\n{temp_data_path} directory is deleted')"
   ]
  },
  {
   "cell_type": "code",
   "execution_count": null,
   "metadata": {
    "colab": {
     "base_uri": "https://localhost:8080/"
    },
    "executionInfo": {
     "elapsed": 73200,
     "status": "ok",
     "timestamp": 1670391909284,
     "user": {
      "displayName": "John Pinto",
      "userId": "13049805689452713408"
     },
     "user_tz": -330
    },
    "id": "mhPnIBrPFECK",
    "outputId": "e9fb8734-aeca-43ab-bade-9c096ab77285"
   },
   "outputs": [],
   "source": [
    "import get_data\n",
    "get_data.download_data()"
   ]
  },
  {
   "cell_type": "markdown",
   "metadata": {
    "id": "tgJ510knJ1Dm"
   },
   "source": [
    "# 2. Creating a script to display training results- plot_loss_curves.py"
   ]
  },
  {
   "cell_type": "code",
   "execution_count": null,
   "metadata": {
    "colab": {
     "base_uri": "https://localhost:8080/"
    },
    "executionInfo": {
     "elapsed": 480,
     "status": "ok",
     "timestamp": 1670393444189,
     "user": {
      "displayName": "John Pinto",
      "userId": "13049805689452713408"
     },
     "user_tz": -330
    },
    "id": "qbeBytt3KO5s",
    "outputId": "5b1e19c2-00a6-4cf3-858d-915d08d27250"
   },
   "outputs": [],
   "source": [
    "%%writefile plot_loss_curves.py\n",
    "\"\"\"\n",
    "Contains code to display the result\n",
    "obtained after training the model.\n",
    "\"\"\"\n",
    "import matplotlib.pyplot as plt\n",
    "\n",
    "# Plot loss and accuracy curves\n",
    "def plot_curves(model_result: dict):\n",
    "    \"\"\"\n",
    "    Plots the loss and accuracy curves for the training and evaluation.\n",
    "    Args:\n",
    "      model_result: A dict in format of {'train_loss': [],\n",
    "                                         'train_acc': [],\n",
    "                                         'test_loss': [],\n",
    "                                         'test_acc': []} \n",
    "    \"\"\"\n",
    "    # Get loss values\n",
    "    train_loss = model_result['train_loss']\n",
    "    test_loss = model_result['test_loss']\n",
    "\n",
    "    # get accuracy values\n",
    "    train_accuracy = model_result['train_acc']\n",
    "    test_accuracy = model_result['test_acc']\n",
    "\n",
    "    # get total epochs\n",
    "    epochs = range(len(model_result['train_loss']))\n",
    "\n",
    "    # plot the curves\n",
    "    plt.figure(figsize=(15, 7))\n",
    "    # Loss\n",
    "    plt.subplot(1, 2, 1)\n",
    "    plt.plot(epochs, train_loss, label='Train Loss')\n",
    "    plt.plot(epochs, test_loss, label='Test Loss')\n",
    "    plt.title('Loss')\n",
    "    plt.xlabel('Epochs')\n",
    "    plt.legend()\n",
    "    # Accuracy\n",
    "    plt.subplot(1, 2, 2)\n",
    "    plt.plot(epochs, train_accuracy, label='Train Accuracy')\n",
    "    plt.plot(epochs, test_accuracy, label='Test Accuracy')\n",
    "    plt.title('Accuracy')\n",
    "    plt.xlabel('Epochs')\n",
    "    plt.legend();"
   ]
  },
  {
   "cell_type": "markdown",
   "metadata": {
    "id": "kWYsKGPjG68M"
   },
   "source": [
    "# Copying the python file to drive"
   ]
  },
  {
   "cell_type": "code",
   "execution_count": null,
   "metadata": {
    "executionInfo": {
     "elapsed": 417,
     "status": "ok",
     "timestamp": 1670393449077,
     "user": {
      "displayName": "John Pinto",
      "userId": "13049805689452713408"
     },
     "user_tz": -330
    },
    "id": "lGndihcvGCM8"
   },
   "outputs": [],
   "source": [
    "import shutil\n",
    "import os\n",
    "for i in os.listdir('/content/'):\n",
    "    if i.endswith('.py'):\n",
    "        shutil.copy2(i, '/content/drive/MyDrive/Colab Notebooks/My Project/Image Classification/Animal Vision/helper_scripts')"
   ]
  },
  {
   "cell_type": "markdown",
   "metadata": {},
   "source": [
    "# 3. Getting Complete data - get_full_data.py"
   ]
  },
  {
   "cell_type": "code",
   "execution_count": 5,
   "metadata": {},
   "outputs": [
    {
     "name": "stdout",
     "output_type": "stream",
     "text": [
      "Writing helper_scripts/get_full_data.py\n"
     ]
    }
   ],
   "source": [
    "%%writefile helper_scripts/get_full_data.py\n",
    "\"\"\"\n",
    "Contains code to download the animal data\n",
    "and process into the format required as per the \n",
    "torchvision ImageFolder function.\n",
    "Data is downloaded through kaggle dataset, for this\n",
    "kaggle.json api file is required.\n",
    "\"\"\"\n",
    "import os\n",
    "from pathlib import Path\n",
    "import shutil\n",
    "from pip._internal.cli.main import main\n",
    "package_names=['split-folders', 'opendatasets'] #packages to install\n",
    "main(['install'] + package_names + ['--upgrade']) \n",
    "import splitfolders\n",
    "import opendatasets as od\n",
    "\n",
    "def download_data():\n",
    "    \"\"\"\n",
    "    Download data from kaggle.\n",
    "    Kaggle username and key will be needed to download the data.\n",
    "    You can find your username and key from your account \n",
    "    Kaggle.com -> Account -> API -> click on 'Create New API Token'\n",
    "    \"\"\"\n",
    "    # Download the dataset\n",
    "    kaggle_dataset_url = 'https://www.kaggle.com/datasets/jerrinbright/cheetahtigerwolf'\n",
    "    temp_data_path = Path('temp_data')\n",
    "    if temp_data_path.exists():\n",
    "        print(f'{temp_data_path} directory exist')\n",
    "    else:\n",
    "        print('Downloading data...')\n",
    "        od.download_kaggle_dataset(kaggle_dataset_url,\n",
    "                                   temp_data_path)\n",
    "\n",
    "    # Splitting the data in Train Test Split in ratio(80:20).\n",
    "    raw_data = Path('temp_data/cheetahtigerwolf/ANIMAL-N30/ANIMALS')\n",
    "    data_path = Path('data')\n",
    "    animal30_path = data_path / 'animal30_classes'\n",
    "    if animal30_path.exists():\n",
    "        print(f'\\nSplit directory exist - {animal30_path}')\n",
    "    else:\n",
    "        print('\\nSpliting data in Train and Test set')\n",
    "        splitfolders.ratio(raw_data, str(animal30_path), 42, (0.80, 0.20), move=True)\n",
    "\n",
    "    shutil.rmtree(temp_data_path)\n",
    "    print(f'\\n{temp_data_path} directory is deleted')"
   ]
  }
 ],
 "metadata": {
  "colab": {
   "authorship_tag": "ABX9TyNvtnWAhr8XmXV7HIxXjBOw",
   "mount_file_id": "1OttZW4TZyOlkDnqSu0bkrMmR_GmSvMDv",
   "provenance": []
  },
  "kernelspec": {
   "display_name": "Python 3 (ipykernel)",
   "language": "python",
   "name": "python3"
  },
  "language_info": {
   "codemirror_mode": {
    "name": "ipython",
    "version": 3
   },
   "file_extension": ".py",
   "mimetype": "text/x-python",
   "name": "python",
   "nbconvert_exporter": "python",
   "pygments_lexer": "ipython3",
   "version": "3.9.13"
  }
 },
 "nbformat": 4,
 "nbformat_minor": 4
}
