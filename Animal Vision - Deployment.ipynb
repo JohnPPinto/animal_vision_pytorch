{
 "cells": [
  {
   "cell_type": "markdown",
   "metadata": {},
   "source": [
    "# Animal Vision - Image Classification [Deployment Notebook]\n",
    "\n",
    "We have completed our experiment in the experiment notebook, now it time to move forward with the deployment stage.\n",
    "\n",
    "In this notebook we will be using both the small 3 class dataset and the full 30 class dataset of the animal images.\n",
    "\n",
    "I have made it possible that both the notebooks are standalone notebooks, this makes the workflow and reading much better.\n",
    "\n",
    "**[NOTE]** - Many of the previous functions in the experiment notebook were created as python scripts and stored in the helper_scripts and model_scripts directory respectively. In this notebook for the speedy workflow, we will be using those functions, you can refer them from those directories."
   ]
  },
  {
   "cell_type": "markdown",
   "metadata": {
    "id": "TwEWgeCmDaW0"
   },
   "source": [
    "## Initial Setup"
   ]
  },
  {
   "cell_type": "code",
   "execution_count": 4,
   "metadata": {
    "id": "aL29lnEJD3VC",
    "tags": []
   },
   "outputs": [
    {
     "name": "stdout",
     "output_type": "stream",
     "text": [
      "\u001b[33mWARNING: Running pip as the 'root' user can result in broken permissions and conflicting behaviour with the system package manager. It is recommended to use a virtual environment instead: https://pip.pypa.io/warnings/venv\u001b[0m\u001b[33m\n",
      "\u001b[0m\u001b[33mWARNING: Running pip as the 'root' user can result in broken permissions and conflicting behaviour with the system package manager. It is recommended to use a virtual environment instead: https://pip.pypa.io/warnings/venv\u001b[0m\u001b[33m\n",
      "\u001b[0m\u001b[33mWARNING: Running pip as the 'root' user can result in broken permissions and conflicting behaviour with the system package manager. It is recommended to use a virtual environment instead: https://pip.pypa.io/warnings/venv\u001b[0m\u001b[33m\n",
      "\u001b[0m\u001b[33mWARNING: Running pip as the 'root' user can result in broken permissions and conflicting behaviour with the system package manager. It is recommended to use a virtual environment instead: https://pip.pypa.io/warnings/venv\u001b[0m\u001b[33m\n",
      "\u001b[0m"
     ]
    },
    {
     "name": "stderr",
     "output_type": "stream",
     "text": [
      "/usr/local/lib/python3.9/dist-packages/_distutils_hack/__init__.py:33: UserWarning: Setuptools is replacing distutils.\n",
      "  warnings.warn(\"Setuptools is replacing distutils.\")\n"
     ]
    },
    {
     "data": {
      "text/html": [
       "<pre style=\"white-space:pre;overflow-x:auto;line-height:normal;font-family:Menlo,'DejaVu Sans Mono',consolas,'Courier New',monospace\">Collecting split-folders\n",
       "</pre>\n"
      ],
      "text/plain": [
       "Collecting split-folders\n"
      ]
     },
     "metadata": {},
     "output_type": "display_data"
    },
    {
     "data": {
      "text/html": [
       "<pre style=\"white-space:pre;overflow-x:auto;line-height:normal;font-family:Menlo,'DejaVu Sans Mono',consolas,'Courier New',monospace\">  Downloading split_folders-0.5.1-py3-none-any.whl (8.4 kB)\n",
       "</pre>\n"
      ],
      "text/plain": [
       "  Downloading split_folders-0.5.1-py3-none-any.whl (8.4 kB)\n"
      ]
     },
     "metadata": {},
     "output_type": "display_data"
    },
    {
     "data": {
      "text/html": [
       "<pre style=\"white-space:pre;overflow-x:auto;line-height:normal;font-family:Menlo,'DejaVu Sans Mono',consolas,'Courier New',monospace\">Requirement already satisfied: opendatasets in /usr/local/lib/python3.9/dist-packages (0.1.22)\n",
       "</pre>\n"
      ],
      "text/plain": [
       "Requirement already satisfied: opendatasets in /usr/local/lib/python3.9/dist-packages (0.1.22)\n"
      ]
     },
     "metadata": {},
     "output_type": "display_data"
    },
    {
     "data": {
      "text/html": [
       "<pre style=\"white-space:pre;overflow-x:auto;line-height:normal;font-family:Menlo,'DejaVu Sans Mono',consolas,'Courier New',monospace\">Requirement already satisfied: click in /usr/local/lib/python3.9/dist-packages (from opendatasets) (8.1.3)\n",
       "</pre>\n"
      ],
      "text/plain": [
       "Requirement already satisfied: click in /usr/local/lib/python3.9/dist-packages (from opendatasets) (8.1.3)\n"
      ]
     },
     "metadata": {},
     "output_type": "display_data"
    },
    {
     "data": {
      "text/html": [
       "<pre style=\"white-space:pre;overflow-x:auto;line-height:normal;font-family:Menlo,'DejaVu Sans Mono',consolas,'Courier New',monospace\">Requirement already satisfied: kaggle in /usr/local/lib/python3.9/dist-packages (from opendatasets) (1.5.12)\n",
       "</pre>\n"
      ],
      "text/plain": [
       "Requirement already satisfied: kaggle in /usr/local/lib/python3.9/dist-packages (from opendatasets) (1.5.12)\n"
      ]
     },
     "metadata": {},
     "output_type": "display_data"
    },
    {
     "data": {
      "text/html": [
       "<pre style=\"white-space:pre;overflow-x:auto;line-height:normal;font-family:Menlo,'DejaVu Sans Mono',consolas,'Courier New',monospace\">Requirement already satisfied: tqdm in /usr/local/lib/python3.9/dist-packages (from opendatasets) (4.64.0)\n",
       "</pre>\n"
      ],
      "text/plain": [
       "Requirement already satisfied: tqdm in /usr/local/lib/python3.9/dist-packages (from opendatasets) (4.64.0)\n"
      ]
     },
     "metadata": {},
     "output_type": "display_data"
    },
    {
     "data": {
      "text/html": [
       "<pre style=\"white-space:pre;overflow-x:auto;line-height:normal;font-family:Menlo,'DejaVu Sans Mono',consolas,'Courier New',monospace\">Requirement already satisfied: six&gt;=1.10 in /usr/lib/python3/dist-packages (from kaggle-&gt;opendatasets) (1.14.0)\n",
       "</pre>\n"
      ],
      "text/plain": [
       "Requirement already satisfied: six>=1.10 in /usr/lib/python3/dist-packages (from kaggle->opendatasets) (1.14.0)\n"
      ]
     },
     "metadata": {},
     "output_type": "display_data"
    },
    {
     "data": {
      "text/html": [
       "<pre style=\"white-space:pre;overflow-x:auto;line-height:normal;font-family:Menlo,'DejaVu Sans Mono',consolas,'Courier New',monospace\">Requirement already satisfied: python-dateutil in /usr/local/lib/python3.9/dist-packages (from kaggle-&gt;opendatasets) (2.8.2)\n",
       "</pre>\n"
      ],
      "text/plain": [
       "Requirement already satisfied: python-dateutil in /usr/local/lib/python3.9/dist-packages (from kaggle->opendatasets) (2.8.2)\n"
      ]
     },
     "metadata": {},
     "output_type": "display_data"
    },
    {
     "data": {
      "text/html": [
       "<pre style=\"white-space:pre;overflow-x:auto;line-height:normal;font-family:Menlo,'DejaVu Sans Mono',consolas,'Courier New',monospace\">Requirement already satisfied: requests in /usr/local/lib/python3.9/dist-packages (from kaggle-&gt;opendatasets) (2.28.1)\n",
       "</pre>\n"
      ],
      "text/plain": [
       "Requirement already satisfied: requests in /usr/local/lib/python3.9/dist-packages (from kaggle->opendatasets) (2.28.1)\n"
      ]
     },
     "metadata": {},
     "output_type": "display_data"
    },
    {
     "data": {
      "text/html": [
       "<pre style=\"white-space:pre;overflow-x:auto;line-height:normal;font-family:Menlo,'DejaVu Sans Mono',consolas,'Courier New',monospace\">Requirement already satisfied: python-slugify in /usr/lib/python3/dist-packages (from kaggle-&gt;opendatasets) (4.0.0)\n",
       "</pre>\n"
      ],
      "text/plain": [
       "Requirement already satisfied: python-slugify in /usr/lib/python3/dist-packages (from kaggle->opendatasets) (4.0.0)\n"
      ]
     },
     "metadata": {},
     "output_type": "display_data"
    },
    {
     "data": {
      "text/html": [
       "<pre style=\"white-space:pre;overflow-x:auto;line-height:normal;font-family:Menlo,'DejaVu Sans Mono',consolas,'Courier New',monospace\">Requirement already satisfied: certifi in /usr/lib/python3/dist-packages (from kaggle-&gt;opendatasets) (2019.11.28)\n",
       "</pre>\n"
      ],
      "text/plain": [
       "Requirement already satisfied: certifi in /usr/lib/python3/dist-packages (from kaggle->opendatasets) (2019.11.28)\n"
      ]
     },
     "metadata": {},
     "output_type": "display_data"
    },
    {
     "data": {
      "text/html": [
       "<pre style=\"white-space:pre;overflow-x:auto;line-height:normal;font-family:Menlo,'DejaVu Sans Mono',consolas,'Courier New',monospace\">Requirement already satisfied: urllib3 in /usr/local/lib/python3.9/dist-packages (from kaggle-&gt;opendatasets) (1.26.10)\n",
       "</pre>\n"
      ],
      "text/plain": [
       "Requirement already satisfied: urllib3 in /usr/local/lib/python3.9/dist-packages (from kaggle->opendatasets) (1.26.10)\n"
      ]
     },
     "metadata": {},
     "output_type": "display_data"
    },
    {
     "data": {
      "text/html": [
       "<pre style=\"white-space:pre;overflow-x:auto;line-height:normal;font-family:Menlo,'DejaVu Sans Mono',consolas,'Courier New',monospace\">Requirement already satisfied: charset-normalizer&lt;3,&gt;=2 in /usr/local/lib/python3.9/dist-packages (from requests-&gt;kaggle-&gt;opendatasets) (2.1.0)\n",
       "</pre>\n"
      ],
      "text/plain": [
       "Requirement already satisfied: charset-normalizer<3,>=2 in /usr/local/lib/python3.9/dist-packages (from requests->kaggle->opendatasets) (2.1.0)\n"
      ]
     },
     "metadata": {},
     "output_type": "display_data"
    },
    {
     "data": {
      "text/html": [
       "<pre style=\"white-space:pre;overflow-x:auto;line-height:normal;font-family:Menlo,'DejaVu Sans Mono',consolas,'Courier New',monospace\">Requirement already satisfied: idna&lt;4,&gt;=2.5 in /usr/lib/python3/dist-packages (from requests-&gt;kaggle-&gt;opendatasets) (2.8)\n",
       "</pre>\n"
      ],
      "text/plain": [
       "Requirement already satisfied: idna<4,>=2.5 in /usr/lib/python3/dist-packages (from requests->kaggle->opendatasets) (2.8)\n"
      ]
     },
     "metadata": {},
     "output_type": "display_data"
    },
    {
     "data": {
      "text/html": [
       "<pre style=\"white-space:pre;overflow-x:auto;line-height:normal;font-family:Menlo,'DejaVu Sans Mono',consolas,'Courier New',monospace\">Installing collected packages: split-folders\n",
       "</pre>\n"
      ],
      "text/plain": [
       "Installing collected packages: split-folders\n"
      ]
     },
     "metadata": {},
     "output_type": "display_data"
    },
    {
     "data": {
      "text/html": [
       "<pre style=\"white-space:pre;overflow-x:auto;line-height:normal;font-family:Menlo,'DejaVu Sans Mono',consolas,'Courier New',monospace\">Successfully installed split-folders-0.5.1\n",
       "</pre>\n"
      ],
      "text/plain": [
       "Successfully installed split-folders-0.5.1\n"
      ]
     },
     "metadata": {},
     "output_type": "display_data"
    },
    {
     "data": {
      "text/html": [
       "<pre style=\"white-space:pre;overflow-x:auto;line-height:normal;font-family:Menlo,'DejaVu Sans Mono',consolas,'Courier New',monospace\"><span style=\"color: #808000; text-decoration-color: #808000\">WARNING: Running pip as the 'root' user can result in broken permissions and conflicting behaviour with the system package manager. It is recommended to use a virtual environment instead: https://pip.pypa.io/warnings/venv\n",
       "</span></pre>\n"
      ],
      "text/plain": [
       "\u001b[33mWARNING: Running pip as the 'root' user can result in broken permissions and conflicting behaviour with the system package manager. It is recommended to use a virtual environment instead: https://pip.pypa.io/warnings/venv\u001b[0m\u001b[33m\n",
       "\u001b[0m"
      ]
     },
     "metadata": {},
     "output_type": "display_data"
    },
    {
     "data": {
      "text/html": [
       "<pre style=\"white-space:pre;overflow-x:auto;line-height:normal;font-family:Menlo,'DejaVu Sans Mono',consolas,'Courier New',monospace\">Collecting split-folders\n",
       "</pre>\n"
      ],
      "text/plain": [
       "Collecting split-folders\n"
      ]
     },
     "metadata": {},
     "output_type": "display_data"
    },
    {
     "data": {
      "text/html": [
       "<pre style=\"white-space:pre;overflow-x:auto;line-height:normal;font-family:Menlo,'DejaVu Sans Mono',consolas,'Courier New',monospace\">  Using cached split_folders-0.5.1-py3-none-any.whl (8.4 kB)\n",
       "</pre>\n"
      ],
      "text/plain": [
       "  Using cached split_folders-0.5.1-py3-none-any.whl (8.4 kB)\n"
      ]
     },
     "metadata": {},
     "output_type": "display_data"
    },
    {
     "data": {
      "text/html": [
       "<pre style=\"white-space:pre;overflow-x:auto;line-height:normal;font-family:Menlo,'DejaVu Sans Mono',consolas,'Courier New',monospace\">Requirement already satisfied: opendatasets in /usr/local/lib/python3.9/dist-packages (0.1.22)\n",
       "</pre>\n"
      ],
      "text/plain": [
       "Requirement already satisfied: opendatasets in /usr/local/lib/python3.9/dist-packages (0.1.22)\n"
      ]
     },
     "metadata": {},
     "output_type": "display_data"
    },
    {
     "data": {
      "text/html": [
       "<pre style=\"white-space:pre;overflow-x:auto;line-height:normal;font-family:Menlo,'DejaVu Sans Mono',consolas,'Courier New',monospace\">Requirement already satisfied: click in /usr/local/lib/python3.9/dist-packages (from opendatasets) (8.1.3)\n",
       "</pre>\n"
      ],
      "text/plain": [
       "Requirement already satisfied: click in /usr/local/lib/python3.9/dist-packages (from opendatasets) (8.1.3)\n"
      ]
     },
     "metadata": {},
     "output_type": "display_data"
    },
    {
     "data": {
      "text/html": [
       "<pre style=\"white-space:pre;overflow-x:auto;line-height:normal;font-family:Menlo,'DejaVu Sans Mono',consolas,'Courier New',monospace\">Requirement already satisfied: kaggle in /usr/local/lib/python3.9/dist-packages (from opendatasets) (1.5.12)\n",
       "</pre>\n"
      ],
      "text/plain": [
       "Requirement already satisfied: kaggle in /usr/local/lib/python3.9/dist-packages (from opendatasets) (1.5.12)\n"
      ]
     },
     "metadata": {},
     "output_type": "display_data"
    },
    {
     "data": {
      "text/html": [
       "<pre style=\"white-space:pre;overflow-x:auto;line-height:normal;font-family:Menlo,'DejaVu Sans Mono',consolas,'Courier New',monospace\">Requirement already satisfied: tqdm in /usr/local/lib/python3.9/dist-packages (from opendatasets) (4.64.0)\n",
       "</pre>\n"
      ],
      "text/plain": [
       "Requirement already satisfied: tqdm in /usr/local/lib/python3.9/dist-packages (from opendatasets) (4.64.0)\n"
      ]
     },
     "metadata": {},
     "output_type": "display_data"
    },
    {
     "data": {
      "text/html": [
       "<pre style=\"white-space:pre;overflow-x:auto;line-height:normal;font-family:Menlo,'DejaVu Sans Mono',consolas,'Courier New',monospace\">Requirement already satisfied: six&gt;=1.10 in /usr/lib/python3/dist-packages (from kaggle-&gt;opendatasets) (1.14.0)\n",
       "</pre>\n"
      ],
      "text/plain": [
       "Requirement already satisfied: six>=1.10 in /usr/lib/python3/dist-packages (from kaggle->opendatasets) (1.14.0)\n"
      ]
     },
     "metadata": {},
     "output_type": "display_data"
    },
    {
     "data": {
      "text/html": [
       "<pre style=\"white-space:pre;overflow-x:auto;line-height:normal;font-family:Menlo,'DejaVu Sans Mono',consolas,'Courier New',monospace\">Requirement already satisfied: python-dateutil in /usr/local/lib/python3.9/dist-packages (from kaggle-&gt;opendatasets) (2.8.2)\n",
       "</pre>\n"
      ],
      "text/plain": [
       "Requirement already satisfied: python-dateutil in /usr/local/lib/python3.9/dist-packages (from kaggle->opendatasets) (2.8.2)\n"
      ]
     },
     "metadata": {},
     "output_type": "display_data"
    },
    {
     "data": {
      "text/html": [
       "<pre style=\"white-space:pre;overflow-x:auto;line-height:normal;font-family:Menlo,'DejaVu Sans Mono',consolas,'Courier New',monospace\">Requirement already satisfied: requests in /usr/local/lib/python3.9/dist-packages (from kaggle-&gt;opendatasets) (2.28.1)\n",
       "</pre>\n"
      ],
      "text/plain": [
       "Requirement already satisfied: requests in /usr/local/lib/python3.9/dist-packages (from kaggle->opendatasets) (2.28.1)\n"
      ]
     },
     "metadata": {},
     "output_type": "display_data"
    },
    {
     "data": {
      "text/html": [
       "<pre style=\"white-space:pre;overflow-x:auto;line-height:normal;font-family:Menlo,'DejaVu Sans Mono',consolas,'Courier New',monospace\">Requirement already satisfied: python-slugify in /usr/lib/python3/dist-packages (from kaggle-&gt;opendatasets) (4.0.0)\n",
       "</pre>\n"
      ],
      "text/plain": [
       "Requirement already satisfied: python-slugify in /usr/lib/python3/dist-packages (from kaggle->opendatasets) (4.0.0)\n"
      ]
     },
     "metadata": {},
     "output_type": "display_data"
    },
    {
     "data": {
      "text/html": [
       "<pre style=\"white-space:pre;overflow-x:auto;line-height:normal;font-family:Menlo,'DejaVu Sans Mono',consolas,'Courier New',monospace\">Requirement already satisfied: certifi in /usr/lib/python3/dist-packages (from kaggle-&gt;opendatasets) (2019.11.28)\n",
       "</pre>\n"
      ],
      "text/plain": [
       "Requirement already satisfied: certifi in /usr/lib/python3/dist-packages (from kaggle->opendatasets) (2019.11.28)\n"
      ]
     },
     "metadata": {},
     "output_type": "display_data"
    },
    {
     "data": {
      "text/html": [
       "<pre style=\"white-space:pre;overflow-x:auto;line-height:normal;font-family:Menlo,'DejaVu Sans Mono',consolas,'Courier New',monospace\">Requirement already satisfied: urllib3 in /usr/local/lib/python3.9/dist-packages (from kaggle-&gt;opendatasets) (1.26.10)\n",
       "</pre>\n"
      ],
      "text/plain": [
       "Requirement already satisfied: urllib3 in /usr/local/lib/python3.9/dist-packages (from kaggle->opendatasets) (1.26.10)\n"
      ]
     },
     "metadata": {},
     "output_type": "display_data"
    },
    {
     "data": {
      "text/html": [
       "<pre style=\"white-space:pre;overflow-x:auto;line-height:normal;font-family:Menlo,'DejaVu Sans Mono',consolas,'Courier New',monospace\">Requirement already satisfied: charset-normalizer&lt;3,&gt;=2 in /usr/local/lib/python3.9/dist-packages (from requests-&gt;kaggle-&gt;opendatasets) (2.1.0)\n",
       "</pre>\n"
      ],
      "text/plain": [
       "Requirement already satisfied: charset-normalizer<3,>=2 in /usr/local/lib/python3.9/dist-packages (from requests->kaggle->opendatasets) (2.1.0)\n"
      ]
     },
     "metadata": {},
     "output_type": "display_data"
    },
    {
     "data": {
      "text/html": [
       "<pre style=\"white-space:pre;overflow-x:auto;line-height:normal;font-family:Menlo,'DejaVu Sans Mono',consolas,'Courier New',monospace\">Requirement already satisfied: idna&lt;4,&gt;=2.5 in /usr/lib/python3/dist-packages (from requests-&gt;kaggle-&gt;opendatasets) (2.8)\n",
       "</pre>\n"
      ],
      "text/plain": [
       "Requirement already satisfied: idna<4,>=2.5 in /usr/lib/python3/dist-packages (from requests->kaggle->opendatasets) (2.8)\n"
      ]
     },
     "metadata": {},
     "output_type": "display_data"
    },
    {
     "data": {
      "text/html": [
       "<pre style=\"white-space:pre;overflow-x:auto;line-height:normal;font-family:Menlo,'DejaVu Sans Mono',consolas,'Courier New',monospace\">Installing collected packages: split-folders\n",
       "</pre>\n"
      ],
      "text/plain": [
       "Installing collected packages: split-folders\n"
      ]
     },
     "metadata": {},
     "output_type": "display_data"
    },
    {
     "data": {
      "text/html": [
       "<pre style=\"white-space:pre;overflow-x:auto;line-height:normal;font-family:Menlo,'DejaVu Sans Mono',consolas,'Courier New',monospace\">Successfully installed split-folders-0.5.1\n",
       "</pre>\n"
      ],
      "text/plain": [
       "Successfully installed split-folders-0.5.1\n"
      ]
     },
     "metadata": {},
     "output_type": "display_data"
    },
    {
     "data": {
      "text/html": [
       "<pre style=\"white-space:pre;overflow-x:auto;line-height:normal;font-family:Menlo,'DejaVu Sans Mono',consolas,'Courier New',monospace\"><span style=\"color: #808000; text-decoration-color: #808000\">WARNING: Running pip as the 'root' user can result in broken permissions and conflicting behaviour with the system package manager. It is recommended to use a virtual environment instead: https://pip.pypa.io/warnings/venv\n",
       "</span></pre>\n"
      ],
      "text/plain": [
       "\u001b[33mWARNING: Running pip as the 'root' user can result in broken permissions and conflicting behaviour with the system package manager. It is recommended to use a virtual environment instead: https://pip.pypa.io/warnings/venv\u001b[0m\u001b[33m\n",
       "\u001b[0m"
      ]
     },
     "metadata": {},
     "output_type": "display_data"
    }
   ],
   "source": [
    "# importing libraries\n",
    "# File management and utilities packages\n",
    "import os\n",
    "import random\n",
    "import shutil\n",
    "import pathlib\n",
    "from pathlib import Path\n",
    "from typing import List, Dict, Tuple\n",
    "import matplotlib.pyplot as plt\n",
    "import pandas as pd\n",
    "from PIL import Image\n",
    "from tqdm.auto import tqdm\n",
    "from timeit import default_timer as timer\n",
    "from IPython.display import IFrame\n",
    "!pip install -q opendatasets\n",
    "import opendatasets\n",
    "\n",
    "# Gradio package for deployment\n",
    "!pip install -q gradio\n",
    "!pip install -q altair\n",
    "import gradio as gr\n",
    "\n",
    "# PyTorch Packages\n",
    "import torch\n",
    "from torch import nn\n",
    "import torchvision\n",
    "from torchvision import transforms\n",
    "from torch.utils.data import DataLoader\n",
    "!pip install -q torchinfo\n",
    "from torchinfo import summary\n",
    "\n",
    "# My modular script packages\n",
    "from model_scripts import data_setup, engine, utils, image_plot\n",
    "from helper_scripts import get_data, plot_loss_curves, get_full_data\n",
    "\n",
    "# Warnings package\n",
    "import warnings\n",
    "warnings.filterwarnings(\"ignore\", \"(Possibly )?corrupt EXIF data\", UserWarning)"
   ]
  },
  {
   "cell_type": "code",
   "execution_count": 3,
   "metadata": {
    "colab": {
     "base_uri": "https://localhost:8080/",
     "height": 36
    },
    "id": "jJKbMueHKb_K",
    "outputId": "6a088cab-e244-49b7-fe93-5109c66b79a4",
    "tags": []
   },
   "outputs": [
    {
     "data": {
      "text/plain": [
       "'cuda'"
      ]
     },
     "execution_count": 3,
     "metadata": {},
     "output_type": "execute_result"
    }
   ],
   "source": [
    "# setting up device agnostic\n",
    "device = 'cuda' if torch.cuda.is_available() else 'cpu'\n",
    "device"
   ]
  },
  {
   "cell_type": "code",
   "execution_count": 4,
   "metadata": {
    "id": "QVD-d7_hV_n6",
    "tags": []
   },
   "outputs": [],
   "source": [
    "# create a function for random seed\n",
    "def set_seed(seed: int):\n",
    "    torch.manual_seed(seed)\n",
    "    torch.cuda.manual_seed(seed)"
   ]
  },
  {
   "cell_type": "markdown",
   "metadata": {
    "id": "fcQQiCvZOHLj"
   },
   "source": [
    "## Data Setup\n",
    "\n",
    "Downloading the 3 class data with the help of helper scripts."
   ]
  },
  {
   "cell_type": "code",
   "execution_count": 4,
   "metadata": {
    "colab": {
     "base_uri": "https://localhost:8080/"
    },
    "id": "qBj27Fd3LooZ",
    "outputId": "46f778db-bfb9-4e91-ef0e-50855dcb4d8b",
    "tags": []
   },
   "outputs": [
    {
     "name": "stdout",
     "output_type": "stream",
     "text": [
      "Downloading data...\n",
      "Please provide your Kaggle credentials to download this dataset. Learn more: http://bit.ly/kaggle-creds\n",
      "Your Kaggle username:"
     ]
    },
    {
     "name": "stdin",
     "output_type": "stream",
     "text": [
      "  johnp47\n"
     ]
    },
    {
     "name": "stdout",
     "output_type": "stream",
     "text": [
      "Your Kaggle Key:"
     ]
    },
    {
     "name": "stdin",
     "output_type": "stream",
     "text": [
      "  ································\n"
     ]
    },
    {
     "name": "stdout",
     "output_type": "stream",
     "text": [
      "Downloading cheetahtigerwolf.zip to temp_data/cheetahtigerwolf\n"
     ]
    },
    {
     "name": "stderr",
     "output_type": "stream",
     "text": [
      "100%|██████████| 2.51G/2.51G [00:27<00:00, 96.5MB/s]\n"
     ]
    },
    {
     "name": "stdout",
     "output_type": "stream",
     "text": [
      "\n",
      "\n",
      "Copying raw data...\n",
      "LION directory created and files copied in \"temp_data/animal_data/LION\"\n",
      "TIGER directory created and files copied in \"temp_data/animal_data/TIGER\"\n",
      "WOLF directory created and files copied in \"temp_data/animal_data/WOLF\"\n",
      "\n",
      "Spliting data in Train and Test set\n"
     ]
    },
    {
     "name": "stderr",
     "output_type": "stream",
     "text": [
      "Copying files: 2432 files [00:06, 371.19 files/s]\n"
     ]
    },
    {
     "name": "stdout",
     "output_type": "stream",
     "text": [
      "\n",
      "temp_data directory is deleted\n"
     ]
    }
   ],
   "source": [
    "# download the data using the script\n",
    "get_data.download_data()"
   ]
  },
  {
   "cell_type": "code",
   "execution_count": 10,
   "metadata": {
    "id": "pdNLkj6iM8RK"
   },
   "outputs": [],
   "source": [
    "# data directory\n",
    "train_dir = Path(\"data/lion_tiger_wolf/train\")\n",
    "test_dir = Path(\"data/lion_tiger_wolf/val\")"
   ]
  },
  {
   "cell_type": "markdown",
   "metadata": {
    "id": "zSGLz8DQNu5I"
   },
   "source": [
    "## Feature Extraction - EfficientNetB2\n",
    "\n",
    "In the experiment notebook we understood that EfficientNetB2 was the best pre-trained network to work with, so lets start with initiating the network as per the pytorch library method."
   ]
  },
  {
   "cell_type": "code",
   "execution_count": 8,
   "metadata": {
    "id": "FlydDtx5Ur1C",
    "tags": []
   },
   "outputs": [],
   "source": [
    "# Create a function to build a pretrained EfficientNetB2 model\n",
    "def create_effnetb2_model(num_classes: int=3,\n",
    "                          seed: int=42):\n",
    "    \"\"\"\n",
    "    Create a feature extraction efficientNetB2 model and transforms.\n",
    "    Args: \n",
    "          num_classes: A integer number for classes in the classifier head.\n",
    "          seed: A random seed.\n",
    "    Returns:\n",
    "          model: A model of EfficientNetB2.\n",
    "          transforms: A torchvision image transforms based out of the EfficientNetb2.\n",
    "    \"\"\"\n",
    "    # Setup pretrained weights\n",
    "    weights = torchvision.models.EfficientNet_B2_Weights.DEFAULT\n",
    "    \n",
    "    # Get EfficientNetB2 transforms\n",
    "    transforms = weights.transforms()\n",
    "    \n",
    "    # Setup the EfficientNetB2 model\n",
    "    model = torchvision.models.efficientnet_b2(weights=weights)\n",
    "    \n",
    "    # Freeze the parameters of the model\n",
    "    for params in model.parameters():\n",
    "        params.requires_grad = False\n",
    "    \n",
    "    # Change the head classifier to the number of classes as output\n",
    "    torch.manual_seed(seed)\n",
    "    model.classifier[1] = nn.Linear(in_features=1408, out_features=num_classes)\n",
    "    \n",
    "    return model, transforms"
   ]
  },
  {
   "cell_type": "code",
   "execution_count": 7,
   "metadata": {
    "colab": {
     "base_uri": "https://localhost:8080/",
     "height": 1000,
     "referenced_widgets": [
      "c0c7686cb60c4ec2a57c9837d26e4691",
      "935f9353e2fd407397cc7a38eebce9bc",
      "955f852d2fb8405993a54a507d24e5e6",
      "da8b2c7c2e8544beb25109f1ec029e9f",
      "93868ce9d06343e299deab9e7bf9e2ac",
      "20638decc217426b867e1907d8a117ee",
      "037f596ad6174aa6ab326640105d5f3a",
      "b74aede22b554edf9eaa0f8f452420d9",
      "1d943dbefbd74964accb2236981c0597",
      "36e0652c579742fcb8939f74fe0bc9f3",
      "5db24fa0f5084c43b22cd77d414c66c6"
     ]
    },
    "id": "u-eJ5NxuV-W3",
    "outputId": "7ee774ca-5230-42cf-8c0a-7210b843a77a"
   },
   "outputs": [
    {
     "data": {
      "text/plain": [
       "============================================================================================================================================\n",
       "Layer (type (var_name))                                      Input Shape          Output Shape         Param #              Trainable\n",
       "============================================================================================================================================\n",
       "EfficientNet (EfficientNet)                                  [32, 3, 224, 224]    [32, 3]              --                   Partial\n",
       "├─Sequential (features)                                      [32, 3, 224, 224]    [32, 1408, 7, 7]     --                   False\n",
       "│    └─Conv2dNormActivation (0)                              [32, 3, 224, 224]    [32, 32, 112, 112]   --                   False\n",
       "│    │    └─Conv2d (0)                                       [32, 3, 224, 224]    [32, 32, 112, 112]   (864)                False\n",
       "│    │    └─BatchNorm2d (1)                                  [32, 32, 112, 112]   [32, 32, 112, 112]   (64)                 False\n",
       "│    │    └─SiLU (2)                                         [32, 32, 112, 112]   [32, 32, 112, 112]   --                   --\n",
       "│    └─Sequential (1)                                        [32, 32, 112, 112]   [32, 16, 112, 112]   --                   False\n",
       "│    │    └─MBConv (0)                                       [32, 32, 112, 112]   [32, 16, 112, 112]   (1,448)              False\n",
       "│    │    └─MBConv (1)                                       [32, 16, 112, 112]   [32, 16, 112, 112]   (612)                False\n",
       "│    └─Sequential (2)                                        [32, 16, 112, 112]   [32, 24, 56, 56]     --                   False\n",
       "│    │    └─MBConv (0)                                       [32, 16, 112, 112]   [32, 24, 56, 56]     (6,004)              False\n",
       "│    │    └─MBConv (1)                                       [32, 24, 56, 56]     [32, 24, 56, 56]     (10,710)             False\n",
       "│    │    └─MBConv (2)                                       [32, 24, 56, 56]     [32, 24, 56, 56]     (10,710)             False\n",
       "│    └─Sequential (3)                                        [32, 24, 56, 56]     [32, 48, 28, 28]     --                   False\n",
       "│    │    └─MBConv (0)                                       [32, 24, 56, 56]     [32, 48, 28, 28]     (16,518)             False\n",
       "│    │    └─MBConv (1)                                       [32, 48, 28, 28]     [32, 48, 28, 28]     (43,308)             False\n",
       "│    │    └─MBConv (2)                                       [32, 48, 28, 28]     [32, 48, 28, 28]     (43,308)             False\n",
       "│    └─Sequential (4)                                        [32, 48, 28, 28]     [32, 88, 14, 14]     --                   False\n",
       "│    │    └─MBConv (0)                                       [32, 48, 28, 28]     [32, 88, 14, 14]     (50,300)             False\n",
       "│    │    └─MBConv (1)                                       [32, 88, 14, 14]     [32, 88, 14, 14]     (123,750)            False\n",
       "│    │    └─MBConv (2)                                       [32, 88, 14, 14]     [32, 88, 14, 14]     (123,750)            False\n",
       "│    │    └─MBConv (3)                                       [32, 88, 14, 14]     [32, 88, 14, 14]     (123,750)            False\n",
       "│    └─Sequential (5)                                        [32, 88, 14, 14]     [32, 120, 14, 14]    --                   False\n",
       "│    │    └─MBConv (0)                                       [32, 88, 14, 14]     [32, 120, 14, 14]    (149,158)            False\n",
       "│    │    └─MBConv (1)                                       [32, 120, 14, 14]    [32, 120, 14, 14]    (237,870)            False\n",
       "│    │    └─MBConv (2)                                       [32, 120, 14, 14]    [32, 120, 14, 14]    (237,870)            False\n",
       "│    │    └─MBConv (3)                                       [32, 120, 14, 14]    [32, 120, 14, 14]    (237,870)            False\n",
       "│    └─Sequential (6)                                        [32, 120, 14, 14]    [32, 208, 7, 7]      --                   False\n",
       "│    │    └─MBConv (0)                                       [32, 120, 14, 14]    [32, 208, 7, 7]      (301,406)            False\n",
       "│    │    └─MBConv (1)                                       [32, 208, 7, 7]      [32, 208, 7, 7]      (686,868)            False\n",
       "│    │    └─MBConv (2)                                       [32, 208, 7, 7]      [32, 208, 7, 7]      (686,868)            False\n",
       "│    │    └─MBConv (3)                                       [32, 208, 7, 7]      [32, 208, 7, 7]      (686,868)            False\n",
       "│    │    └─MBConv (4)                                       [32, 208, 7, 7]      [32, 208, 7, 7]      (686,868)            False\n",
       "│    └─Sequential (7)                                        [32, 208, 7, 7]      [32, 352, 7, 7]      --                   False\n",
       "│    │    └─MBConv (0)                                       [32, 208, 7, 7]      [32, 352, 7, 7]      (846,900)            False\n",
       "│    │    └─MBConv (1)                                       [32, 352, 7, 7]      [32, 352, 7, 7]      (1,888,920)          False\n",
       "│    └─Conv2dNormActivation (8)                              [32, 352, 7, 7]      [32, 1408, 7, 7]     --                   False\n",
       "│    │    └─Conv2d (0)                                       [32, 352, 7, 7]      [32, 1408, 7, 7]     (495,616)            False\n",
       "│    │    └─BatchNorm2d (1)                                  [32, 1408, 7, 7]     [32, 1408, 7, 7]     (2,816)              False\n",
       "│    │    └─SiLU (2)                                         [32, 1408, 7, 7]     [32, 1408, 7, 7]     --                   --\n",
       "├─AdaptiveAvgPool2d (avgpool)                                [32, 1408, 7, 7]     [32, 1408, 1, 1]     --                   --\n",
       "├─Sequential (classifier)                                    [32, 1408]           [32, 3]              --                   True\n",
       "│    └─Dropout (0)                                           [32, 1408]           [32, 1408]           --                   --\n",
       "│    └─Linear (1)                                            [32, 1408]           [32, 3]              4,227                True\n",
       "============================================================================================================================================\n",
       "Total params: 7,705,221\n",
       "Trainable params: 4,227\n",
       "Non-trainable params: 7,700,994\n",
       "Total mult-adds (G): 21.04\n",
       "============================================================================================================================================\n",
       "Input size (MB): 19.27\n",
       "Forward/backward pass size (MB): 5017.53\n",
       "Params size (MB): 30.82\n",
       "Estimated Total Size (MB): 5067.62\n",
       "============================================================================================================================================"
      ]
     },
     "execution_count": 7,
     "metadata": {},
     "output_type": "execute_result"
    }
   ],
   "source": [
    "# Create a efficientNetB2 model and transforms\n",
    "effnetb2, effnetb2_transforms = create_effnetb2_model(num_classes=3,\n",
    "                                                      seed=42)\n",
    "\n",
    "# View the model\n",
    "summary(effnetb2, (32, 3, 224, 224), col_names=['input_size', 'output_size', 'num_params', 'trainable'], col_width=20, row_settings=['var_names'])"
   ]
  },
  {
   "cell_type": "code",
   "execution_count": 8,
   "metadata": {
    "id": "nMraDS8vYzhP"
   },
   "outputs": [],
   "source": [
    "# create dataloaders for EfficientNetB2\n",
    "effnetb2_train_dataloader, effnetb2_test_dataloader, class_names = data_setup.create_dataloaders(train_dir=train_dir,\n",
    "                                                                                                 test_dir=test_dir,\n",
    "                                                                                                 transform=effnetb2_transforms,\n",
    "                                                                                                 batch_size=32)"
   ]
  },
  {
   "cell_type": "code",
   "execution_count": 9,
   "metadata": {
    "colab": {
     "base_uri": "https://localhost:8080/",
     "height": 257,
     "referenced_widgets": [
      "4d4112ee464a4b539889536d540da320",
      "382988e3d6004fbca73fa02c678af1b2",
      "dc6420fb3763440e96f4ac8a68265cf7",
      "6acbab4dfdcb4a1faff2b51300d51861",
      "4d1bd244924540f68a07ecb1fb66d35f",
      "f95d5c664e724905904367654ae93462",
      "322aa56b2ddd4b6e97c1a4d5febf06c7",
      "d86ec96f2e054b41bf1bf6b672b6ab02",
      "75a074269730442aa58ce2cd180a5da1",
      "ffc5fca84daa402a8f899f9dd65b2464",
      "3a5a69e3374a41968af0bd7468aee36c"
     ]
    },
    "id": "gn5kIj-GOg21",
    "outputId": "9794ff31-1689-495a-a751-0f48c9188da8"
   },
   "outputs": [
    {
     "name": "stdout",
     "output_type": "stream",
     "text": [
      "\n",
      "[INFO] Creating SummaryWriter, saving to: runs/12-12-2022/animal_vision_mini/effnetb2...\n"
     ]
    },
    {
     "data": {
      "application/vnd.jupyter.widget-view+json": {
       "model_id": "e6e5d825d885477da6dcbb2cd8a910a5",
       "version_major": 2,
       "version_minor": 0
      },
      "text/plain": [
       "  0%|          | 0/10 [00:00<?, ?it/s]"
      ]
     },
     "metadata": {},
     "output_type": "display_data"
    },
    {
     "name": "stdout",
     "output_type": "stream",
     "text": [
      "Epoch: 1 | train_loss: 0.5251 , train_acc: 0.8402 | test_loss: 0.2403, test_acc: 0.9355\n",
      "Epoch: 2 | train_loss: 0.2840 , train_acc: 0.9040 | test_loss: 0.1886, test_acc: 0.9336\n",
      "Epoch: 3 | train_loss: 0.2313 , train_acc: 0.9269 | test_loss: 0.1652, test_acc: 0.9473\n",
      "Epoch: 4 | train_loss: 0.2084 , train_acc: 0.9327 | test_loss: 0.1489, test_acc: 0.9551\n",
      "Epoch: 5 | train_loss: 0.2123 , train_acc: 0.9249 | test_loss: 0.1464, test_acc: 0.9492\n",
      "Epoch: 6 | train_loss: 0.1834 , train_acc: 0.9365 | test_loss: 0.1412, test_acc: 0.9492\n",
      "Epoch: 7 | train_loss: 0.1741 , train_acc: 0.9360 | test_loss: 0.1423, test_acc: 0.9492\n",
      "Epoch: 8 | train_loss: 0.1562 , train_acc: 0.9489 | test_loss: 0.1335, test_acc: 0.9434\n",
      "Epoch: 9 | train_loss: 0.1624 , train_acc: 0.9425 | test_loss: 0.1329, test_acc: 0.9453\n",
      "Epoch: 10 | train_loss: 0.1510 , train_acc: 0.9450 | test_loss: 0.1306, test_acc: 0.9473\n"
     ]
    }
   ],
   "source": [
    "# Training the effnetb2 feature extractor model\n",
    "# Setup loss and optimizer\n",
    "loss_fn = nn.CrossEntropyLoss()\n",
    "optimizer = torch.optim.Adam(params=effnetb2.parameters(),\n",
    "                             lr=1e-3)\n",
    "\n",
    "# set seed for random and train the model\n",
    "set_seed(42)\n",
    "effnetb2_results = engine.train(model=effnetb2,\n",
    "                                train_dataloader=effnetb2_train_dataloader,\n",
    "                                test_dataloader=effnetb2_test_dataloader,\n",
    "                                loss_fn=loss_fn,\n",
    "                                optimizer=optimizer,\n",
    "                                epochs=10,\n",
    "                                device=device,\n",
    "                                writer=engine.create_writer('animal_vision_mini',\n",
    "                                                            model_name='effnetb2'))"
   ]
  },
  {
   "cell_type": "code",
   "execution_count": 10,
   "metadata": {
    "colab": {
     "base_uri": "https://localhost:8080/",
     "height": 458
    },
    "id": "Lx14c8xVZBjT",
    "outputId": "b47039de-b3c3-4e4a-908d-d803764edc38"
   },
   "outputs": [
    {
     "data": {
      "image/png": "[encoded data removed]",
      "text/plain": [
       "<Figure size 1080x504 with 2 Axes>"
      ]
     },
     "metadata": {
      "needs_background": "light"
     },
     "output_type": "display_data"
    }
   ],
   "source": [
    "# Plot the loss and accuracy curves from the training result\n",
    "plot_loss_curves.plot_curves(effnetb2_results)"
   ]
  },
  {
   "cell_type": "code",
   "execution_count": 11,
   "metadata": {
    "colab": {
     "base_uri": "https://localhost:8080/"
    },
    "id": "Ue2f_yE7ZmFH",
    "outputId": "7d965eb6-4d97-49f4-ef2e-08f047e0dede"
   },
   "outputs": [
    {
     "name": "stdout",
     "output_type": "stream",
     "text": [
      "\n",
      "[INFO] Saving Model to: models/pretrained_effnetb2_animal_vision_mini.pth\n"
     ]
    }
   ],
   "source": [
    "# saving the model\n",
    "utils.save_model(model=effnetb2,\n",
    "                 target_dir='models',\n",
    "                 model_name='pretrained_effnetb2_animal_vision_mini.pth')"
   ]
  },
  {
   "cell_type": "code",
   "execution_count": 12,
   "metadata": {
    "colab": {
     "base_uri": "https://localhost:8080/"
    },
    "id": "1JOuw-5WbTr1",
    "outputId": "231adcec-4e8b-4e2e-e8f4-c58a496b74a4"
   },
   "outputs": [
    {
     "name": "stdout",
     "output_type": "stream",
     "text": [
      "Pretrained EfficientNetB2 feature extracted model size: 29 MB\n"
     ]
    }
   ],
   "source": [
    "# checking the size of the saved effnetb2 model\n",
    "effnetb2_model_size = Path('models/pretrained_effnetb2_animal_vision_mini.pth').stat().st_size // (1024*1024)\n",
    "print(f'Pretrained EfficientNetB2 feature extracted model size: {effnetb2_model_size} MB')"
   ]
  },
  {
   "cell_type": "code",
   "execution_count": 13,
   "metadata": {
    "colab": {
     "base_uri": "https://localhost:8080/"
    },
    "id": "wSNZumY4cmwD",
    "outputId": "07b7295a-bf7e-46e3-84e5-3806b0e65b85"
   },
   "outputs": [
    {
     "name": "stdout",
     "output_type": "stream",
     "text": [
      "Total parameters in the EfficientNetB2 model: 7705221\n"
     ]
    }
   ],
   "source": [
    "# count the total number of parameters in effnetb2 model\n",
    "effnetb2_total_params = sum(torch.numel(params) for params in effnetb2.parameters())\n",
    "print(f'Total parameters in the EfficientNetB2 model: {effnetb2_total_params}')"
   ]
  },
  {
   "cell_type": "code",
   "execution_count": 14,
   "metadata": {
    "colab": {
     "base_uri": "https://localhost:8080/"
    },
    "id": "IPpsH7CCeAPC",
    "outputId": "4788585e-aaf2-45ad-b010-fbefe5161fe3"
   },
   "outputs": [
    {
     "data": {
      "text/plain": [
       "{'test_loss': 0.13064462156035006,\n",
       " 'test_acc': 0.947265625,\n",
       " 'number_of_parameters': 7705221,\n",
       " 'model_size(MB)': 29}"
      ]
     },
     "execution_count": 14,
     "metadata": {},
     "output_type": "execute_result"
    }
   ],
   "source": [
    "# Create a dictionary for statistics\n",
    "effnetb2_stats = {\"test_loss\": effnetb2_results['test_loss'][-1],\n",
    "                  'test_acc': effnetb2_results['test_acc'][-1],\n",
    "                  'number_of_parameters': effnetb2_total_params,\n",
    "                  'model_size(MB)': effnetb2_model_size}\n",
    "effnetb2_stats"
   ]
  },
  {
   "cell_type": "markdown",
   "metadata": {},
   "source": [
    "We have got similar results when we used it in the experiment notebook, this implies we are on the right track.\n",
    "\n",
    "Lets move forward and use the second pre-trained model."
   ]
  },
  {
   "cell_type": "markdown",
   "metadata": {
    "id": "wQtJM-8uxMTf"
   },
   "source": [
    "## Feature Extraction - Vision Transformer(ViT)\n",
    "\n",
    "In the experiment notebook we looked at a unique model called Vision Transformer, in this notebook we will go a little deep with this pre-trained model along with the EfficientNetB2 model."
   ]
  },
  {
   "cell_type": "code",
   "execution_count": 15,
   "metadata": {
    "id": "ZYOkB4nDx0RJ"
   },
   "outputs": [],
   "source": [
    "# Create a function to build a pretrained Vision Transformer Base 16 model\n",
    "def create_vit_model(num_classes: int=3,\n",
    "                     seed: int=42):\n",
    "    \"\"\"\n",
    "    Create a feature extraction ViT Base 16 model and transforms.\n",
    "    Args: \n",
    "          num_classes: A integer number for classes in the classifier head.\n",
    "          seed: A random seed.\n",
    "    Returns:\n",
    "          model: A model of Vision Transformer Base 16.\n",
    "          transforms: A torchvision image transforms based out of the vit_b_16.\n",
    "    \"\"\"\n",
    "    # Setup pretrained weights\n",
    "    weights = torchvision.models.ViT_B_16_Weights.DEFAULT\n",
    "    \n",
    "    # Get EfficientNetB2 transforms\n",
    "    transforms = weights.transforms()\n",
    "    \n",
    "    # Setup the EfficientNetB2 model\n",
    "    model = torchvision.models.vit_b_16(weights=weights)\n",
    "    \n",
    "    # Freeze the parameters of the model\n",
    "    for params in model.parameters():\n",
    "        params.requires_grad = False\n",
    "    \n",
    "    # Change the head classifier with a random seed\n",
    "    torch.manual_seed(seed)\n",
    "    model.heads = nn.Sequential(nn.Linear(in_features=768, out_features=num_classes))\n",
    "    \n",
    "    return model, transforms"
   ]
  },
  {
   "cell_type": "code",
   "execution_count": 16,
   "metadata": {
    "colab": {
     "base_uri": "https://localhost:8080/",
     "referenced_widgets": [
      "251396c8859341c3ae59ce94524d2f36",
      "a6698108086847bda1cb4170d267c881",
      "0ee0b8cb02714d62ae561f92c4f32f0b",
      "d30dbb8319124b9b975791ff51ef0ba2",
      "d3645b5aab2b48398f48572e30fc02de",
      "a7d149e7bd43498bb19e4d1de996b2fc",
      "c612ec3dc941424c8a2ce804081f03b7",
      "d751ce6e625c4f788296db84343e09dd",
      "e65b48b24c8b4bdda0c0647a2ca99535",
      "109e74e70a424c1d93bf0f1721e0f46d",
      "e838a4f644db4c3a8f0abb7db73b4875"
     ]
    },
    "id": "8hvQm4tF4k6U",
    "outputId": "bc08a0b4-3f2b-4924-f2fc-f49eb0fdd302"
   },
   "outputs": [
    {
     "name": "stderr",
     "output_type": "stream",
     "text": [
      "Downloading: \"https://download.pytorch.org/models/vit_b_16-c867db91.pth\" to /root/.cache/torch/hub/checkpoints/vit_b_16-c867db91.pth\n"
     ]
    },
    {
     "data": {
      "application/vnd.jupyter.widget-view+json": {
       "model_id": "f78b85852c8c4bc09dccdcdf75b9de10",
       "version_major": 2,
       "version_minor": 0
      },
      "text/plain": [
       "  0%|          | 0.00/330M [00:00<?, ?B/s]"
      ]
     },
     "metadata": {},
     "output_type": "display_data"
    }
   ],
   "source": [
    "# Create ViT model and transforms\n",
    "vit, vit_transforms = create_vit_model(num_classes=3,\n",
    "                                       seed=42)"
   ]
  },
  {
   "cell_type": "code",
   "execution_count": 17,
   "metadata": {
    "colab": {
     "base_uri": "https://localhost:8080/"
    },
    "id": "3jDw-fcL_8L2",
    "outputId": "addcbd3f-8cf4-4c0c-9941-391cd7949c87"
   },
   "outputs": [
    {
     "data": {
      "text/plain": [
       "============================================================================================================================================\n",
       "Layer (type (var_name))                                      Input Shape          Output Shape         Param #              Trainable\n",
       "============================================================================================================================================\n",
       "VisionTransformer (VisionTransformer)                        [32, 3, 224, 224]    [32, 3]              768                  Partial\n",
       "├─Conv2d (conv_proj)                                         [32, 3, 224, 224]    [32, 768, 14, 14]    (590,592)            False\n",
       "├─Encoder (encoder)                                          [32, 197, 768]       [32, 197, 768]       151,296              False\n",
       "│    └─Dropout (dropout)                                     [32, 197, 768]       [32, 197, 768]       --                   --\n",
       "│    └─Sequential (layers)                                   [32, 197, 768]       [32, 197, 768]       --                   False\n",
       "│    │    └─EncoderBlock (encoder_layer_0)                   [32, 197, 768]       [32, 197, 768]       (7,087,872)          False\n",
       "│    │    └─EncoderBlock (encoder_layer_1)                   [32, 197, 768]       [32, 197, 768]       (7,087,872)          False\n",
       "│    │    └─EncoderBlock (encoder_layer_2)                   [32, 197, 768]       [32, 197, 768]       (7,087,872)          False\n",
       "│    │    └─EncoderBlock (encoder_layer_3)                   [32, 197, 768]       [32, 197, 768]       (7,087,872)          False\n",
       "│    │    └─EncoderBlock (encoder_layer_4)                   [32, 197, 768]       [32, 197, 768]       (7,087,872)          False\n",
       "│    │    └─EncoderBlock (encoder_layer_5)                   [32, 197, 768]       [32, 197, 768]       (7,087,872)          False\n",
       "│    │    └─EncoderBlock (encoder_layer_6)                   [32, 197, 768]       [32, 197, 768]       (7,087,872)          False\n",
       "│    │    └─EncoderBlock (encoder_layer_7)                   [32, 197, 768]       [32, 197, 768]       (7,087,872)          False\n",
       "│    │    └─EncoderBlock (encoder_layer_8)                   [32, 197, 768]       [32, 197, 768]       (7,087,872)          False\n",
       "│    │    └─EncoderBlock (encoder_layer_9)                   [32, 197, 768]       [32, 197, 768]       (7,087,872)          False\n",
       "│    │    └─EncoderBlock (encoder_layer_10)                  [32, 197, 768]       [32, 197, 768]       (7,087,872)          False\n",
       "│    │    └─EncoderBlock (encoder_layer_11)                  [32, 197, 768]       [32, 197, 768]       (7,087,872)          False\n",
       "│    └─LayerNorm (ln)                                        [32, 197, 768]       [32, 197, 768]       (1,536)              False\n",
       "├─Sequential (heads)                                         [32, 768]            [32, 3]              --                   True\n",
       "│    └─Linear (0)                                            [32, 768]            [32, 3]              2,307                True\n",
       "============================================================================================================================================\n",
       "Total params: 85,800,963\n",
       "Trainable params: 2,307\n",
       "Non-trainable params: 85,798,656\n",
       "Total mult-adds (G): 5.52\n",
       "============================================================================================================================================\n",
       "Input size (MB): 19.27\n",
       "Forward/backward pass size (MB): 3330.74\n",
       "Params size (MB): 229.20\n",
       "Estimated Total Size (MB): 3579.21\n",
       "============================================================================================================================================"
      ]
     },
     "execution_count": 17,
     "metadata": {},
     "output_type": "execute_result"
    }
   ],
   "source": [
    "# summary of the vit model\n",
    "summary(vit, input_size=(32, 3, 224, 224), col_names=['input_size', 'output_size', 'num_params', 'trainable'], col_width=20, row_settings=['var_names'])"
   ]
  },
  {
   "cell_type": "code",
   "execution_count": 18,
   "metadata": {
    "id": "IHncxOQsAkOF"
   },
   "outputs": [],
   "source": [
    "# create dataloaders for vit model\n",
    "vit_train_dataloader, vit_test_dataloader, class_names = data_setup.create_dataloaders(train_dir=train_dir,\n",
    "                                                                                       test_dir=test_dir,\n",
    "                                                                                       transform=vit_transforms,\n",
    "                                                                                       batch_size=32)"
   ]
  },
  {
   "cell_type": "code",
   "execution_count": 19,
   "metadata": {
    "colab": {
     "base_uri": "https://localhost:8080/",
     "referenced_widgets": [
      "666cf9d7543f4ac6a965620e80e38287",
      "10fc564e0c24498aa152d8c8f3e46abf",
      "c23d78f979aa4506889358b4e360773e",
      "9e2e495cacd840839d4cb0189863644a",
      "256a04e69b0f4947b47d614e141a0c1e",
      "4e41d7cc9d1544208849518be27bfd21",
      "c5c006c68e4145bc951dbcc0adfb323a",
      "8162c63e237047d79e485a4d7266e245",
      "3fb8ff946bae408a804ca929146ec7a8",
      "cfc4786c55f34e0f8a12f6078e99fcbd",
      "62d8f5016aee4655ac26098bf60b9b5a"
     ]
    },
    "id": "BR52GsnIA95m",
    "outputId": "cbd80c7e-c30f-49a4-ca37-25bf874774e3"
   },
   "outputs": [
    {
     "name": "stdout",
     "output_type": "stream",
     "text": [
      "\n",
      "[INFO] Creating SummaryWriter, saving to: runs/12-12-2022/animal_vision_mini/vit...\n"
     ]
    },
    {
     "data": {
      "application/vnd.jupyter.widget-view+json": {
       "model_id": "85e088213f544b479b1793c39c295255",
       "version_major": 2,
       "version_minor": 0
      },
      "text/plain": [
       "  0%|          | 0/10 [00:00<?, ?it/s]"
      ]
     },
     "metadata": {},
     "output_type": "display_data"
    },
    {
     "name": "stdout",
     "output_type": "stream",
     "text": [
      "Epoch: 1 | train_loss: 0.2407 , train_acc: 0.9232 | test_loss: 0.1074, test_acc: 0.9551\n",
      "Epoch: 2 | train_loss: 0.1183 , train_acc: 0.9575 | test_loss: 0.1002, test_acc: 0.9648\n",
      "Epoch: 3 | train_loss: 0.1024 , train_acc: 0.9633 | test_loss: 0.0958, test_acc: 0.9648\n",
      "Epoch: 4 | train_loss: 0.0887 , train_acc: 0.9664 | test_loss: 0.0970, test_acc: 0.9551\n",
      "Epoch: 5 | train_loss: 0.0795 , train_acc: 0.9728 | test_loss: 0.0950, test_acc: 0.9570\n",
      "Epoch: 6 | train_loss: 0.0731 , train_acc: 0.9732 | test_loss: 0.0960, test_acc: 0.9551\n",
      "Epoch: 7 | train_loss: 0.0686 , train_acc: 0.9754 | test_loss: 0.0943, test_acc: 0.9551\n",
      "Epoch: 8 | train_loss: 0.0649 , train_acc: 0.9754 | test_loss: 0.0943, test_acc: 0.9551\n",
      "Epoch: 9 | train_loss: 0.0612 , train_acc: 0.9759 | test_loss: 0.0943, test_acc: 0.9551\n",
      "Epoch: 10 | train_loss: 0.0593 , train_acc: 0.9778 | test_loss: 0.0980, test_acc: 0.9551\n"
     ]
    }
   ],
   "source": [
    "# Training the vit feature extractor model\n",
    "# Setup loss and optimizer\n",
    "loss_fn = nn.CrossEntropyLoss()\n",
    "optimizer = torch.optim.Adam(params=vit.parameters(),\n",
    "                             lr=1e-3)\n",
    "\n",
    "# set seed for random and train the model\n",
    "set_seed(42)\n",
    "vit_results = engine.train(model=vit,\n",
    "                           train_dataloader=vit_train_dataloader,\n",
    "                           test_dataloader=vit_test_dataloader,\n",
    "                           loss_fn=loss_fn,\n",
    "                           optimizer=optimizer,\n",
    "                           epochs=10,\n",
    "                           device=device,\n",
    "                           writer=engine.create_writer('animal_vision_mini',\n",
    "                                                       model_name='vit'))"
   ]
  },
  {
   "cell_type": "code",
   "execution_count": 20,
   "metadata": {
    "colab": {
     "base_uri": "https://localhost:8080/"
    },
    "id": "ThIs-G63BbdX",
    "outputId": "3ae09593-0be8-46fd-b684-fbb1ee4eb380"
   },
   "outputs": [
    {
     "data": {
      "image/png": "[encoded data removed]",
      "text/plain": [
       "<Figure size 1080x504 with 2 Axes>"
      ]
     },
     "metadata": {
      "needs_background": "light"
     },
     "output_type": "display_data"
    }
   ],
   "source": [
    "# Plot the loss and accuracy curves from the training result\n",
    "plot_loss_curves.plot_curves(vit_results)"
   ]
  },
  {
   "cell_type": "code",
   "execution_count": 21,
   "metadata": {
    "colab": {
     "base_uri": "https://localhost:8080/"
    },
    "id": "T2oca-TiBimp",
    "outputId": "341e6c74-0af7-41d7-ad03-6a1cdbd4fffd"
   },
   "outputs": [
    {
     "name": "stdout",
     "output_type": "stream",
     "text": [
      "\n",
      "[INFO] Saving Model to: models/pretrained_vit_animal_vision_mini.pth\n"
     ]
    }
   ],
   "source": [
    "# saving the model\n",
    "utils.save_model(model=vit,\n",
    "                 target_dir='models',\n",
    "                 model_name='pretrained_vit_animal_vision_mini.pth')"
   ]
  },
  {
   "cell_type": "code",
   "execution_count": 22,
   "metadata": {
    "colab": {
     "base_uri": "https://localhost:8080/"
    },
    "id": "gazDpeqiBuMs",
    "outputId": "de49dede-c956-49a0-9b2e-0e9ddde2bd43"
   },
   "outputs": [
    {
     "name": "stdout",
     "output_type": "stream",
     "text": [
      "Pretrained Vision Transformer Base 16 feature extracted model size: 327 MB\n"
     ]
    }
   ],
   "source": [
    "# checking the size of the saved vit model\n",
    "vit_model_size = Path('models/pretrained_vit_animal_vision_mini.pth').stat().st_size // (1024*1024)\n",
    "print(f'Pretrained Vision Transformer Base 16 feature extracted model size: {vit_model_size} MB')"
   ]
  },
  {
   "cell_type": "code",
   "execution_count": 23,
   "metadata": {
    "colab": {
     "base_uri": "https://localhost:8080/"
    },
    "id": "8hZVSxArCFP5",
    "outputId": "8ffe5e07-c558-4a4f-9e20-a86b81cf3a38"
   },
   "outputs": [
    {
     "name": "stdout",
     "output_type": "stream",
     "text": [
      "Total parameters in the EfficientNetB2 model: 85800963\n"
     ]
    }
   ],
   "source": [
    "# count the total number of parameters in vit model\n",
    "vit_total_params = sum(torch.numel(params) for params in vit.parameters())\n",
    "print(f'Total parameters in the EfficientNetB2 model: {vit_total_params}')"
   ]
  },
  {
   "cell_type": "code",
   "execution_count": 24,
   "metadata": {
    "colab": {
     "base_uri": "https://localhost:8080/"
    },
    "id": "l-OTfpvnQeO2",
    "outputId": "7031e8ab-3b00-439d-e389-5df4190bb8d4"
   },
   "outputs": [
    {
     "data": {
      "text/plain": [
       "{'test_loss': 0.0980054639003356,\n",
       " 'test_acc': 0.955078125,\n",
       " 'number_of_parameters': 85800963,\n",
       " 'model_size(MB)': 327}"
      ]
     },
     "execution_count": 24,
     "metadata": {},
     "output_type": "execute_result"
    }
   ],
   "source": [
    "# Create a dictionary for statistics\n",
    "vit_stats = {\"test_loss\": vit_results['test_loss'][-1],\n",
    "             'test_acc': vit_results['test_acc'][-1],\n",
    "             'number_of_parameters': vit_total_params,\n",
    "             'model_size(MB)': vit_model_size}\n",
    "vit_stats"
   ]
  },
  {
   "cell_type": "markdown",
   "metadata": {},
   "source": [
    "Here also results are similar to the experiment notebook, now lets do some perdiction and comparison."
   ]
  },
  {
   "cell_type": "markdown",
   "metadata": {
    "id": "SUnP9JokRd7j"
   },
   "source": [
    "## Make Prediction using our Models"
   ]
  },
  {
   "cell_type": "code",
   "execution_count": 25,
   "metadata": {
    "colab": {
     "base_uri": "https://localhost:8080/"
    },
    "id": "0LKhNXwNSRet",
    "outputId": "f1212211-42db-48a4-c828-99f55d854f23"
   },
   "outputs": [
    {
     "name": "stdout",
     "output_type": "stream",
     "text": [
      "Finding all paths in directory ending with .jpg: data/lion_tiger_wolf/val\n"
     ]
    },
    {
     "data": {
      "text/plain": [
       "([PosixPath('data/lion_tiger_wolf/val/WOLF/images616.jpg'),\n",
       "  PosixPath('data/lion_tiger_wolf/val/WOLF/images209.jpg'),\n",
       "  PosixPath('data/lion_tiger_wolf/val/WOLF/images542.jpg'),\n",
       "  PosixPath('data/lion_tiger_wolf/val/WOLF/images553.jpg'),\n",
       "  PosixPath('data/lion_tiger_wolf/val/WOLF/images490.jpg')],\n",
       " 443)"
      ]
     },
     "execution_count": 25,
     "metadata": {},
     "output_type": "execute_result"
    }
   ],
   "source": [
    "# Getting all the test paths in a list\n",
    "print(f'Finding all paths in directory ending with .jpg: {test_dir}')\n",
    "test_data_paths_raw = list(Path(test_dir).glob('*/*.jpg'))\n",
    "test_data_paths_raw[:5], len(test_data_paths_raw)"
   ]
  },
  {
   "cell_type": "code",
   "execution_count": 26,
   "metadata": {
    "colab": {
     "base_uri": "https://localhost:8080/"
    },
    "id": "WLPNDMefUy_R",
    "outputId": "6bed1a19-0d8d-451c-c096-6ab2ccba411c"
   },
   "outputs": [
    {
     "name": "stdout",
     "output_type": "stream",
     "text": [
      "Length of the test dataset paths after cleaning the data: 439\n"
     ]
    }
   ],
   "source": [
    "# Cleaning the test path data\n",
    "test_data_paths_clean = []\n",
    "for i in test_data_paths_raw:\n",
    "    img_color_channels = plt.imread(i).shape[2]\n",
    "    if img_color_channels == 3:\n",
    "        test_data_paths_clean.append(i)\n",
    "print(f'Length of the test dataset paths after cleaning the data: {len(test_data_paths_clean)}')"
   ]
  },
  {
   "cell_type": "code",
   "execution_count": 27,
   "metadata": {
    "id": "POMWNdtCTUsR"
   },
   "outputs": [],
   "source": [
    "# Create a function to predict and timeit\n",
    "def pred_and_store(paths: List[pathlib.Path],\n",
    "                   model: torch.nn.Module,\n",
    "                   transform: torchvision.transforms,\n",
    "                   class_names: List[str],\n",
    "                   device: str='cuda' if torch.cuda.is_available() else 'cpu') -> List[Dict]:\n",
    "    # A list to store the prediction result dictionary\n",
    "    pred_list = []\n",
    "    \n",
    "    # Loop through all the test images path\n",
    "    for path in tqdm(paths):\n",
    "        \n",
    "        # A dict to store all the prediction results\n",
    "        pred_dict = {}\n",
    "        \n",
    "        # Get the sample path and actual label names\n",
    "        pred_dict['image_path'] = path\n",
    "        class_name = path.parent.stem\n",
    "        pred_dict['class_name'] = class_name\n",
    "        \n",
    "        # Start the timer\n",
    "        start_time = timer()\n",
    "        \n",
    "        # Open image path\n",
    "        img = Image.open(path)\n",
    "        \n",
    "        # Transform and batch the image data\n",
    "        transformed_img = transform(img).unsqueeze(dim=0).to(device)\n",
    "        \n",
    "        # Prepare the model for inference\n",
    "        model.to(device)\n",
    "        model.eval()\n",
    "        \n",
    "        # Get prediction probabilities, label, and class.\n",
    "        with torch.inference_mode():\n",
    "            pred_logit = model(transformed_img)\n",
    "            pred_prob = torch.softmax(pred_logit, dim=1)\n",
    "            pred_label = torch.argmax(pred_prob, dim=1)\n",
    "            pred_class = class_names[pred_label.cpu()]\n",
    "            \n",
    "            # Adding the prediction probabilities and classes to the dictionary\n",
    "            pred_dict['pred_prob'] = round(pred_prob.unsqueeze(dim=0).max().cpu().item(), 4)\n",
    "            pred_dict['pred_class'] = pred_class\n",
    "            \n",
    "        # End the timer and calculate and store the time\n",
    "        end_time = timer()\n",
    "        pred_dict['time_for_pred'] = round(end_time - start_time, 4)\n",
    "    \n",
    "    # Does the prediction match the actual label?\n",
    "    pred_dict['correct'] = class_name == pred_class\n",
    "    \n",
    "    # Add the prediction dictionary to the list\n",
    "    pred_list.append(pred_dict)\n",
    "    \n",
    "    return pred_list      "
   ]
  },
  {
   "cell_type": "markdown",
   "metadata": {
    "id": "nN529tWQjQHz"
   },
   "source": [
    "## EfficientNetB2 Prediction"
   ]
  },
  {
   "cell_type": "code",
   "execution_count": 28,
   "metadata": {
    "colab": {
     "base_uri": "https://localhost:8080/",
     "referenced_widgets": [
      "c1021017c3af4668a5762447bd9e21df",
      "fac480c369cf4a668e9820afeaf5574e",
      "c66e45c3781b4652b1746bf66e40c8e0",
      "bb9151e5b0db438cb27bc55b95ff1289",
      "dedafdccbc764298b18645fd2eee7fd8",
      "3a1ec68bba6a4f32b4f45640e55f7cba",
      "583b3030d5934c548789f4377adee40c",
      "30e3fe6361ba4beb8644bfec1b65aa7c",
      "2b0aa39f8a8242919130f382a14538b6",
      "341857c408f941e5a513d853ba2f1757",
      "daca49a1fdc34fd6af7ac307e9bf1fcd"
     ]
    },
    "id": "CypQ4518dMka",
    "outputId": "4fd5fee6-d305-463d-e850-1863d586c876"
   },
   "outputs": [
    {
     "data": {
      "application/vnd.jupyter.widget-view+json": {
       "model_id": "6fc9bb2735ca423aaa187ef59bf3346a",
       "version_major": 2,
       "version_minor": 0
      },
      "text/plain": [
       "  0%|          | 0/439 [00:00<?, ?it/s]"
      ]
     },
     "metadata": {},
     "output_type": "display_data"
    }
   ],
   "source": [
    "# Making prediction using the test data with the EfficientNetB2 Model\n",
    "effnetb2_test_pred_dict = pred_and_store(paths=test_data_paths_clean,\n",
    "                                         model=effnetb2,\n",
    "                                         transform=effnetb2_transforms,\n",
    "                                         class_names=class_names,\n",
    "                                         device='cpu')"
   ]
  },
  {
   "cell_type": "code",
   "execution_count": 29,
   "metadata": {
    "colab": {
     "base_uri": "https://localhost:8080/"
    },
    "id": "zIPRlnxsec8R",
    "outputId": "1ae4cf85-47bf-4605-c3e7-849794f0ed0a"
   },
   "outputs": [
    {
     "data": {
      "text/plain": [
       "[{'image_path': PosixPath('data/lion_tiger_wolf/val/TIGER/images252.jpg'),\n",
       "  'class_name': 'TIGER',\n",
       "  'pred_prob': 0.6468,\n",
       "  'pred_class': 'TIGER',\n",
       "  'time_for_pred': 0.0609,\n",
       "  'correct': True}]"
      ]
     },
     "execution_count": 29,
     "metadata": {},
     "output_type": "execute_result"
    }
   ],
   "source": [
    "# check the first 5 prediction\n",
    "effnetb2_test_pred_dict[:5]"
   ]
  },
  {
   "cell_type": "code",
   "execution_count": 30,
   "metadata": {
    "colab": {
     "base_uri": "https://localhost:8080/"
    },
    "id": "jr4H6NvFy8Gc",
    "outputId": "8ab1d5da-10c9-40b4-e5a4-5461aecbc627"
   },
   "outputs": [
    {
     "data": {
      "text/html": [
       "<div>\n",
       "<style scoped>\n",
       "    .dataframe tbody tr th:only-of-type {\n",
       "        vertical-align: middle;\n",
       "    }\n",
       "\n",
       "    .dataframe tbody tr th {\n",
       "        vertical-align: top;\n",
       "    }\n",
       "\n",
       "    .dataframe thead th {\n",
       "        text-align: right;\n",
       "    }\n",
       "</style>\n",
       "<table border=\"1\" class=\"dataframe\">\n",
       "  <thead>\n",
       "    <tr style=\"text-align: right;\">\n",
       "      <th></th>\n",
       "      <th>image_path</th>\n",
       "      <th>class_name</th>\n",
       "      <th>pred_prob</th>\n",
       "      <th>pred_class</th>\n",
       "      <th>time_for_pred</th>\n",
       "      <th>correct</th>\n",
       "    </tr>\n",
       "  </thead>\n",
       "  <tbody>\n",
       "    <tr>\n",
       "      <th>0</th>\n",
       "      <td>data/lion_tiger_wolf/val/TIGER/images252.jpg</td>\n",
       "      <td>TIGER</td>\n",
       "      <td>0.6468</td>\n",
       "      <td>TIGER</td>\n",
       "      <td>0.0609</td>\n",
       "      <td>True</td>\n",
       "    </tr>\n",
       "  </tbody>\n",
       "</table>\n",
       "</div>"
      ],
      "text/plain": [
       "                                     image_path class_name  pred_prob  \\\n",
       "0  data/lion_tiger_wolf/val/TIGER/images252.jpg      TIGER     0.6468   \n",
       "\n",
       "  pred_class  time_for_pred  correct  \n",
       "0      TIGER         0.0609     True  "
      ]
     },
     "execution_count": 30,
     "metadata": {},
     "output_type": "execute_result"
    }
   ],
   "source": [
    "# Turn test prediction dictionary into a dataframe\n",
    "effnetb2_test_pred_df = pd.DataFrame(effnetb2_test_pred_dict)\n",
    "effnetb2_test_pred_df"
   ]
  },
  {
   "cell_type": "code",
   "execution_count": 31,
   "metadata": {
    "colab": {
     "base_uri": "https://localhost:8080/"
    },
    "id": "mSfeANCizjai",
    "outputId": "af95abe7-8833-4244-82b2-433ef097d7a3"
   },
   "outputs": [
    {
     "data": {
      "text/plain": [
       "correct\n",
       "True    1\n",
       "dtype: int64"
      ]
     },
     "execution_count": 31,
     "metadata": {},
     "output_type": "execute_result"
    }
   ],
   "source": [
    "# check number of correct predictions\n",
    "effnetb2_test_pred_df.value_counts('correct')"
   ]
  },
  {
   "cell_type": "code",
   "execution_count": 32,
   "metadata": {
    "colab": {
     "base_uri": "https://localhost:8080/"
    },
    "id": "68lTbSv2gVL7",
    "outputId": "8790fba7-c6ff-4a7d-ca61-4a8a3b3854f2"
   },
   "outputs": [
    {
     "name": "stdout",
     "output_type": "stream",
     "text": [
      "Average prediction time per image using EfficientNetB2 model: 0.0609\n"
     ]
    }
   ],
   "source": [
    "# Average prediction time per image in test data\n",
    "effnetb2_average_pred_time = round(effnetb2_test_pred_df['time_for_pred'].mean(), 4)\n",
    "print(f'Average prediction time per image using EfficientNetB2 model: {effnetb2_average_pred_time}')"
   ]
  },
  {
   "cell_type": "code",
   "execution_count": 33,
   "metadata": {
    "colab": {
     "base_uri": "https://localhost:8080/"
    },
    "id": "VFgHNPLChDF9",
    "outputId": "14622733-3c24-425e-89e4-cda270520591"
   },
   "outputs": [
    {
     "data": {
      "text/plain": [
       "{'test_loss': 0.13064462156035006,\n",
       " 'test_acc': 0.947265625,\n",
       " 'number_of_parameters': 7705221,\n",
       " 'model_size(MB)': 29,\n",
       " 'avg_pred_time_cpu': 0.0609}"
      ]
     },
     "execution_count": 33,
     "metadata": {},
     "output_type": "execute_result"
    }
   ],
   "source": [
    "# Adding the average prediction time to the EfficientNetB2 stats dictionary\n",
    "effnetb2_stats['avg_pred_time_cpu'] = effnetb2_average_pred_time\n",
    "effnetb2_stats"
   ]
  },
  {
   "cell_type": "markdown",
   "metadata": {
    "id": "akN9Zda9i7BU"
   },
   "source": [
    "## Vision Transform Base 16 Prediction"
   ]
  },
  {
   "cell_type": "code",
   "execution_count": 34,
   "metadata": {
    "colab": {
     "base_uri": "https://localhost:8080/",
     "referenced_widgets": [
      "840797f27e9241e9a622d7fe13f8ba4c",
      "29f28c718220448b967ede71b6aa3cfe",
      "f8941783cd3c48628d5b1e0ccba15c8d",
      "1ab99dd2c9ad42ff856bc34ccf5c8912",
      "93da5596abac4b37acfd462133efc373",
      "a1a34b1712d64e6d83ec28824883ac8f",
      "0c07a17183744396a99b153217c179b5",
      "e248a50f3d0a4029b97423131719e536",
      "e01cc4ec70c9425dbd249ef5ad463d78",
      "b50b2cadca3d4f1f8269ce3a55fcaf07",
      "658d6008d43b4a9594080cd1998a4cd2"
     ]
    },
    "id": "_Pgwyv3ZjfUb",
    "outputId": "be7130df-095c-45c0-a122-f817188cd374"
   },
   "outputs": [
    {
     "data": {
      "application/vnd.jupyter.widget-view+json": {
       "model_id": "227b27f896864659b9290570e6658088",
       "version_major": 2,
       "version_minor": 0
      },
      "text/plain": [
       "  0%|          | 0/439 [00:00<?, ?it/s]"
      ]
     },
     "metadata": {},
     "output_type": "display_data"
    }
   ],
   "source": [
    "# Making prediction using the test data with the ViT Model\n",
    "vit_test_pred_dict = pred_and_store(paths=test_data_paths_clean,\n",
    "                                          model=vit,\n",
    "                                          transform=vit_transforms,\n",
    "                                          class_names=class_names,\n",
    "                                          device='cpu')"
   ]
  },
  {
   "cell_type": "code",
   "execution_count": 35,
   "metadata": {
    "colab": {
     "base_uri": "https://localhost:8080/"
    },
    "id": "vDrntaX6j9bh",
    "outputId": "4e016183-545e-4c91-b385-37255ac9cf41"
   },
   "outputs": [
    {
     "data": {
      "text/plain": [
       "[{'image_path': PosixPath('data/lion_tiger_wolf/val/TIGER/images252.jpg'),\n",
       "  'class_name': 'TIGER',\n",
       "  'pred_prob': 0.995,\n",
       "  'pred_class': 'TIGER',\n",
       "  'time_for_pred': 0.2474,\n",
       "  'correct': True}]"
      ]
     },
     "execution_count": 35,
     "metadata": {},
     "output_type": "execute_result"
    }
   ],
   "source": [
    "# check the first 5 prediction\n",
    "vit_test_pred_dict[:5]"
   ]
  },
  {
   "cell_type": "code",
   "execution_count": 36,
   "metadata": {
    "colab": {
     "base_uri": "https://localhost:8080/"
    },
    "id": "mciJDCnAk_Vl",
    "outputId": "29124f8d-dfd2-415b-ce3c-dc12e8f578e2"
   },
   "outputs": [
    {
     "data": {
      "text/html": [
       "<div>\n",
       "<style scoped>\n",
       "    .dataframe tbody tr th:only-of-type {\n",
       "        vertical-align: middle;\n",
       "    }\n",
       "\n",
       "    .dataframe tbody tr th {\n",
       "        vertical-align: top;\n",
       "    }\n",
       "\n",
       "    .dataframe thead th {\n",
       "        text-align: right;\n",
       "    }\n",
       "</style>\n",
       "<table border=\"1\" class=\"dataframe\">\n",
       "  <thead>\n",
       "    <tr style=\"text-align: right;\">\n",
       "      <th></th>\n",
       "      <th>image_path</th>\n",
       "      <th>class_name</th>\n",
       "      <th>pred_prob</th>\n",
       "      <th>pred_class</th>\n",
       "      <th>time_for_pred</th>\n",
       "      <th>correct</th>\n",
       "    </tr>\n",
       "  </thead>\n",
       "  <tbody>\n",
       "    <tr>\n",
       "      <th>0</th>\n",
       "      <td>data/lion_tiger_wolf/val/TIGER/images252.jpg</td>\n",
       "      <td>TIGER</td>\n",
       "      <td>0.995</td>\n",
       "      <td>TIGER</td>\n",
       "      <td>0.2474</td>\n",
       "      <td>True</td>\n",
       "    </tr>\n",
       "  </tbody>\n",
       "</table>\n",
       "</div>"
      ],
      "text/plain": [
       "                                     image_path class_name  pred_prob  \\\n",
       "0  data/lion_tiger_wolf/val/TIGER/images252.jpg      TIGER      0.995   \n",
       "\n",
       "  pred_class  time_for_pred  correct  \n",
       "0      TIGER         0.2474     True  "
      ]
     },
     "execution_count": 36,
     "metadata": {},
     "output_type": "execute_result"
    }
   ],
   "source": [
    "# transforming the dict to dataframe\n",
    "vit_test_pred_df = pd.DataFrame(vit_test_pred_dict)\n",
    "vit_test_pred_df"
   ]
  },
  {
   "cell_type": "code",
   "execution_count": 37,
   "metadata": {
    "colab": {
     "base_uri": "https://localhost:8080/"
    },
    "id": "9HJI_N-mlZ2c",
    "outputId": "e1daab4e-46da-48dd-9192-7af23b75ee21"
   },
   "outputs": [
    {
     "data": {
      "text/plain": [
       "correct\n",
       "True    1\n",
       "dtype: int64"
      ]
     },
     "execution_count": 37,
     "metadata": {},
     "output_type": "execute_result"
    }
   ],
   "source": [
    "# counting the correct values\n",
    "vit_test_pred_df.value_counts('correct')"
   ]
  },
  {
   "cell_type": "code",
   "execution_count": 38,
   "metadata": {
    "colab": {
     "base_uri": "https://localhost:8080/"
    },
    "id": "V8-SumB-lwmm",
    "outputId": "2974bca2-667d-45ae-ba1a-155ae9d8003d"
   },
   "outputs": [
    {
     "name": "stdout",
     "output_type": "stream",
     "text": [
      "Average prediction time per image using Vision Transformer model: 0.2474\n"
     ]
    }
   ],
   "source": [
    "# Average prediction time per image in test data\n",
    "vit_average_pred_time = round(vit_test_pred_df['time_for_pred'].mean(), 4)\n",
    "print(f'Average prediction time per image using Vision Transformer model: {vit_average_pred_time}')"
   ]
  },
  {
   "cell_type": "code",
   "execution_count": 39,
   "metadata": {
    "colab": {
     "base_uri": "https://localhost:8080/"
    },
    "id": "ET9u4pPRmDDz",
    "outputId": "9269dfe6-9339-4d5e-f5e8-aef6967a7eea"
   },
   "outputs": [
    {
     "data": {
      "text/plain": [
       "{'test_loss': 0.0980054639003356,\n",
       " 'test_acc': 0.955078125,\n",
       " 'number_of_parameters': 85800963,\n",
       " 'model_size(MB)': 327,\n",
       " 'avg_pred_time_cpu': 0.2474}"
      ]
     },
     "execution_count": 39,
     "metadata": {},
     "output_type": "execute_result"
    }
   ],
   "source": [
    "# Adding the average prediction time to the Vision Transform Base 16 stats dictionary\n",
    "vit_stats['avg_pred_time_cpu'] = vit_average_pred_time\n",
    "vit_stats"
   ]
  },
  {
   "cell_type": "markdown",
   "metadata": {
    "id": "-lD3vM5jmjqi"
   },
   "source": [
    "## Comparing model results, prediction time and size"
   ]
  },
  {
   "cell_type": "code",
   "execution_count": 40,
   "metadata": {
    "colab": {
     "base_uri": "https://localhost:8080/"
    },
    "id": "5n86GEJnmts2",
    "outputId": "ecb79d2a-d18d-4e2d-af0e-6205dea0c65e"
   },
   "outputs": [
    {
     "data": {
      "text/html": [
       "<div>\n",
       "<style scoped>\n",
       "    .dataframe tbody tr th:only-of-type {\n",
       "        vertical-align: middle;\n",
       "    }\n",
       "\n",
       "    .dataframe tbody tr th {\n",
       "        vertical-align: top;\n",
       "    }\n",
       "\n",
       "    .dataframe thead th {\n",
       "        text-align: right;\n",
       "    }\n",
       "</style>\n",
       "<table border=\"1\" class=\"dataframe\">\n",
       "  <thead>\n",
       "    <tr style=\"text-align: right;\">\n",
       "      <th></th>\n",
       "      <th>test_loss</th>\n",
       "      <th>test_acc</th>\n",
       "      <th>number_of_parameters</th>\n",
       "      <th>model_size(MB)</th>\n",
       "      <th>avg_pred_time_cpu</th>\n",
       "      <th>model_name</th>\n",
       "    </tr>\n",
       "  </thead>\n",
       "  <tbody>\n",
       "    <tr>\n",
       "      <th>0</th>\n",
       "      <td>0.130645</td>\n",
       "      <td>94.73</td>\n",
       "      <td>7705221</td>\n",
       "      <td>29</td>\n",
       "      <td>0.0609</td>\n",
       "      <td>EffNetB2</td>\n",
       "    </tr>\n",
       "    <tr>\n",
       "      <th>1</th>\n",
       "      <td>0.098005</td>\n",
       "      <td>95.51</td>\n",
       "      <td>85800963</td>\n",
       "      <td>327</td>\n",
       "      <td>0.2474</td>\n",
       "      <td>ViT_B_16</td>\n",
       "    </tr>\n",
       "  </tbody>\n",
       "</table>\n",
       "</div>"
      ],
      "text/plain": [
       "   test_loss  test_acc  number_of_parameters  model_size(MB)  \\\n",
       "0   0.130645     94.73               7705221              29   \n",
       "1   0.098005     95.51              85800963             327   \n",
       "\n",
       "   avg_pred_time_cpu model_name  \n",
       "0             0.0609   EffNetB2  \n",
       "1             0.2474   ViT_B_16  "
      ]
     },
     "execution_count": 40,
     "metadata": {},
     "output_type": "execute_result"
    }
   ],
   "source": [
    "# Turn the stats to dataframe\n",
    "model_compare_df = pd.DataFrame([effnetb2_stats, vit_stats])\n",
    "\n",
    "# Adding a model name in dataframe\n",
    "model_compare_df['model_name'] = ['EffNetB2', 'ViT_B_16']\n",
    "\n",
    "# Converting the test accuracy in percentage\n",
    "model_compare_df['test_acc'] = round(model_compare_df['test_acc'] * 100, 2)\n",
    "model_compare_df"
   ]
  },
  {
   "cell_type": "code",
   "execution_count": 41,
   "metadata": {
    "colab": {
     "base_uri": "https://localhost:8080/"
    },
    "id": "qtPS4sVyn7no",
    "outputId": "505d2468-d6e0-4af7-82ed-5329138b341d"
   },
   "outputs": [
    {
     "data": {
      "text/html": [
       "<div>\n",
       "<style scoped>\n",
       "    .dataframe tbody tr th:only-of-type {\n",
       "        vertical-align: middle;\n",
       "    }\n",
       "\n",
       "    .dataframe tbody tr th {\n",
       "        vertical-align: top;\n",
       "    }\n",
       "\n",
       "    .dataframe thead th {\n",
       "        text-align: right;\n",
       "    }\n",
       "</style>\n",
       "<table border=\"1\" class=\"dataframe\">\n",
       "  <thead>\n",
       "    <tr style=\"text-align: right;\">\n",
       "      <th></th>\n",
       "      <th>test_loss</th>\n",
       "      <th>test_acc</th>\n",
       "      <th>number_of_parameters</th>\n",
       "      <th>model_size(MB)</th>\n",
       "      <th>avg_pred_time_cpu</th>\n",
       "    </tr>\n",
       "  </thead>\n",
       "  <tbody>\n",
       "    <tr>\n",
       "      <th>vit_effnetb2_ratio</th>\n",
       "      <td>0.750168</td>\n",
       "      <td>1.008234</td>\n",
       "      <td>11.135432</td>\n",
       "      <td>11.275862</td>\n",
       "      <td>4.062397</td>\n",
       "    </tr>\n",
       "  </tbody>\n",
       "</table>\n",
       "</div>"
      ],
      "text/plain": [
       "                    test_loss  test_acc  number_of_parameters  model_size(MB)  \\\n",
       "vit_effnetb2_ratio   0.750168  1.008234             11.135432       11.275862   \n",
       "\n",
       "                    avg_pred_time_cpu  \n",
       "vit_effnetb2_ratio           4.062397  "
      ]
     },
     "execution_count": 41,
     "metadata": {},
     "output_type": "execute_result"
    }
   ],
   "source": [
    "# Ratio of Vision Transform to EfficientNetB2\n",
    "pd.DataFrame(data = model_compare_df.set_index('model_name').loc['ViT_B_16'] / model_compare_df.set_index('model_name').loc['EffNetB2'], columns=['vit_effnetb2_ratio']).T"
   ]
  },
  {
   "cell_type": "code",
   "execution_count": 42,
   "metadata": {
    "colab": {
     "base_uri": "https://localhost:8080/"
    },
    "id": "3iMhRZKQqFiH",
    "outputId": "e12bd8bc-c21c-4763-e9cf-fa16e2aaba29"
   },
   "outputs": [
    {
     "data": {
      "image/png": "[encoded data removed]",
      "text/plain": [
       "<Figure size 864x504 with 1 Axes>"
      ]
     },
     "metadata": {
      "needs_background": "light"
     },
     "output_type": "display_data"
    }
   ],
   "source": [
    "# Visualizing the speed vs performance tradeoff\n",
    "# Create plot of model comparision\n",
    "fig, ax = plt.subplots(figsize=(12, 7))\n",
    "scatter = ax.scatter(data=model_compare_df,\n",
    "                     x='avg_pred_time_cpu',\n",
    "                     y='test_acc',\n",
    "                     c=['blue', 'green'],\n",
    "                     s='model_size(MB)')\n",
    "ax.set_title('AnimalVision Mini Speed Vs Performance\\n', fontsize=18)\n",
    "ax.set_xlabel('Prediction Time Per Image(seconds)', fontsize=14)\n",
    "ax.set_ylabel('Test Accuracy(%)', fontsize=14)\n",
    "ax.tick_params('both', labelsize=12)\n",
    "ax.grid(True)\n",
    "\n",
    "for index, row in model_compare_df.iterrows():\n",
    "    ax.annotate(text=row['model_name'],\n",
    "                xy=(row['avg_pred_time_cpu'] + 0.005,\n",
    "                    row['test_acc'] + 0.005),\n",
    "                size=12,\n",
    "                weight='bold')\n",
    "\n",
    "handles, labels = scatter.legend_elements(prop='sizes', alpha=0.5)\n",
    "model_size_legend = ax.legend(handles,\n",
    "                              labels,\n",
    "                              loc='lower right',\n",
    "                              title='Model Size(MB)',\n",
    "                              fontsize=12)\n",
    "if Path('images').exists():\n",
    "    pass\n",
    "else:\n",
    "    os.mkdir('images')\n",
    "plt.savefig('images/AnimalVision_Mini_Speed_Vs_Performance_Chart.jpg');"
   ]
  },
  {
   "cell_type": "markdown",
   "metadata": {},
   "source": [
    "Comparing both the models we can see the the difference in the model size and the prediction time it takes for a single image.\n",
    "\n",
    "Lets simplfy the result of the comparison:\n",
    " * EfficentNetB2 takes around 0.06 seconds and Vision Transformer takes around 0.25 seconds\n",
    " * Accuracy of EfficientNetB2 is 94.7% and Vision Transformer is around 95.5%\n",
    " * Size of EfficientNetB2 is 29 MB and Vision Transformer is 327 MB\n",
    " \n",
    "This clearly indicates, that use EfficientNetB2 if you are working on a device that require small models and you can compramize on performance. While Vision Transformer model need good memory to produce good results."
   ]
  },
  {
   "cell_type": "markdown",
   "metadata": {
    "id": "2oQbEwwuzUwo"
   },
   "source": [
    "## Gradio Demo using Animal Vision Mini\n",
    "\n",
    "Now that we loaded and tested our pre-trained models. \n",
    "\n",
    "It's time to work on the deployment part of this notebook. We will be using the Gradio library to build our web application, here the application will take an image input of an animal and in return display an output of the animal class and time it took to predict the class.\n",
    "\n",
    "We will start with the basic of gradio and then move onto deploying it in the real world."
   ]
  },
  {
   "cell_type": "code",
   "execution_count": 43,
   "metadata": {
    "colab": {
     "base_uri": "https://localhost:8080/"
    },
    "id": "Qr_Z-fHR3J2J",
    "outputId": "cc449582-c6f3-4a4d-b2d1-6b3146a453ae"
   },
   "outputs": [
    {
     "data": {
      "text/plain": [
       "device(type='cpu')"
      ]
     },
     "execution_count": 43,
     "metadata": {},
     "output_type": "execute_result"
    }
   ],
   "source": [
    "# moving our model to cpu\n",
    "effnetb2.to('cpu')\n",
    "next(iter(effnetb2.parameters())).device"
   ]
  },
  {
   "cell_type": "code",
   "execution_count": 44,
   "metadata": {
    "id": "pl0dQZYc6Knz"
   },
   "outputs": [],
   "source": [
    "# creating a funtion predict() to relate the inputs and outputs\n",
    "def predict(img) -> Tuple[Dict, float]:\n",
    "    \"\"\"\n",
    "    Transforms the Input Image and returns prediction and time taken to predict.\n",
    "    \"\"\"\n",
    "    # Start the timer\n",
    "    start_time = timer()\n",
    "    \n",
    "    # Transform and batch the image\n",
    "    img = effnetb2_transforms(img).unsqueeze(0)\n",
    "    \n",
    "    # Put model in evaluation and inference mode for prediction\n",
    "    effnetb2.eval()\n",
    "    with torch.inference_mode():\n",
    "        # get the prediction probabilities\n",
    "        pred_prob = torch.softmax(effnetb2(img), dim=1)\n",
    "    \n",
    "    # Creating a dictionary with prediction probabilities and labels as per the gradio format\n",
    "    pred_labels_and_probs = {class_names[i]: float(pred_prob[0][i]) for i in range(len(class_names))}\n",
    "    \n",
    "    # Calculate the prediction time\n",
    "    pred_time = round(timer() - start_time, 5)\n",
    "    \n",
    "    return pred_labels_and_probs, pred_time"
   ]
  },
  {
   "cell_type": "code",
   "execution_count": 45,
   "metadata": {
    "colab": {
     "base_uri": "https://localhost:8080/"
    },
    "id": "4k0NKyaX_yPx",
    "outputId": "6e3e0e76-026e-468a-bf8c-f7d58d399bf6"
   },
   "outputs": [
    {
     "name": "stdout",
     "output_type": "stream",
     "text": [
      "[INFO] Predicting an image at path: data/lion_tiger_wolf/val/LION/images120.jpg\n",
      "\n",
      "Prediction probability of the image:\n",
      "{'LION': 0.9997977614402771, 'TIGER': 0.00019002359476871789, 'WOLF': 1.2259096365596633e-05}\n",
      "Prediction time: 0.07366\n"
     ]
    }
   ],
   "source": [
    "# Checking our predict function\n",
    "# Randomly selecting a image from test data\n",
    "random_image_path = random.sample(test_data_paths_clean, k=1)[0]\n",
    "\n",
    "# open the image\n",
    "image = Image.open(random_image_path)\n",
    "print(f'[INFO] Predicting an image at path: {random_image_path}\\n')\n",
    "\n",
    "# predicting the image using the predict function\n",
    "pred_probs_label, pred_time = predict(img=image)\n",
    "print(f'Prediction probability of the image:\\n{pred_probs_label}\\nPrediction time: {pred_time}')"
   ]
  },
  {
   "cell_type": "code",
   "execution_count": 72,
   "metadata": {
    "colab": {
     "base_uri": "https://localhost:8080/"
    },
    "id": "vWO_9rkv8fzX",
    "outputId": "7e3f8b8a-afa0-4ee1-8200-946a2541427e"
   },
   "outputs": [
    {
     "data": {
      "text/plain": [
       "[['data/lion_tiger_wolf/val/TIGER/images473.jpg'],\n",
       " ['data/lion_tiger_wolf/val/WOLF/images353.jpg'],\n",
       " ['data/lion_tiger_wolf/val/WOLF/_106348480_mediaitem106348478.jpg']]"
      ]
     },
     "execution_count": 72,
     "metadata": {},
     "output_type": "execute_result"
    }
   ],
   "source": [
    "# Creating a list of example images for the gradio demo\n",
    "random.seed(42)\n",
    "example_list = [[str(filepath)] for filepath in random.sample(test_data_paths_clean, k=3)]\n",
    "example_list"
   ]
  },
  {
   "cell_type": "code",
   "execution_count": 73,
   "metadata": {
    "colab": {
     "base_uri": "https://localhost:8080/",
     "height": 626
    },
    "id": "XAAfszyK9dVH",
    "outputId": "6aa2a125-1029-4ce1-bb2c-27ee03349e76"
   },
   "outputs": [
    {
     "name": "stdout",
     "output_type": "stream",
     "text": [
      "Running on local URL:  http://127.0.0.1:7861\n"
     ]
    },
    {
     "data": {
      "text/html": [
       "<pre style=\"white-space:pre;overflow-x:auto;line-height:normal;font-family:Menlo,'DejaVu Sans Mono',consolas,'Courier New',monospace\">Connected (version 2.0, client OpenSSH_7.6p1)\n",
       "</pre>\n"
      ],
      "text/plain": [
       "Connected (version 2.0, client OpenSSH_7.6p1)\n"
      ]
     },
     "metadata": {},
     "output_type": "display_data"
    },
    {
     "data": {
      "text/html": [
       "<pre style=\"white-space:pre;overflow-x:auto;line-height:normal;font-family:Menlo,'DejaVu Sans Mono',consolas,'Courier New',monospace\">Authentication (publickey) successful!\n",
       "</pre>\n"
      ],
      "text/plain": [
       "Authentication (publickey) successful!\n"
      ]
     },
     "metadata": {},
     "output_type": "display_data"
    },
    {
     "name": "stdout",
     "output_type": "stream",
     "text": [
      "Running on public URL: https://04315f54dd9a2c99.gradio.app\n",
      "\n",
      "This share link expires in 72 hours. For free permanent hosting and GPU upgrades (NEW!), check out Spaces: https://huggingface.co/spaces\n"
     ]
    },
    {
     "data": {
      "text/html": [
       "<div><iframe src=\"https://04315f54dd9a2c99.gradio.app\" width=\"100%\" height=\"500\" allow=\"autoplay; camera; microphone; clipboard-read; clipboard-write;\" frameborder=\"0\" allowfullscreen></iframe></div>"
      ],
      "text/plain": [
       "<IPython.core.display.HTML object>"
      ]
     },
     "metadata": {},
     "output_type": "display_data"
    },
    {
     "data": {
      "text/plain": []
     },
     "execution_count": 73,
     "metadata": {},
     "output_type": "execute_result"
    }
   ],
   "source": [
    "# Building the gradio interface\n",
    "# creating the title, description and article\n",
    "title = 'Animal Vision Mini Demo 🦁 🐯 🐺'\n",
    "description = 'A Animal Vision Mini project created and build using EfficientNetB2 feature extractor model to clasify images of Lion, Tiger, and Wolf.'\n",
    "article = 'Created by John Pinto.'\n",
    "\n",
    "# Creating the demo\n",
    "demo = gr.Interface(fn=predict,\n",
    "                    inputs=gr.Image(type='pil'),\n",
    "                    outputs=[gr.Label(num_top_classes=3, label='Predictions'),\n",
    "                             gr.Number(label='Prediction Time (s)')],\n",
    "                    examples=example_list,\n",
    "                    title=title,\n",
    "                    description=description,\n",
    "                    article=article)\n",
    "\n",
    "# Launch the demo app\n",
    "demo.launch(debug=False,\n",
    "            share=True) "
   ]
  },
  {
   "cell_type": "markdown",
   "metadata": {
    "id": "eJpzoGDOC75T"
   },
   "source": [
    "## Turning demo app into a deployable app\n",
    "\n",
    "We were able to successfully implement the web app in the notebook, now we need to take in the real work for that we will be uploading it on the HuggingFace spaces."
   ]
  },
  {
   "cell_type": "code",
   "execution_count": 48,
   "metadata": {},
   "outputs": [
    {
     "data": {
      "text/plain": [
       "['animalvision_mini']"
      ]
     },
     "execution_count": 48,
     "metadata": {},
     "output_type": "execute_result"
    }
   ],
   "source": [
    "# Create a demo directory containing a directory for Animal Vision Mini\n",
    "animalvision_mini_path = Path('demos/animalvision_mini')\n",
    "\n",
    "# Revome files if already exist\n",
    "if animalvision_mini_path.exists():\n",
    "    shutil.rmtree(animalvision_mini_path)\n",
    "    animalvision_mini_path.mkdir(parents=True,\n",
    "                                exist_ok=True)\n",
    "else:\n",
    "    animalvision_mini_path.mkdir(parents=True,\n",
    "                                exist_ok=True)\n",
    "os.listdir('demos')"
   ]
  },
  {
   "cell_type": "code",
   "execution_count": 49,
   "metadata": {},
   "outputs": [
    {
     "name": "stdout",
     "output_type": "stream",
     "text": [
      "[INFO] Copying data/lion_tiger_wolf/val/LION/20180605032116763AfricanLion.jpg to demos/animalvision_mini/examples\n",
      "[INFO] Copying data/lion_tiger_wolf/val/TIGER/TSqnkJJbXuDTgtdfQkjkcZ-320-80.jpg to demos/animalvision_mini/examples\n",
      "[INFO] Copying data/lion_tiger_wolf/val/WOLF/frontiers-in-ecology-and-evolution-dog-wolf-hybrids.jpg to demos/animalvision_mini/examples\n"
     ]
    }
   ],
   "source": [
    "# Creating a directory for examples\n",
    "animalvision_example_path = animalvision_mini_path / 'examples'\n",
    "animalvision_example_path.mkdir(parents=True,\n",
    "                                exist_ok=True)\n",
    "\n",
    "# List of three Images from each class\n",
    "animalvision_examples = [Path('data/lion_tiger_wolf/val/LION/20180605032116763AfricanLion.jpg'),\n",
    "                        Path('data/lion_tiger_wolf/val/TIGER/TSqnkJJbXuDTgtdfQkjkcZ-320-80.jpg'),\n",
    "                        Path('data/lion_tiger_wolf/val/WOLF/frontiers-in-ecology-and-evolution-dog-wolf-hybrids.jpg')]\n",
    "\n",
    "# Copying the three images to the examples direcctory\n",
    "for example in animalvision_examples:\n",
    "    print(f'[INFO] Copying {example} to {animalvision_example_path}')\n",
    "    shutil.copy2(src=example, dst=animalvision_example_path)"
   ]
  },
  {
   "cell_type": "code",
   "execution_count": 50,
   "metadata": {},
   "outputs": [
    {
     "data": {
      "text/plain": [
       "[['examples/frontiers-in-ecology-and-evolution-dog-wolf-hybrids.jpg'],\n",
       " ['examples/TSqnkJJbXuDTgtdfQkjkcZ-320-80.jpg'],\n",
       " ['examples/20180605032116763AfricanLion.jpg']]"
      ]
     },
     "execution_count": 50,
     "metadata": {},
     "output_type": "execute_result"
    }
   ],
   "source": [
    "# Now format the example as per gradio requirement\n",
    "example_list = [['examples/' + example] for example in os.listdir(animalvision_example_path) if example.endswith('.jpg')]\n",
    "example_list"
   ]
  },
  {
   "cell_type": "code",
   "execution_count": 57,
   "metadata": {
    "tags": []
   },
   "outputs": [
    {
     "name": "stdout",
     "output_type": "stream",
     "text": [
      "[INFO] Moving the model from models/pretrained_effnetb2_animal_vision_mini.pth to demos/animalvision_mini/pretrained_effnetb2_animal_vision_mini.pth\n",
      "\n",
      "[INFO] Model doesnot exist in models/pretrained_effnetb2_animal_vision_mini.pth.\n",
      "[INFO] Model is already moved to demos/animalvision_mini/pretrained_effnetb2_animal_vision_mini.pth,          \n",
      "whether model exist or not in \"demos/animalvision_mini/pretrained_effnetb2_animal_vision_mini.pth\"? True\n"
     ]
    }
   ],
   "source": [
    "# Move the saved models files to the demos directory\n",
    "# source and destination path\n",
    "animalvision_mini_effnetb2_model_path = 'models/pretrained_effnetb2_animal_vision_mini.pth'\n",
    "animalvision_mini_effnetb2_model_destination = animalvision_mini_path / animalvision_mini_effnetb2_model_path.split('/')[1]\n",
    "\n",
    "# Moving the model\n",
    "try:\n",
    "    print(f'[INFO] Moving the model from {animalvision_mini_effnetb2_model_path} to {animalvision_mini_effnetb2_model_destination}\\n')\n",
    "    shutil.move(src=animalvision_mini_effnetb2_model_path,\n",
    "               dst=animalvision_mini_effnetb2_model_destination)\n",
    "    print(f'[INFO] Model move complete.')\n",
    "except:\n",
    "    print(f'[INFO] Model doesnot exist in {animalvision_mini_effnetb2_model_path}.')\n",
    "    print(f'[INFO] Model is already moved to {animalvision_mini_effnetb2_model_destination},\\\n",
    "          \\nwhether model exist or not in \"{animalvision_mini_effnetb2_model_destination}\"? {animalvision_mini_effnetb2_model_destination.exists()}')"
   ]
  },
  {
   "cell_type": "markdown",
   "metadata": {
    "tags": []
   },
   "source": [
    "### Creating a Effnetb2 model script - model.py (model creation similar to the above function)"
   ]
  },
  {
   "cell_type": "code",
   "execution_count": 59,
   "metadata": {},
   "outputs": [
    {
     "name": "stdout",
     "output_type": "stream",
     "text": [
      "Writing demos/animalvision_mini/model.py\n"
     ]
    }
   ],
   "source": [
    "%%writefile demos/animalvision_mini/model.py\n",
    "import torch\n",
    "import torchvision\n",
    "from torch import nn\n",
    "\n",
    "def create_effnetb2_model(num_classes: int=3,\n",
    "                          seed: int=42):\n",
    "    \"\"\"\n",
    "    Create a feature extraction efficientNetB2 model and transforms.\n",
    "    Args: \n",
    "          num_classes: A integer number for classes in the classifier head.\n",
    "          seed: A random seed.\n",
    "    Returns:\n",
    "          model: A model of EfficientNetB2.\n",
    "          transforms: A torchvision image transforms based out of the EfficientNetb2.\n",
    "    \"\"\"\n",
    "    # Setup pretrained weights\n",
    "    weights = torchvision.models.EfficientNet_B2_Weights.DEFAULT\n",
    "    \n",
    "    # Get EfficientNetB2 transforms\n",
    "    transforms = weights.transforms()\n",
    "    \n",
    "    # Setup the EfficientNetB2 model\n",
    "    model = torchvision.models.efficientnet_b2(weights=weights)\n",
    "    \n",
    "    # Freeze the parameters of the model\n",
    "    for params in model.parameters():\n",
    "        params.requires_grad = False\n",
    "    \n",
    "    # Change the head classifier with a random seed\n",
    "    torch.manual_seed(seed)\n",
    "    model.classifier[1] = nn.Linear(in_features=1408, out_features=num_classes)\n",
    "    \n",
    "    return model, transforms"
   ]
  },
  {
   "cell_type": "markdown",
   "metadata": {},
   "source": [
    "### Creating a script for the core part of the web application as per HuggingFace - app.py"
   ]
  },
  {
   "cell_type": "code",
   "execution_count": 63,
   "metadata": {},
   "outputs": [
    {
     "name": "stdout",
     "output_type": "stream",
     "text": [
      "Writing demos/animalvision_mini/app.py\n"
     ]
    }
   ],
   "source": [
    "%%writefile demos/animalvision_mini/app.py\n",
    "import gradio as gr\n",
    "import os\n",
    "import torch\n",
    "from model import create_effnetb2_model\n",
    "from timeit import default_timer as timer\n",
    "from typing import Tuple, Dict\n",
    "\n",
    "# Defining class names\n",
    "class_names = ['LION', 'TIGER', 'WOLF']\n",
    "\n",
    "# Model and transform preparation using create_effnetb2_model function\n",
    "effnetb2, effnetb2_transforms = create_effnetb2_model(num_classes=len(class_names))\n",
    "\n",
    "# Load saved weights from the saved model\n",
    "effnetb2.load_state_dict(torch.load(f='pretrained_effnetb2_animal_vision_mini.pth',\n",
    "                                   map_location=torch.device('cpu')))\n",
    "\n",
    "# create a predict function to connect inputs and outputs\n",
    "def predict(img) -> Tuple[Dict, float]:\n",
    "    \"\"\"\n",
    "    Transforms the Input Image and returns prediction and time taken to predict.\n",
    "    \"\"\"\n",
    "    # Start the timer\n",
    "    start_time = timer()\n",
    "    \n",
    "    # Transform and batch the image\n",
    "    img = effnetb2_transforms(img).unsqueeze(0)\n",
    "    \n",
    "    # Put model in evaluation and inference mode for prediction\n",
    "    effnetb2.eval()\n",
    "    with torch.inference_mode():\n",
    "        # get the prediction probabilities\n",
    "        pred_prob = torch.softmax(effnetb2(img), dim=1)\n",
    "    \n",
    "    # Creating a dictionary with prediction probabilities and labels as per the gradio format\n",
    "    pred_labels_and_probs = {class_names[i]: float(pred_prob[0][i]) for i in range(len(class_names))}\n",
    "    \n",
    "    # Calculate the prediction time\n",
    "    pred_time = round(timer() - start_time, 5)\n",
    "    \n",
    "    return pred_labels_and_probs, pred_time\n",
    "\n",
    "# Building the gradio interface\n",
    "# creating the title, description and article\n",
    "title = 'Animal Vision Mini 🦁 🐯 🐺'\n",
    "description = 'A Animal Vision Mini project created and build using EfficientNetB2 feature extractor model to clasify images of Lion, Tiger, and Wolf.'\n",
    "article = 'Created by John Pinto.'\n",
    "\n",
    "# Creating the example list\n",
    "example_list = [['examples/' + example] for example in os.listdir('examples') if example.endswith('.jpg')]\n",
    "\n",
    "# Creating the gradio demo\n",
    "demo = gr.Interface(fn=predict,\n",
    "                    inputs=gr.Image(type='pil'),\n",
    "                    outputs=[gr.Label(num_top_classes=3, label='Predictions'),\n",
    "                             gr.Number(label='Prediction Time (s)')],\n",
    "                    examples=example_list,\n",
    "                    title=title,\n",
    "                    description=description,\n",
    "                    article=article)\n",
    "\n",
    "# Launch the demo app\n",
    "demo.launch()"
   ]
  },
  {
   "cell_type": "markdown",
   "metadata": {},
   "source": [
    "### Creating the requirement file for the app - requirements.txt"
   ]
  },
  {
   "cell_type": "code",
   "execution_count": 69,
   "metadata": {},
   "outputs": [
    {
     "name": "stdout",
     "output_type": "stream",
     "text": [
      "Writing demos/animalvision_mini/requirements.txt\n"
     ]
    }
   ],
   "source": [
    "%%writefile demos/animalvision_mini/requirements.txt\n",
    "torch == 1.12.0\n",
    "torchvision == 0.13.0\n",
    "gradio == 3.12.0"
   ]
  },
  {
   "cell_type": "markdown",
   "metadata": {},
   "source": [
    "### Deploy the Animal Vision Mini to Hugging Face"
   ]
  },
  {
   "cell_type": "code",
   "execution_count": 75,
   "metadata": {},
   "outputs": [
    {
     "data": {
      "text/plain": [
       "['requirements.txt',\n",
       " 'app.py',\n",
       " 'pretrained_effnetb2_animal_vision_mini.pth',\n",
       " 'examples',\n",
       " 'model.py']"
      ]
     },
     "execution_count": 75,
     "metadata": {},
     "output_type": "execute_result"
    }
   ],
   "source": [
    "# Check all the files in demos directory\n",
    "os.listdir('demos/animalvision_mini')"
   ]
  },
  {
   "cell_type": "code",
   "execution_count": 81,
   "metadata": {},
   "outputs": [
    {
     "name": "stdout",
     "output_type": "stream",
     "text": [
      "  adding: app.py (deflated 56%)\n",
      "  adding: examples/ (stored 0%)\n",
      "  adding: examples/frontiers-in-ecology-and-evolution-dog-wolf-hybrids.jpg (deflated 2%)\n",
      "  adding: examples/TSqnkJJbXuDTgtdfQkjkcZ-320-80.jpg (deflated 1%)\n",
      "  adding: examples/20180605032116763AfricanLion.jpg (deflated 0%)\n",
      "  adding: model.py (deflated 57%)\n",
      "  adding: pretrained_effnetb2_animal_vision_mini.pth (deflated 8%)\n",
      "  adding: requirements.txt (deflated 18%)\n"
     ]
    }
   ],
   "source": [
    "# Compress the necessary files into zip file\n",
    "!cd demos/animalvision_mini && zip -r ../animalvision_mini.zip * -x '*.pyc' '*.ipynb' '*__pycache__*' '*ipynb_checkpoints*'"
   ]
  },
  {
   "cell_type": "code",
   "execution_count": 99,
   "metadata": {},
   "outputs": [],
   "source": [
    "# Extracting Zip file\n",
    "shutil.unpack_archive(filename='demos/animalvision_mini.zip',\n",
    "                     extract_dir='animalvision_mini')"
   ]
  },
  {
   "cell_type": "code",
   "execution_count": 5,
   "metadata": {
    "tags": []
   },
   "outputs": [
    {
     "data": {
      "text/html": [
       "\n",
       "        <iframe\n",
       "            width=\"1200\"\n",
       "            height=\"750\"\n",
       "            src=\"https://johnpinto-animalvision-mini.hf.space\"\n",
       "            frameborder=\"0\"\n",
       "            allowfullscreen\n",
       "            \n",
       "        ></iframe>\n",
       "        "
      ],
      "text/plain": [
       "<IPython.lib.display.IFrame at 0x7f96744cc4c0>"
      ]
     },
     "execution_count": 5,
     "metadata": {},
     "output_type": "execute_result"
    }
   ],
   "source": [
    "# Displaying Animal Vision Mini from hugging Face\n",
    "IFrame(src=\"https://johnpinto-animalvision-mini.hf.space\",\n",
    "      width=1200,\n",
    "      height=750)"
   ]
  },
  {
   "cell_type": "markdown",
   "metadata": {},
   "source": [
    "Finally, we were able to create and deploy our first web application animal vision mini on the HuggingFace spaces.\n",
    "\n",
    "You can check over here the fully running web application, click on the link -> [Animal Vision Mini](https://johnpinto-animalvision-mini.hf.space)"
   ]
  },
  {
   "cell_type": "markdown",
   "metadata": {},
   "source": [
    "## Creating Animal Vision Big\n",
    "\n",
    "We have created animal vision mini, which classifies 3 different animals. \n",
    "\n",
    "Now, we will take it big, create a web application that can classify 30 different animals."
   ]
  },
  {
   "cell_type": "code",
   "execution_count": 5,
   "metadata": {
    "tags": []
   },
   "outputs": [],
   "source": [
    "# Setting up the training and testing directory\n",
    "animal30_train_dir = Path('data/animal30/raw-animals-image-dataset/train')\n",
    "animal30_test_dir = Path('data/animal30/raw-animals-image-dataset/val')"
   ]
  },
  {
   "cell_type": "code",
   "execution_count": 6,
   "metadata": {
    "tags": []
   },
   "outputs": [
    {
     "name": "stdout",
     "output_type": "stream",
     "text": [
      "There are 2 directories and 0 files in \"data/animal30/raw-animals-image-dataset\".\n",
      "There are 30 directories and 0 files in \"data/animal30/raw-animals-image-dataset/train\".\n",
      "There are 0 directories and 602 files in \"data/animal30/raw-animals-image-dataset/train/RHINO\".\n",
      "There are 0 directories and 626 files in \"data/animal30/raw-animals-image-dataset/train/OSTRICH\".\n",
      "There are 0 directories and 716 files in \"data/animal30/raw-animals-image-dataset/train/BEAR\".\n",
      "There are 0 directories and 655 files in \"data/animal30/raw-animals-image-dataset/train/SQUIREL\".\n",
      "There are 0 directories and 625 files in \"data/animal30/raw-animals-image-dataset/train/CROCODILES\".\n",
      "There are 0 directories and 656 files in \"data/animal30/raw-animals-image-dataset/train/MONKEY\".\n",
      "There are 0 directories and 713 files in \"data/animal30/raw-animals-image-dataset/train/DEER\".\n",
      "There are 0 directories and 693 files in \"data/animal30/raw-animals-image-dataset/train/COW\".\n",
      "There are 0 directories and 613 files in \"data/animal30/raw-animals-image-dataset/train/PENGUINS\".\n",
      "There are 0 directories and 563 files in \"data/animal30/raw-animals-image-dataset/train/WALRUS\".\n",
      "There are 0 directories and 763 files in \"data/animal30/raw-animals-image-dataset/train/DOGS\".\n",
      "There are 0 directories and 650 files in \"data/animal30/raw-animals-image-dataset/train/CHEETAH\".\n",
      "There are 0 directories and 672 files in \"data/animal30/raw-animals-image-dataset/train/MEERKAT\".\n",
      "There are 0 directories and 657 files in \"data/animal30/raw-animals-image-dataset/train/ELEPHANT\".\n",
      "There are 0 directories and 683 files in \"data/animal30/raw-animals-image-dataset/train/SNAKE\".\n",
      "There are 0 directories and 666 files in \"data/animal30/raw-animals-image-dataset/train/GIRAFFE\".\n",
      "There are 0 directories and 692 files in \"data/animal30/raw-animals-image-dataset/train/CATS\".\n",
      "There are 0 directories and 662 files in \"data/animal30/raw-animals-image-dataset/train/ZEBRA\".\n",
      "There are 0 directories and 706 files in \"data/animal30/raw-animals-image-dataset/train/WOLF\".\n",
      "There are 0 directories and 690 files in \"data/animal30/raw-animals-image-dataset/train/HIPPOPOTAMUS\".\n",
      "There are 0 directories and 665 files in \"data/animal30/raw-animals-image-dataset/train/MOOSE\".\n",
      "There are 0 directories and 755 files in \"data/animal30/raw-animals-image-dataset/train/HORSE\".\n",
      "There are 0 directories and 634 files in \"data/animal30/raw-animals-image-dataset/train/TORTOISE\".\n",
      "There are 0 directories and 650 files in \"data/animal30/raw-animals-image-dataset/train/RABBIT\".\n",
      "There are 0 directories and 620 files in \"data/animal30/raw-animals-image-dataset/train/GOAT\".\n",
      "There are 0 directories and 629 files in \"data/animal30/raw-animals-image-dataset/train/LION\".\n",
      "There are 0 directories and 639 files in \"data/animal30/raw-animals-image-dataset/train/PORCUPINE\".\n",
      "There are 0 directories and 644 files in \"data/animal30/raw-animals-image-dataset/train/PANDA\".\n",
      "There are 0 directories and 647 files in \"data/animal30/raw-animals-image-dataset/train/KANGAROO\".\n",
      "There are 0 directories and 561 files in \"data/animal30/raw-animals-image-dataset/train/TIGER\".\n",
      "There are 30 directories and 0 files in \"data/animal30/raw-animals-image-dataset/val\".\n",
      "There are 0 directories and 148 files in \"data/animal30/raw-animals-image-dataset/val/RHINO\".\n",
      "There are 0 directories and 152 files in \"data/animal30/raw-animals-image-dataset/val/OSTRICH\".\n",
      "There are 0 directories and 178 files in \"data/animal30/raw-animals-image-dataset/val/BEAR\".\n",
      "There are 0 directories and 158 files in \"data/animal30/raw-animals-image-dataset/val/SQUIREL\".\n",
      "There are 0 directories and 154 files in \"data/animal30/raw-animals-image-dataset/val/CROCODILES\".\n",
      "There are 0 directories and 165 files in \"data/animal30/raw-animals-image-dataset/val/MONKEY\".\n",
      "There are 0 directories and 180 files in \"data/animal30/raw-animals-image-dataset/val/DEER\".\n",
      "There are 0 directories and 172 files in \"data/animal30/raw-animals-image-dataset/val/COW\".\n",
      "There are 0 directories and 154 files in \"data/animal30/raw-animals-image-dataset/val/PENGUINS\".\n",
      "There are 0 directories and 142 files in \"data/animal30/raw-animals-image-dataset/val/WALRUS\".\n",
      "There are 0 directories and 190 files in \"data/animal30/raw-animals-image-dataset/val/DOGS\".\n",
      "There are 0 directories and 161 files in \"data/animal30/raw-animals-image-dataset/val/CHEETAH\".\n",
      "There are 0 directories and 165 files in \"data/animal30/raw-animals-image-dataset/val/MEERKAT\".\n",
      "There are 0 directories and 163 files in \"data/animal30/raw-animals-image-dataset/val/ELEPHANT\".\n",
      "There are 0 directories and 171 files in \"data/animal30/raw-animals-image-dataset/val/SNAKE\".\n",
      "There are 0 directories and 162 files in \"data/animal30/raw-animals-image-dataset/val/GIRAFFE\".\n",
      "There are 0 directories and 174 files in \"data/animal30/raw-animals-image-dataset/val/CATS\".\n",
      "There are 0 directories and 161 files in \"data/animal30/raw-animals-image-dataset/val/ZEBRA\".\n",
      "There are 0 directories and 174 files in \"data/animal30/raw-animals-image-dataset/val/WOLF\".\n",
      "There are 0 directories and 166 files in \"data/animal30/raw-animals-image-dataset/val/HIPPOPOTAMUS\".\n",
      "There are 0 directories and 164 files in \"data/animal30/raw-animals-image-dataset/val/MOOSE\".\n",
      "There are 0 directories and 190 files in \"data/animal30/raw-animals-image-dataset/val/HORSE\".\n",
      "There are 0 directories and 162 files in \"data/animal30/raw-animals-image-dataset/val/TORTOISE\".\n",
      "There are 0 directories and 160 files in \"data/animal30/raw-animals-image-dataset/val/RABBIT\".\n",
      "There are 0 directories and 154 files in \"data/animal30/raw-animals-image-dataset/val/GOAT\".\n",
      "There are 0 directories and 156 files in \"data/animal30/raw-animals-image-dataset/val/LION\".\n",
      "There are 0 directories and 153 files in \"data/animal30/raw-animals-image-dataset/val/PORCUPINE\".\n",
      "There are 0 directories and 157 files in \"data/animal30/raw-animals-image-dataset/val/PANDA\".\n",
      "There are 0 directories and 157 files in \"data/animal30/raw-animals-image-dataset/val/KANGAROO\".\n",
      "There are 0 directories and 138 files in \"data/animal30/raw-animals-image-dataset/val/TIGER\".\n",
      "Total files present in the animal30 dataset: 24628\n"
     ]
    }
   ],
   "source": [
    "# walkthrough of train and test dataset\n",
    "total_files = []\n",
    "for dirpath, dirnames, filenames in os.walk('data/animal30/raw-animals-image-dataset'):\n",
    "    total_files.append(len(filenames))\n",
    "    print(f'There are {len(dirnames)} directories and {len(filenames)} files in \"{dirpath}\".')\n",
    "print(f'Total files present in the animal30 dataset: {sum(total_files)}')"
   ]
  },
  {
   "cell_type": "code",
   "execution_count": 9,
   "metadata": {
    "tags": []
   },
   "outputs": [
    {
     "name": "stderr",
     "output_type": "stream",
     "text": [
      "Downloading: \"https://download.pytorch.org/models/efficientnet_b2_rwightman-bcdf34b7.pth\" to /root/.cache/torch/hub/checkpoints/efficientnet_b2_rwightman-bcdf34b7.pth\n"
     ]
    },
    {
     "data": {
      "application/vnd.jupyter.widget-view+json": {
       "model_id": "89b3c575bb6549d298f35c6fff854c2d",
       "version_major": 2,
       "version_minor": 0
      },
      "text/plain": [
       "  0%|          | 0.00/35.2M [00:00<?, ?B/s]"
      ]
     },
     "metadata": {},
     "output_type": "display_data"
    }
   ],
   "source": [
    "# Creating a model and transforms\n",
    "# Using EfficientnetB2 as a model\n",
    "effnetb2, effnetb2_transforms = create_effnetb2_model(num_classes=30)"
   ]
  },
  {
   "cell_type": "code",
   "execution_count": 10,
   "metadata": {
    "tags": []
   },
   "outputs": [
    {
     "data": {
      "text/plain": [
       "============================================================================================================================================\n",
       "Layer (type (var_name))                                      Input Shape          Output Shape         Param #              Trainable\n",
       "============================================================================================================================================\n",
       "EfficientNet (EfficientNet)                                  [32, 3, 224, 224]    [32, 30]             --                   Partial\n",
       "├─Sequential (features)                                      [32, 3, 224, 224]    [32, 1408, 7, 7]     --                   False\n",
       "│    └─Conv2dNormActivation (0)                              [32, 3, 224, 224]    [32, 32, 112, 112]   --                   False\n",
       "│    │    └─Conv2d (0)                                       [32, 3, 224, 224]    [32, 32, 112, 112]   (864)                False\n",
       "│    │    └─BatchNorm2d (1)                                  [32, 32, 112, 112]   [32, 32, 112, 112]   (64)                 False\n",
       "│    │    └─SiLU (2)                                         [32, 32, 112, 112]   [32, 32, 112, 112]   --                   --\n",
       "│    └─Sequential (1)                                        [32, 32, 112, 112]   [32, 16, 112, 112]   --                   False\n",
       "│    │    └─MBConv (0)                                       [32, 32, 112, 112]   [32, 16, 112, 112]   (1,448)              False\n",
       "│    │    └─MBConv (1)                                       [32, 16, 112, 112]   [32, 16, 112, 112]   (612)                False\n",
       "│    └─Sequential (2)                                        [32, 16, 112, 112]   [32, 24, 56, 56]     --                   False\n",
       "│    │    └─MBConv (0)                                       [32, 16, 112, 112]   [32, 24, 56, 56]     (6,004)              False\n",
       "│    │    └─MBConv (1)                                       [32, 24, 56, 56]     [32, 24, 56, 56]     (10,710)             False\n",
       "│    │    └─MBConv (2)                                       [32, 24, 56, 56]     [32, 24, 56, 56]     (10,710)             False\n",
       "│    └─Sequential (3)                                        [32, 24, 56, 56]     [32, 48, 28, 28]     --                   False\n",
       "│    │    └─MBConv (0)                                       [32, 24, 56, 56]     [32, 48, 28, 28]     (16,518)             False\n",
       "│    │    └─MBConv (1)                                       [32, 48, 28, 28]     [32, 48, 28, 28]     (43,308)             False\n",
       "│    │    └─MBConv (2)                                       [32, 48, 28, 28]     [32, 48, 28, 28]     (43,308)             False\n",
       "│    └─Sequential (4)                                        [32, 48, 28, 28]     [32, 88, 14, 14]     --                   False\n",
       "│    │    └─MBConv (0)                                       [32, 48, 28, 28]     [32, 88, 14, 14]     (50,300)             False\n",
       "│    │    └─MBConv (1)                                       [32, 88, 14, 14]     [32, 88, 14, 14]     (123,750)            False\n",
       "│    │    └─MBConv (2)                                       [32, 88, 14, 14]     [32, 88, 14, 14]     (123,750)            False\n",
       "│    │    └─MBConv (3)                                       [32, 88, 14, 14]     [32, 88, 14, 14]     (123,750)            False\n",
       "│    └─Sequential (5)                                        [32, 88, 14, 14]     [32, 120, 14, 14]    --                   False\n",
       "│    │    └─MBConv (0)                                       [32, 88, 14, 14]     [32, 120, 14, 14]    (149,158)            False\n",
       "│    │    └─MBConv (1)                                       [32, 120, 14, 14]    [32, 120, 14, 14]    (237,870)            False\n",
       "│    │    └─MBConv (2)                                       [32, 120, 14, 14]    [32, 120, 14, 14]    (237,870)            False\n",
       "│    │    └─MBConv (3)                                       [32, 120, 14, 14]    [32, 120, 14, 14]    (237,870)            False\n",
       "│    └─Sequential (6)                                        [32, 120, 14, 14]    [32, 208, 7, 7]      --                   False\n",
       "│    │    └─MBConv (0)                                       [32, 120, 14, 14]    [32, 208, 7, 7]      (301,406)            False\n",
       "│    │    └─MBConv (1)                                       [32, 208, 7, 7]      [32, 208, 7, 7]      (686,868)            False\n",
       "│    │    └─MBConv (2)                                       [32, 208, 7, 7]      [32, 208, 7, 7]      (686,868)            False\n",
       "│    │    └─MBConv (3)                                       [32, 208, 7, 7]      [32, 208, 7, 7]      (686,868)            False\n",
       "│    │    └─MBConv (4)                                       [32, 208, 7, 7]      [32, 208, 7, 7]      (686,868)            False\n",
       "│    └─Sequential (7)                                        [32, 208, 7, 7]      [32, 352, 7, 7]      --                   False\n",
       "│    │    └─MBConv (0)                                       [32, 208, 7, 7]      [32, 352, 7, 7]      (846,900)            False\n",
       "│    │    └─MBConv (1)                                       [32, 352, 7, 7]      [32, 352, 7, 7]      (1,888,920)          False\n",
       "│    └─Conv2dNormActivation (8)                              [32, 352, 7, 7]      [32, 1408, 7, 7]     --                   False\n",
       "│    │    └─Conv2d (0)                                       [32, 352, 7, 7]      [32, 1408, 7, 7]     (495,616)            False\n",
       "│    │    └─BatchNorm2d (1)                                  [32, 1408, 7, 7]     [32, 1408, 7, 7]     (2,816)              False\n",
       "│    │    └─SiLU (2)                                         [32, 1408, 7, 7]     [32, 1408, 7, 7]     --                   --\n",
       "├─AdaptiveAvgPool2d (avgpool)                                [32, 1408, 7, 7]     [32, 1408, 1, 1]     --                   --\n",
       "├─Sequential (classifier)                                    [32, 1408]           [32, 30]             --                   True\n",
       "│    └─Dropout (0)                                           [32, 1408]           [32, 1408]           --                   --\n",
       "│    └─Linear (1)                                            [32, 1408]           [32, 30]             42,270               True\n",
       "============================================================================================================================================\n",
       "Total params: 7,743,264\n",
       "Trainable params: 42,270\n",
       "Non-trainable params: 7,700,994\n",
       "Total mult-adds (G): 21.05\n",
       "============================================================================================================================================\n",
       "Input size (MB): 19.27\n",
       "Forward/backward pass size (MB): 5017.54\n",
       "Params size (MB): 30.97\n",
       "Estimated Total Size (MB): 5067.78\n",
       "============================================================================================================================================"
      ]
     },
     "execution_count": 10,
     "metadata": {},
     "output_type": "execute_result"
    }
   ],
   "source": [
    "# summary of the model\n",
    "summary(model=effnetb2,\n",
    "       input_size=(32, 3, 224, 224),\n",
    "       col_names=['input_size',\n",
    "                 'output_size',\n",
    "                 'num_params',\n",
    "                 'trainable'],\n",
    "       col_width=20,\n",
    "       row_settings=['var_names'])"
   ]
  },
  {
   "cell_type": "code",
   "execution_count": 11,
   "metadata": {
    "tags": []
   },
   "outputs": [
    {
     "name": "stdout",
     "output_type": "stream",
     "text": [
      "ImageClassification(\n",
      "    crop_size=[288]\n",
      "    resize_size=[288]\n",
      "    mean=[0.485, 0.456, 0.406]\n",
      "    std=[0.229, 0.224, 0.225]\n",
      "    interpolation=InterpolationMode.BICUBIC\n",
      ")\n",
      "Compose(\n",
      "    TrivialAugmentWide(num_magnitude_bins=31, interpolation=InterpolationMode.NEAREST, fill=None)\n",
      "    ImageClassification(\n",
      "    crop_size=[288]\n",
      "    resize_size=[288]\n",
      "    mean=[0.485, 0.456, 0.406]\n",
      "    std=[0.229, 0.224, 0.225]\n",
      "    interpolation=InterpolationMode.BICUBIC\n",
      ")\n",
      ")\n"
     ]
    }
   ],
   "source": [
    "# Creating augmentation transforms for train dataset\n",
    "effnetb2_aug_transforms = torchvision.transforms.Compose([\n",
    "    torchvision.transforms.TrivialAugmentWide(),\n",
    "    effnetb2_transforms\n",
    "])\n",
    "\n",
    "# Print both transforms with and without augmentation\n",
    "print(f'{effnetb2_transforms}\\n{effnetb2_aug_transforms}')"
   ]
  },
  {
   "cell_type": "code",
   "execution_count": 12,
   "metadata": {
    "tags": []
   },
   "outputs": [
    {
     "data": {
      "text/plain": [
       "(Dataset ImageFolder\n",
       "     Number of datapoints: 19747\n",
       "     Root location: data/animal30/raw-animals-image-dataset/train\n",
       "     StandardTransform\n",
       " Transform: Compose(\n",
       "                TrivialAugmentWide(num_magnitude_bins=31, interpolation=InterpolationMode.NEAREST, fill=None)\n",
       "                ImageClassification(\n",
       "                crop_size=[288]\n",
       "                resize_size=[288]\n",
       "                mean=[0.485, 0.456, 0.406]\n",
       "                std=[0.229, 0.224, 0.225]\n",
       "                interpolation=InterpolationMode.BICUBIC\n",
       "            )\n",
       "            ),\n",
       " Dataset ImageFolder\n",
       "     Number of datapoints: 4881\n",
       "     Root location: data/animal30/raw-animals-image-dataset/val\n",
       "     StandardTransform\n",
       " Transform: ImageClassification(\n",
       "                crop_size=[288]\n",
       "                resize_size=[288]\n",
       "                mean=[0.485, 0.456, 0.406]\n",
       "                std=[0.229, 0.224, 0.225]\n",
       "                interpolation=InterpolationMode.BICUBIC\n",
       "            ),\n",
       " ['BEAR',\n",
       "  'CATS',\n",
       "  'CHEETAH',\n",
       "  'COW',\n",
       "  'CROCODILES',\n",
       "  'DEER',\n",
       "  'DOGS',\n",
       "  'ELEPHANT',\n",
       "  'GIRAFFE',\n",
       "  'GOAT',\n",
       "  'HIPPOPOTAMUS',\n",
       "  'HORSE',\n",
       "  'KANGAROO',\n",
       "  'LION',\n",
       "  'MEERKAT',\n",
       "  'MONKEY',\n",
       "  'MOOSE',\n",
       "  'OSTRICH',\n",
       "  'PANDA',\n",
       "  'PENGUINS',\n",
       "  'PORCUPINE',\n",
       "  'RABBIT',\n",
       "  'RHINO',\n",
       "  'SNAKE',\n",
       "  'SQUIREL',\n",
       "  'TIGER',\n",
       "  'TORTOISE',\n",
       "  'WALRUS',\n",
       "  'WOLF',\n",
       "  'ZEBRA'])"
      ]
     },
     "execution_count": 12,
     "metadata": {},
     "output_type": "execute_result"
    }
   ],
   "source": [
    "# Creating PyTorch datasets and dataloaders of the training and testing datasets.\n",
    "# Creating PyTorch datasets\n",
    "animal30_train_dataset = torchvision.datasets.ImageFolder(root=animal30_train_dir,\n",
    "                                                          transform=effnetb2_aug_transforms)\n",
    "animal30_test_dataset = torchvision.datasets.ImageFolder(root=animal30_test_dir,\n",
    "                                                         transform=effnetb2_transforms)\n",
    "animal30_class_names = animal30_train_dataset.classes\n",
    "\n",
    "animal30_train_dataset, animal30_test_dataset, animal30_class_names"
   ]
  },
  {
   "cell_type": "code",
   "execution_count": 14,
   "metadata": {
    "tags": []
   },
   "outputs": [
    {
     "data": {
      "text/plain": [
       "(<torch.utils.data.dataloader.DataLoader at 0x7fbc5135b3a0>,\n",
       " <torch.utils.data.dataloader.DataLoader at 0x7fbc5135bd90>)"
      ]
     },
     "execution_count": 14,
     "metadata": {},
     "output_type": "execute_result"
    }
   ],
   "source": [
    "# Creating dataloaders of the animal30 datasets\n",
    "num_workers = os.cpu_count()\n",
    "\n",
    "animal30_train_dataloaders = DataLoader(dataset=animal30_train_dataset,\n",
    "                                       batch_size=32,\n",
    "                                       shuffle=True,\n",
    "                                       num_workers=num_workers,\n",
    "                                       pin_memory=True)\n",
    "animal30_test_dataloaders = DataLoader(dataset=animal30_test_dataset,\n",
    "                                       batch_size=32,\n",
    "                                       shuffle=False,\n",
    "                                       num_workers=num_workers,\n",
    "                                       pin_memory=True)\n",
    "\n",
    "animal30_train_dataloaders, animal30_test_dataloaders"
   ]
  },
  {
   "cell_type": "code",
   "execution_count": 15,
   "metadata": {},
   "outputs": [
    {
     "name": "stdout",
     "output_type": "stream",
     "text": [
      "\n",
      "[INFO] Creating SummaryWriter, saving to: runs/28-12-2022/animal_vision_big/effnetb2...\n"
     ]
    },
    {
     "data": {
      "application/vnd.jupyter.widget-view+json": {
       "model_id": "e765bee8fce74cfa81a53eea07a71de5",
       "version_major": 2,
       "version_minor": 0
      },
      "text/plain": [
       "  0%|          | 0/5 [00:00<?, ?it/s]"
      ]
     },
     "metadata": {},
     "output_type": "display_data"
    },
    {
     "name": "stdout",
     "output_type": "stream",
     "text": [
      "Epoch: 1 | train_loss: 1.5541 , train_acc: 0.7477 | test_loss: 1.0599, test_acc: 0.8961\n",
      "Epoch: 2 | train_loss: 1.2979 , train_acc: 0.8056 | test_loss: 1.0246, test_acc: 0.9004\n",
      "Epoch: 3 | train_loss: 1.2780 , train_acc: 0.8105 | test_loss: 1.0116, test_acc: 0.9038\n",
      "Epoch: 4 | train_loss: 1.2596 , train_acc: 0.8199 | test_loss: 1.0092, test_acc: 0.9045\n",
      "Epoch: 5 | train_loss: 1.2516 , train_acc: 0.8213 | test_loss: 1.0022, test_acc: 0.9079\n"
     ]
    }
   ],
   "source": [
    "# Training the EfficientNetB2 model with the animal30 dataset\n",
    "# Setting up loss and optimizer\n",
    "optimizer = torch.optim.Adam(params=effnetb2.parameters(), lr=1e-3)\n",
    "loss_fn = nn.CrossEntropyLoss(label_smoothing=0.1)\n",
    "\n",
    "# training the model using the model script engine.py\n",
    "set_seed(seed=42)\n",
    "animal30_effnetb2_results = engine.train(model=effnetb2,\n",
    "                                        train_dataloader=animal30_train_dataloaders,\n",
    "                                        test_dataloader=animal30_test_dataloaders,\n",
    "                                        loss_fn=loss_fn,\n",
    "                                        optimizer=optimizer,\n",
    "                                        epochs=5,\n",
    "                                        device=device,\n",
    "                                        writer=engine.create_writer(experiment_name='animal_vision_big',\n",
    "                                                                    model_name='effnetb2'))"
   ]
  },
  {
   "cell_type": "code",
   "execution_count": 16,
   "metadata": {},
   "outputs": [
    {
     "data": {
      "image/png": "[encoded data removed]",
      "text/plain": [
       "<Figure size 1080x504 with 2 Axes>"
      ]
     },
     "metadata": {
      "needs_background": "light"
     },
     "output_type": "display_data"
    }
   ],
   "source": [
    "# Plot loss and acurracy curves from the efficientnetB2 result\n",
    "plot_loss_curves.plot_curves(animal30_effnetb2_results)"
   ]
  },
  {
   "cell_type": "code",
   "execution_count": 17,
   "metadata": {},
   "outputs": [
    {
     "name": "stdout",
     "output_type": "stream",
     "text": [
      "\n",
      "[INFO] Saving Model to: models/pretrained_effnetb2_animal_vision_big.pth\n"
     ]
    }
   ],
   "source": [
    "# Saving the model\n",
    "# Saved model path\n",
    "utils.save_model(model=effnetb2,\n",
    "                 target_dir='models',\n",
    "                 model_name='pretrained_effnetb2_animal_vision_big.pth')"
   ]
  },
  {
   "cell_type": "code",
   "execution_count": 18,
   "metadata": {},
   "outputs": [
    {
     "name": "stdout",
     "output_type": "stream",
     "text": [
      "Pretrained EfficientNetB2 feature extracted model size: 29 MB\n"
     ]
    }
   ],
   "source": [
    "# Checking extra details of our saved model\n",
    "animal30_effnetb2_saved_model_size = Path('models/pretrained_effnetb2_animal_vision_big.pth').stat().st_size // (1024*1024)\n",
    "print(f'Pretrained EfficientNetB2 feature extracted model size: {animal30_effnetb2_saved_model_size} MB')"
   ]
  },
  {
   "cell_type": "code",
   "execution_count": 19,
   "metadata": {},
   "outputs": [
    {
     "name": "stdout",
     "output_type": "stream",
     "text": [
      "Total parameters of animal30 EffNetB2 Model: 7743264\n",
      "Total trainable parameters of animal30 EffNetB2 Model: 42270\n",
      "Total non-trainable parameters of animal30 EffNetB2 Model: 7700994\n"
     ]
    }
   ],
   "source": [
    "# Check the total parameters and total trainable parameters\n",
    "animal30_effnetb2_total_params = sum(p.numel() for p in effnetb2.parameters())\n",
    "animal30_effnetb2_trainable_params = sum(p.numel() for p in effnetb2.parameters() if p.requires_grad)\n",
    "print(f'Total parameters of animal30 EffNetB2 Model: {animal30_effnetb2_total_params}')\n",
    "print(f'Total trainable parameters of animal30 EffNetB2 Model: {animal30_effnetb2_trainable_params}')\n",
    "print(f'Total non-trainable parameters of animal30 EffNetB2 Model: {animal30_effnetb2_total_params-animal30_effnetb2_trainable_params}')"
   ]
  },
  {
   "cell_type": "markdown",
   "metadata": {},
   "source": [
    "The result we have got from EfficientNetB2 is good around 90% accuracy on the test data. \n",
    "\n",
    "We can also see that the plots are indicating overfitting this might be due to the less epochs we have trained the model, there is a high chance that if we increase the model epochs and also apply learning rate scheduler, results might change and be much better then the current ones."
   ]
  },
  {
   "cell_type": "markdown",
   "metadata": {},
   "source": [
    "### Turning the Animal Vision Big into a Deployable app"
   ]
  },
  {
   "cell_type": "code",
   "execution_count": 22,
   "metadata": {},
   "outputs": [],
   "source": [
    "# Create Animal Vision Big demo path\n",
    "animalvision_big_demo_path = Path('demos/animalvision_big')\n",
    "\n",
    "# Create a directory for animal vision big\n",
    "animalvision_big_demo_path.mkdir(parents=True, exist_ok=True)\n",
    "\n",
    "# Create a exmaples directory for animal vision  big\n",
    "(animalvision_big_demo_path / 'examples').mkdir(parents=True, exist_ok=True)"
   ]
  },
  {
   "cell_type": "code",
   "execution_count": 23,
   "metadata": {},
   "outputs": [
    {
     "name": "stdout",
     "output_type": "stream",
     "text": [
      "[INFO] Copying files from \"data/animal30/raw-animals-image-dataset/val/BEAR/polar-bear-7.jpg\" to \"demos/animalvision_big/examples\"\n",
      "[INFO] Copying files from \"data/animal30/raw-animals-image-dataset/val/CHEETAH/cheetah_16x9.jpg\" to \"demos/animalvision_big/examples\"\n",
      "[INFO] Copying files from \"data/animal30/raw-animals-image-dataset/val/PANDA/animal-hero-panda3.jpg\" to \"demos/animalvision_big/examples\"\n",
      "[INFO] Copying files from \"data/animal30/raw-animals-image-dataset/val/GIRAFFE/123093_web.jpg\" to \"demos/animalvision_big/examples\"\n",
      "[INFO] Copying files from \"data/animal30/raw-animals-image-dataset/val/RHINO/rhino-facts.jpg\" to \"demos/animalvision_big/examples\"\n"
     ]
    },
    {
     "data": {
      "text/plain": [
       "'demos/animalvision_big/pretrained_effnetb2_animal_vision_big.pth'"
      ]
     },
     "execution_count": 23,
     "metadata": {},
     "output_type": "execute_result"
    }
   ],
   "source": [
    "# Adding image files in the examples directory\n",
    "animal30_exmaples_list = [Path('data/animal30/raw-animals-image-dataset/val/BEAR/polar-bear-7.jpg'),\n",
    "                          Path('data/animal30/raw-animals-image-dataset/val/CHEETAH/cheetah_16x9.jpg'),\n",
    "                          Path('data/animal30/raw-animals-image-dataset/val/PANDA/animal-hero-panda3.jpg'),\n",
    "                          Path('data/animal30/raw-animals-image-dataset/val/GIRAFFE/123093_web.jpg'),\n",
    "                          Path('data/animal30/raw-animals-image-dataset/val/RHINO/rhino-facts.jpg')]\n",
    "for i in animal30_exmaples_list:\n",
    "    print(f'[INFO] Copying files from \"{i}\" to \"demos/animalvision_big/examples\"')\n",
    "    shutil.copy2(src=i, dst='demos/animalvision_big/examples')\n",
    "\n",
    "shutil.move(src='models/pretrained_effnetb2_animal_vision_big.pth', dst='demos/animalvision_big')"
   ]
  },
  {
   "cell_type": "code",
   "execution_count": 24,
   "metadata": {},
   "outputs": [
    {
     "name": "stdout",
     "output_type": "stream",
     "text": [
      "['BEAR', 'CATS', 'CHEETAH', 'COW', 'CROCODILES', 'DEER', 'DOGS', 'ELEPHANT', 'GIRAFFE', 'GOAT']\n",
      "\n",
      "[INFO] Saving Animal30 class names to demos/animalvision_big/class_names.txt\n"
     ]
    }
   ],
   "source": [
    "# Saving Animal30 class names in a file.\n",
    "# Viewing the first 10 class names\n",
    "print(animal30_class_names[:10])\n",
    "\n",
    "# Creating a text file path for the class names\n",
    "animal30_class_names_path = animalvision_big_demo_path / 'class_names.txt'\n",
    "\n",
    "# Writing the class names in the text file\n",
    "with open(animal30_class_names_path, 'w') as f:\n",
    "    print(f'\\n[INFO] Saving Animal30 class names to {animal30_class_names_path}')\n",
    "    f.write('\\n'.join(animal30_class_names))"
   ]
  },
  {
   "cell_type": "code",
   "execution_count": 25,
   "metadata": {},
   "outputs": [
    {
     "name": "stdout",
     "output_type": "stream",
     "text": [
      "['BEAR', 'CATS', 'CHEETAH', 'COW', 'CROCODILES', 'DEER', 'DOGS', 'ELEPHANT', 'GIRAFFE', 'GOAT']\n"
     ]
    }
   ],
   "source": [
    "# Reading the lines in the text file\n",
    "with open(animal30_class_names_path, 'r') as f:\n",
    "    animal30_class_names_loaded = [i.strip() for i in f.readlines()]\n",
    "print(animal30_class_names_loaded[:10])"
   ]
  },
  {
   "cell_type": "markdown",
   "metadata": {},
   "source": [
    "### Creating Animal Vision Big model in the demos directory - model.py"
   ]
  },
  {
   "cell_type": "code",
   "execution_count": 26,
   "metadata": {},
   "outputs": [
    {
     "name": "stdout",
     "output_type": "stream",
     "text": [
      "Writing demos/animalvision_big/model.py\n"
     ]
    }
   ],
   "source": [
    "%%writefile demos/animalvision_big/model.py\n",
    "import torch\n",
    "import torchvision\n",
    "from torch import nn\n",
    "\n",
    "def create_effnet_model(num_classes: int=30,\n",
    "                        seed: int=42):\n",
    "    \"\"\"\n",
    "    Create a feature extraction efficientNetB2 model and transforms.\n",
    "    Args: \n",
    "          num_classes: A integer number for classes in the classifier head.\n",
    "          seed: A random seed.\n",
    "    Returns:\n",
    "          model: A model of EfficientNetB2.\n",
    "          transforms: A torchvision image transforms based out of the EfficientNetb2.\n",
    "    \"\"\"\n",
    "    # Create weights, transform and model of effnetb2\n",
    "    weights = torchvision.models.EfficientNet_B2_Weights.DEFAULT\n",
    "    transform = weights.transforms()\n",
    "    model = torchvision.models.efficientnet_b2(weights=weights)\n",
    "    \n",
    "    # Freeze all the layers of the model\n",
    "    for param in model.parameters():\n",
    "        param.requires_grad = False\n",
    "    \n",
    "    # Change the head of the model\n",
    "    torch.manual_seed(seed)\n",
    "    model.classifier[1] = nn.Linear(in_features=1408, out_features=num_classes)\n",
    "    \n",
    "    return model, transform"
   ]
  },
  {
   "cell_type": "markdown",
   "metadata": {},
   "source": [
    "### Creating Animal Vision Big Gradio Core File - app.py"
   ]
  },
  {
   "cell_type": "code",
   "execution_count": 27,
   "metadata": {
    "tags": []
   },
   "outputs": [
    {
     "name": "stdout",
     "output_type": "stream",
     "text": [
      "Writing demos/animalvision_big/app.py\n"
     ]
    }
   ],
   "source": [
    "%%writefile demos/animalvision_big/app.py\n",
    "import gradio as gr\n",
    "import os\n",
    "import torch\n",
    "\n",
    "from model import create_effnet_model\n",
    "from timeit import default_timer as timer\n",
    "from typing import Tuple, Dict\n",
    "\n",
    "# setup class names\n",
    "with open('class_names.txt', 'r') as f:\n",
    "    class_names = [i.strip() for i in f.readlines()]\n",
    "\n",
    "# Create model\n",
    "effnetb2, effnetb2_transforms = create_effnet_model(num_classes=len(class_names))\n",
    "\n",
    "# Load saved weights\n",
    "effnetb2.load_state_dict(torch.load(f='pretrained_effnetb2_animal_vision_big.pth',\n",
    "                                    map_location=torch.device('cpu')))\n",
    "\n",
    "# Create Predict function\n",
    "def predict(img) -> Tuple[Dict, float]:\n",
    "    \"\"\"\n",
    "    Transforms the Input Image and returns prediction and time taken to predict.\n",
    "    \"\"\"\n",
    "    # Start the timer\n",
    "    start_time = timer()\n",
    "    \n",
    "    # Transform the image and add a batch\n",
    "    img = effnetb2_transforms(img).unsqueeze(dim=0)\n",
    "    \n",
    "    # Put the model in evaluation and inference mode\n",
    "    effnetb2.eval()\n",
    "    with torch.inference_mode():\n",
    "        # Get prediction probabilities\n",
    "        pred_probs = torch.softmax(effnetb2(img), dim=1)\n",
    "    \n",
    "    # Create a prediction label and probability dictionary for each prediction class as per the gradio requirement\n",
    "    pred_labels_and_probs = {class_names[i]: float(pred_probs[0][i]) for i in range(len(class_names))}\n",
    "    \n",
    "    # Calculate the prediction time\n",
    "    pred_time = round(timer() - start_time, 5)\n",
    "    \n",
    "    return pred_labels_and_probs, pred_time\n",
    "\n",
    "# Create gradio app\n",
    "# Title, description and article in gradio app\n",
    "title = 'Animal Vision Big 🦁 🐯 🐺 👀'\n",
    "description = 'A Animal Vision Big project created and build using EfficientNetB2 feature extractor model to clasify images of 30 different animals #Github link of class_names.txt#.'\n",
    "article = 'Created by John Pinto.'\n",
    "\n",
    "# Create example list\n",
    "example_list = [['examples/' + example] for example in os.listdir('examples') if example.endswith('.jpg')]\n",
    "\n",
    "# Creating a gradio demo\n",
    "demo = gr.Interface(fn=predict,\n",
    "                    inputs=gr.Image(type='pil'),\n",
    "                    outputs=[gr.Label(num_top_classes=5, label='Predictions'),\n",
    "                             gr.Number(label='Prediction Time (seconds)')],\n",
    "                    examples=example_list,\n",
    "                    title=title,\n",
    "                    description=description,\n",
    "                    article=article)\n",
    "# Launch the app\n",
    "demo.launch()"
   ]
  },
  {
   "cell_type": "markdown",
   "metadata": {},
   "source": [
    "### Create a Requirement file - requirements.txt"
   ]
  },
  {
   "cell_type": "code",
   "execution_count": 28,
   "metadata": {},
   "outputs": [
    {
     "name": "stdout",
     "output_type": "stream",
     "text": [
      "Writing demos/animalvision_big/requirements.txt\n"
     ]
    }
   ],
   "source": [
    "%%writefile demos/animalvision_big/requirements.txt\n",
    "torch == 1.12.0\n",
    "torchvision == 0.13.0\n",
    "gradio == 3.12.0"
   ]
  },
  {
   "cell_type": "code",
   "execution_count": 29,
   "metadata": {},
   "outputs": [
    {
     "name": "stdout",
     "output_type": "stream",
     "text": [
      "  adding: app.py (deflated 56%)\n",
      "  adding: class_names.txt (deflated 33%)\n",
      "  adding: examples/ (stored 0%)\n",
      "  adding: examples/cheetah_16x9.jpg (deflated 1%)\n",
      "  adding: examples/rhino-facts.jpg (deflated 0%)\n",
      "  adding: examples/123093_web.jpg (deflated 1%)\n",
      "  adding: examples/animal-hero-panda3.jpg (deflated 0%)\n",
      "  adding: examples/polar-bear-7.jpg (deflated 1%)\n",
      "  adding: model.py (deflated 55%)\n",
      "  adding: pretrained_effnetb2_animal_vision_big.pth (deflated 8%)\n",
      "  adding: requirements.txt (deflated 18%)\n"
     ]
    }
   ],
   "source": [
    "# Downloading the animal vision big directory\n",
    "# Zip the directory and exclude files that are not required\n",
    "!cd demos/animalvision_big && zip -r ../animalvision_big.zip * -x '*.pyc' '*.ipynb' '*__pycache__*' '*ipynb_checkpoints*'\n",
    "\n",
    "# unpacking the zip file\n",
    "shutil.unpack_archive('demos/animalvision_big.zip',\n",
    "                      extract_dir='animalvision_big')"
   ]
  },
  {
   "cell_type": "code",
   "execution_count": 8,
   "metadata": {},
   "outputs": [
    {
     "data": {
      "text/html": [
       "\n",
       "        <iframe\n",
       "            width=\"900\"\n",
       "            height=\"750\"\n",
       "            src=\"https://johnpinto-animal-vision-big.hf.space\"\n",
       "            frameborder=\"0\"\n",
       "            allowfullscreen\n",
       "            \n",
       "        ></iframe>\n",
       "        "
      ],
      "text/plain": [
       "<IPython.lib.display.IFrame at 0x7f96744cc250>"
      ]
     },
     "execution_count": 8,
     "metadata": {},
     "output_type": "execute_result"
    }
   ],
   "source": [
    "# Displaying Animal Vision Big from Hugging Face\n",
    "IFrame(src='https://johnpinto-animal-vision-big.hf.space',\n",
    "      width=900,\n",
    "      height=750)"
   ]
  },
  {
   "cell_type": "markdown",
   "metadata": {},
   "source": [
    "Finally the Animal Vision Big is been created and live on HuggingFace. You can check the live version overe here -> [Animal Vision Big](https://johnpinto-animal-vision-big.hf.space)"
   ]
  }
 ],
 "metadata": {
  "accelerator": "GPU",
  "colab": {
   "provenance": []
  },
  "gpuClass": "standard",
  "kernelspec": {
   "display_name": "Python 3 (ipykernel)",
   "language": "python",
   "name": "python3"
  },
  "language_info": {
   "codemirror_mode": {
    "name": "ipython",
    "version": 3
   },
   "file_extension": ".py",
   "mimetype": "text/x-python",
   "name": "python",
   "nbconvert_exporter": "python",
   "pygments_lexer": "ipython3",
   "version": "3.9.13"
  },
  "widgets": {
   "application/vnd.jupyter.widget-state+json": {
    "037f596ad6174aa6ab326640105d5f3a": {
     "model_module": "@jupyter-widgets/controls",
     "model_module_version": "1.5.0",
     "model_name": "DescriptionStyleModel",
     "state": {
      "_model_module": "@jupyter-widgets/controls",
      "_model_module_version": "1.5.0",
      "_model_name": "DescriptionStyleModel",
      "_view_count": null,
      "_view_module": "@jupyter-widgets/base",
      "_view_module_version": "1.2.0",
      "_view_name": "StyleView",
      "description_width": ""
     }
    },
    "0c07a17183744396a99b153217c179b5": {
     "model_module": "@jupyter-widgets/controls",
     "model_module_version": "1.5.0",
     "model_name": "DescriptionStyleModel",
     "state": {
      "_model_module": "@jupyter-widgets/controls",
      "_model_module_version": "1.5.0",
      "_model_name": "DescriptionStyleModel",
      "_view_count": null,
      "_view_module": "@jupyter-widgets/base",
      "_view_module_version": "1.2.0",
      "_view_name": "StyleView",
      "description_width": ""
     }
    },
    "0ee0b8cb02714d62ae561f92c4f32f0b": {
     "model_module": "@jupyter-widgets/controls",
     "model_module_version": "1.5.0",
     "model_name": "FloatProgressModel",
     "state": {
      "_dom_classes": [],
      "_model_module": "@jupyter-widgets/controls",
      "_model_module_version": "1.5.0",
      "_model_name": "FloatProgressModel",
      "_view_count": null,
      "_view_module": "@jupyter-widgets/controls",
      "_view_module_version": "1.5.0",
      "_view_name": "ProgressView",
      "bar_style": "success",
      "description": "",
      "description_tooltip": null,
      "layout": "IPY_MODEL_d751ce6e625c4f788296db84343e09dd",
      "max": 346328529,
      "min": 0,
      "orientation": "horizontal",
      "style": "IPY_MODEL_e65b48b24c8b4bdda0c0647a2ca99535",
      "value": 346328529
     }
    },
    "109e74e70a424c1d93bf0f1721e0f46d": {
     "model_module": "@jupyter-widgets/base",
     "model_module_version": "1.2.0",
     "model_name": "LayoutModel",
     "state": {
      "_model_module": "@jupyter-widgets/base",
      "_model_module_version": "1.2.0",
      "_model_name": "LayoutModel",
      "_view_count": null,
      "_view_module": "@jupyter-widgets/base",
      "_view_module_version": "1.2.0",
      "_view_name": "LayoutView",
      "align_content": null,
      "align_items": null,
      "align_self": null,
      "border": null,
      "bottom": null,
      "display": null,
      "flex": null,
      "flex_flow": null,
      "grid_area": null,
      "grid_auto_columns": null,
      "grid_auto_flow": null,
      "grid_auto_rows": null,
      "grid_column": null,
      "grid_gap": null,
      "grid_row": null,
      "grid_template_areas": null,
      "grid_template_columns": null,
      "grid_template_rows": null,
      "height": null,
      "justify_content": null,
      "justify_items": null,
      "left": null,
      "margin": null,
      "max_height": null,
      "max_width": null,
      "min_height": null,
      "min_width": null,
      "object_fit": null,
      "object_position": null,
      "order": null,
      "overflow": null,
      "overflow_x": null,
      "overflow_y": null,
      "padding": null,
      "right": null,
      "top": null,
      "visibility": null,
      "width": null
     }
    },
    "10fc564e0c24498aa152d8c8f3e46abf": {
     "model_module": "@jupyter-widgets/controls",
     "model_module_version": "1.5.0",
     "model_name": "HTMLModel",
     "state": {
      "_dom_classes": [],
      "_model_module": "@jupyter-widgets/controls",
      "_model_module_version": "1.5.0",
      "_model_name": "HTMLModel",
      "_view_count": null,
      "_view_module": "@jupyter-widgets/controls",
      "_view_module_version": "1.5.0",
      "_view_name": "HTMLView",
      "description": "",
      "description_tooltip": null,
      "layout": "IPY_MODEL_4e41d7cc9d1544208849518be27bfd21",
      "placeholder": "​",
      "style": "IPY_MODEL_c5c006c68e4145bc951dbcc0adfb323a",
      "value": "100%"
     }
    },
    "1ab99dd2c9ad42ff856bc34ccf5c8912": {
     "model_module": "@jupyter-widgets/controls",
     "model_module_version": "1.5.0",
     "model_name": "HTMLModel",
     "state": {
      "_dom_classes": [],
      "_model_module": "@jupyter-widgets/controls",
      "_model_module_version": "1.5.0",
      "_model_name": "HTMLModel",
      "_view_count": null,
      "_view_module": "@jupyter-widgets/controls",
      "_view_module_version": "1.5.0",
      "_view_name": "HTMLView",
      "description": "",
      "description_tooltip": null,
      "layout": "IPY_MODEL_b50b2cadca3d4f1f8269ce3a55fcaf07",
      "placeholder": "​",
      "style": "IPY_MODEL_658d6008d43b4a9594080cd1998a4cd2",
      "value": " 439/439 [04:33&lt;00:00,  1.68it/s]"
     }
    },
    "1d943dbefbd74964accb2236981c0597": {
     "model_module": "@jupyter-widgets/controls",
     "model_module_version": "1.5.0",
     "model_name": "ProgressStyleModel",
     "state": {
      "_model_module": "@jupyter-widgets/controls",
      "_model_module_version": "1.5.0",
      "_model_name": "ProgressStyleModel",
      "_view_count": null,
      "_view_module": "@jupyter-widgets/base",
      "_view_module_version": "1.2.0",
      "_view_name": "StyleView",
      "bar_color": null,
      "description_width": ""
     }
    },
    "20638decc217426b867e1907d8a117ee": {
     "model_module": "@jupyter-widgets/base",
     "model_module_version": "1.2.0",
     "model_name": "LayoutModel",
     "state": {
      "_model_module": "@jupyter-widgets/base",
      "_model_module_version": "1.2.0",
      "_model_name": "LayoutModel",
      "_view_count": null,
      "_view_module": "@jupyter-widgets/base",
      "_view_module_version": "1.2.0",
      "_view_name": "LayoutView",
      "align_content": null,
      "align_items": null,
      "align_self": null,
      "border": null,
      "bottom": null,
      "display": null,
      "flex": null,
      "flex_flow": null,
      "grid_area": null,
      "grid_auto_columns": null,
      "grid_auto_flow": null,
      "grid_auto_rows": null,
      "grid_column": null,
      "grid_gap": null,
      "grid_row": null,
      "grid_template_areas": null,
      "grid_template_columns": null,
      "grid_template_rows": null,
      "height": null,
      "justify_content": null,
      "justify_items": null,
      "left": null,
      "margin": null,
      "max_height": null,
      "max_width": null,
      "min_height": null,
      "min_width": null,
      "object_fit": null,
      "object_position": null,
      "order": null,
      "overflow": null,
      "overflow_x": null,
      "overflow_y": null,
      "padding": null,
      "right": null,
      "top": null,
      "visibility": null,
      "width": null
     }
    },
    "251396c8859341c3ae59ce94524d2f36": {
     "model_module": "@jupyter-widgets/controls",
     "model_module_version": "1.5.0",
     "model_name": "HBoxModel",
     "state": {
      "_dom_classes": [],
      "_model_module": "@jupyter-widgets/controls",
      "_model_module_version": "1.5.0",
      "_model_name": "HBoxModel",
      "_view_count": null,
      "_view_module": "@jupyter-widgets/controls",
      "_view_module_version": "1.5.0",
      "_view_name": "HBoxView",
      "box_style": "",
      "children": [
       "IPY_MODEL_a6698108086847bda1cb4170d267c881",
       "IPY_MODEL_0ee0b8cb02714d62ae561f92c4f32f0b",
       "IPY_MODEL_d30dbb8319124b9b975791ff51ef0ba2"
      ],
      "layout": "IPY_MODEL_d3645b5aab2b48398f48572e30fc02de"
     }
    },
    "256a04e69b0f4947b47d614e141a0c1e": {
     "model_module": "@jupyter-widgets/base",
     "model_module_version": "1.2.0",
     "model_name": "LayoutModel",
     "state": {
      "_model_module": "@jupyter-widgets/base",
      "_model_module_version": "1.2.0",
      "_model_name": "LayoutModel",
      "_view_count": null,
      "_view_module": "@jupyter-widgets/base",
      "_view_module_version": "1.2.0",
      "_view_name": "LayoutView",
      "align_content": null,
      "align_items": null,
      "align_self": null,
      "border": null,
      "bottom": null,
      "display": null,
      "flex": null,
      "flex_flow": null,
      "grid_area": null,
      "grid_auto_columns": null,
      "grid_auto_flow": null,
      "grid_auto_rows": null,
      "grid_column": null,
      "grid_gap": null,
      "grid_row": null,
      "grid_template_areas": null,
      "grid_template_columns": null,
      "grid_template_rows": null,
      "height": null,
      "justify_content": null,
      "justify_items": null,
      "left": null,
      "margin": null,
      "max_height": null,
      "max_width": null,
      "min_height": null,
      "min_width": null,
      "object_fit": null,
      "object_position": null,
      "order": null,
      "overflow": null,
      "overflow_x": null,
      "overflow_y": null,
      "padding": null,
      "right": null,
      "top": null,
      "visibility": null,
      "width": null
     }
    },
    "29f28c718220448b967ede71b6aa3cfe": {
     "model_module": "@jupyter-widgets/controls",
     "model_module_version": "1.5.0",
     "model_name": "HTMLModel",
     "state": {
      "_dom_classes": [],
      "_model_module": "@jupyter-widgets/controls",
      "_model_module_version": "1.5.0",
      "_model_name": "HTMLModel",
      "_view_count": null,
      "_view_module": "@jupyter-widgets/controls",
      "_view_module_version": "1.5.0",
      "_view_name": "HTMLView",
      "description": "",
      "description_tooltip": null,
      "layout": "IPY_MODEL_a1a34b1712d64e6d83ec28824883ac8f",
      "placeholder": "​",
      "style": "IPY_MODEL_0c07a17183744396a99b153217c179b5",
      "value": "100%"
     }
    },
    "2b0aa39f8a8242919130f382a14538b6": {
     "model_module": "@jupyter-widgets/controls",
     "model_module_version": "1.5.0",
     "model_name": "ProgressStyleModel",
     "state": {
      "_model_module": "@jupyter-widgets/controls",
      "_model_module_version": "1.5.0",
      "_model_name": "ProgressStyleModel",
      "_view_count": null,
      "_view_module": "@jupyter-widgets/base",
      "_view_module_version": "1.2.0",
      "_view_name": "StyleView",
      "bar_color": null,
      "description_width": ""
     }
    },
    "30e3fe6361ba4beb8644bfec1b65aa7c": {
     "model_module": "@jupyter-widgets/base",
     "model_module_version": "1.2.0",
     "model_name": "LayoutModel",
     "state": {
      "_model_module": "@jupyter-widgets/base",
      "_model_module_version": "1.2.0",
      "_model_name": "LayoutModel",
      "_view_count": null,
      "_view_module": "@jupyter-widgets/base",
      "_view_module_version": "1.2.0",
      "_view_name": "LayoutView",
      "align_content": null,
      "align_items": null,
      "align_self": null,
      "border": null,
      "bottom": null,
      "display": null,
      "flex": null,
      "flex_flow": null,
      "grid_area": null,
      "grid_auto_columns": null,
      "grid_auto_flow": null,
      "grid_auto_rows": null,
      "grid_column": null,
      "grid_gap": null,
      "grid_row": null,
      "grid_template_areas": null,
      "grid_template_columns": null,
      "grid_template_rows": null,
      "height": null,
      "justify_content": null,
      "justify_items": null,
      "left": null,
      "margin": null,
      "max_height": null,
      "max_width": null,
      "min_height": null,
      "min_width": null,
      "object_fit": null,
      "object_position": null,
      "order": null,
      "overflow": null,
      "overflow_x": null,
      "overflow_y": null,
      "padding": null,
      "right": null,
      "top": null,
      "visibility": null,
      "width": null
     }
    },
    "322aa56b2ddd4b6e97c1a4d5febf06c7": {
     "model_module": "@jupyter-widgets/controls",
     "model_module_version": "1.5.0",
     "model_name": "DescriptionStyleModel",
     "state": {
      "_model_module": "@jupyter-widgets/controls",
      "_model_module_version": "1.5.0",
      "_model_name": "DescriptionStyleModel",
      "_view_count": null,
      "_view_module": "@jupyter-widgets/base",
      "_view_module_version": "1.2.0",
      "_view_name": "StyleView",
      "description_width": ""
     }
    },
    "341857c408f941e5a513d853ba2f1757": {
     "model_module": "@jupyter-widgets/base",
     "model_module_version": "1.2.0",
     "model_name": "LayoutModel",
     "state": {
      "_model_module": "@jupyter-widgets/base",
      "_model_module_version": "1.2.0",
      "_model_name": "LayoutModel",
      "_view_count": null,
      "_view_module": "@jupyter-widgets/base",
      "_view_module_version": "1.2.0",
      "_view_name": "LayoutView",
      "align_content": null,
      "align_items": null,
      "align_self": null,
      "border": null,
      "bottom": null,
      "display": null,
      "flex": null,
      "flex_flow": null,
      "grid_area": null,
      "grid_auto_columns": null,
      "grid_auto_flow": null,
      "grid_auto_rows": null,
      "grid_column": null,
      "grid_gap": null,
      "grid_row": null,
      "grid_template_areas": null,
      "grid_template_columns": null,
      "grid_template_rows": null,
      "height": null,
      "justify_content": null,
      "justify_items": null,
      "left": null,
      "margin": null,
      "max_height": null,
      "max_width": null,
      "min_height": null,
      "min_width": null,
      "object_fit": null,
      "object_position": null,
      "order": null,
      "overflow": null,
      "overflow_x": null,
      "overflow_y": null,
      "padding": null,
      "right": null,
      "top": null,
      "visibility": null,
      "width": null
     }
    },
    "36e0652c579742fcb8939f74fe0bc9f3": {
     "model_module": "@jupyter-widgets/base",
     "model_module_version": "1.2.0",
     "model_name": "LayoutModel",
     "state": {
      "_model_module": "@jupyter-widgets/base",
      "_model_module_version": "1.2.0",
      "_model_name": "LayoutModel",
      "_view_count": null,
      "_view_module": "@jupyter-widgets/base",
      "_view_module_version": "1.2.0",
      "_view_name": "LayoutView",
      "align_content": null,
      "align_items": null,
      "align_self": null,
      "border": null,
      "bottom": null,
      "display": null,
      "flex": null,
      "flex_flow": null,
      "grid_area": null,
      "grid_auto_columns": null,
      "grid_auto_flow": null,
      "grid_auto_rows": null,
      "grid_column": null,
      "grid_gap": null,
      "grid_row": null,
      "grid_template_areas": null,
      "grid_template_columns": null,
      "grid_template_rows": null,
      "height": null,
      "justify_content": null,
      "justify_items": null,
      "left": null,
      "margin": null,
      "max_height": null,
      "max_width": null,
      "min_height": null,
      "min_width": null,
      "object_fit": null,
      "object_position": null,
      "order": null,
      "overflow": null,
      "overflow_x": null,
      "overflow_y": null,
      "padding": null,
      "right": null,
      "top": null,
      "visibility": null,
      "width": null
     }
    },
    "382988e3d6004fbca73fa02c678af1b2": {
     "model_module": "@jupyter-widgets/controls",
     "model_module_version": "1.5.0",
     "model_name": "HTMLModel",
     "state": {
      "_dom_classes": [],
      "_model_module": "@jupyter-widgets/controls",
      "_model_module_version": "1.5.0",
      "_model_name": "HTMLModel",
      "_view_count": null,
      "_view_module": "@jupyter-widgets/controls",
      "_view_module_version": "1.5.0",
      "_view_name": "HTMLView",
      "description": "",
      "description_tooltip": null,
      "layout": "IPY_MODEL_f95d5c664e724905904367654ae93462",
      "placeholder": "​",
      "style": "IPY_MODEL_322aa56b2ddd4b6e97c1a4d5febf06c7",
      "value": "100%"
     }
    },
    "3a1ec68bba6a4f32b4f45640e55f7cba": {
     "model_module": "@jupyter-widgets/base",
     "model_module_version": "1.2.0",
     "model_name": "LayoutModel",
     "state": {
      "_model_module": "@jupyter-widgets/base",
      "_model_module_version": "1.2.0",
      "_model_name": "LayoutModel",
      "_view_count": null,
      "_view_module": "@jupyter-widgets/base",
      "_view_module_version": "1.2.0",
      "_view_name": "LayoutView",
      "align_content": null,
      "align_items": null,
      "align_self": null,
      "border": null,
      "bottom": null,
      "display": null,
      "flex": null,
      "flex_flow": null,
      "grid_area": null,
      "grid_auto_columns": null,
      "grid_auto_flow": null,
      "grid_auto_rows": null,
      "grid_column": null,
      "grid_gap": null,
      "grid_row": null,
      "grid_template_areas": null,
      "grid_template_columns": null,
      "grid_template_rows": null,
      "height": null,
      "justify_content": null,
      "justify_items": null,
      "left": null,
      "margin": null,
      "max_height": null,
      "max_width": null,
      "min_height": null,
      "min_width": null,
      "object_fit": null,
      "object_position": null,
      "order": null,
      "overflow": null,
      "overflow_x": null,
      "overflow_y": null,
      "padding": null,
      "right": null,
      "top": null,
      "visibility": null,
      "width": null
     }
    },
    "3a5a69e3374a41968af0bd7468aee36c": {
     "model_module": "@jupyter-widgets/controls",
     "model_module_version": "1.5.0",
     "model_name": "DescriptionStyleModel",
     "state": {
      "_model_module": "@jupyter-widgets/controls",
      "_model_module_version": "1.5.0",
      "_model_name": "DescriptionStyleModel",
      "_view_count": null,
      "_view_module": "@jupyter-widgets/base",
      "_view_module_version": "1.2.0",
      "_view_name": "StyleView",
      "description_width": ""
     }
    },
    "3fb8ff946bae408a804ca929146ec7a8": {
     "model_module": "@jupyter-widgets/controls",
     "model_module_version": "1.5.0",
     "model_name": "ProgressStyleModel",
     "state": {
      "_model_module": "@jupyter-widgets/controls",
      "_model_module_version": "1.5.0",
      "_model_name": "ProgressStyleModel",
      "_view_count": null,
      "_view_module": "@jupyter-widgets/base",
      "_view_module_version": "1.2.0",
      "_view_name": "StyleView",
      "bar_color": null,
      "description_width": ""
     }
    },
    "4d1bd244924540f68a07ecb1fb66d35f": {
     "model_module": "@jupyter-widgets/base",
     "model_module_version": "1.2.0",
     "model_name": "LayoutModel",
     "state": {
      "_model_module": "@jupyter-widgets/base",
      "_model_module_version": "1.2.0",
      "_model_name": "LayoutModel",
      "_view_count": null,
      "_view_module": "@jupyter-widgets/base",
      "_view_module_version": "1.2.0",
      "_view_name": "LayoutView",
      "align_content": null,
      "align_items": null,
      "align_self": null,
      "border": null,
      "bottom": null,
      "display": null,
      "flex": null,
      "flex_flow": null,
      "grid_area": null,
      "grid_auto_columns": null,
      "grid_auto_flow": null,
      "grid_auto_rows": null,
      "grid_column": null,
      "grid_gap": null,
      "grid_row": null,
      "grid_template_areas": null,
      "grid_template_columns": null,
      "grid_template_rows": null,
      "height": null,
      "justify_content": null,
      "justify_items": null,
      "left": null,
      "margin": null,
      "max_height": null,
      "max_width": null,
      "min_height": null,
      "min_width": null,
      "object_fit": null,
      "object_position": null,
      "order": null,
      "overflow": null,
      "overflow_x": null,
      "overflow_y": null,
      "padding": null,
      "right": null,
      "top": null,
      "visibility": null,
      "width": null
     }
    },
    "4d4112ee464a4b539889536d540da320": {
     "model_module": "@jupyter-widgets/controls",
     "model_module_version": "1.5.0",
     "model_name": "HBoxModel",
     "state": {
      "_dom_classes": [],
      "_model_module": "@jupyter-widgets/controls",
      "_model_module_version": "1.5.0",
      "_model_name": "HBoxModel",
      "_view_count": null,
      "_view_module": "@jupyter-widgets/controls",
      "_view_module_version": "1.5.0",
      "_view_name": "HBoxView",
      "box_style": "",
      "children": [
       "IPY_MODEL_382988e3d6004fbca73fa02c678af1b2",
       "IPY_MODEL_dc6420fb3763440e96f4ac8a68265cf7",
       "IPY_MODEL_6acbab4dfdcb4a1faff2b51300d51861"
      ],
      "layout": "IPY_MODEL_4d1bd244924540f68a07ecb1fb66d35f"
     }
    },
    "4e41d7cc9d1544208849518be27bfd21": {
     "model_module": "@jupyter-widgets/base",
     "model_module_version": "1.2.0",
     "model_name": "LayoutModel",
     "state": {
      "_model_module": "@jupyter-widgets/base",
      "_model_module_version": "1.2.0",
      "_model_name": "LayoutModel",
      "_view_count": null,
      "_view_module": "@jupyter-widgets/base",
      "_view_module_version": "1.2.0",
      "_view_name": "LayoutView",
      "align_content": null,
      "align_items": null,
      "align_self": null,
      "border": null,
      "bottom": null,
      "display": null,
      "flex": null,
      "flex_flow": null,
      "grid_area": null,
      "grid_auto_columns": null,
      "grid_auto_flow": null,
      "grid_auto_rows": null,
      "grid_column": null,
      "grid_gap": null,
      "grid_row": null,
      "grid_template_areas": null,
      "grid_template_columns": null,
      "grid_template_rows": null,
      "height": null,
      "justify_content": null,
      "justify_items": null,
      "left": null,
      "margin": null,
      "max_height": null,
      "max_width": null,
      "min_height": null,
      "min_width": null,
      "object_fit": null,
      "object_position": null,
      "order": null,
      "overflow": null,
      "overflow_x": null,
      "overflow_y": null,
      "padding": null,
      "right": null,
      "top": null,
      "visibility": null,
      "width": null
     }
    },
    "583b3030d5934c548789f4377adee40c": {
     "model_module": "@jupyter-widgets/controls",
     "model_module_version": "1.5.0",
     "model_name": "DescriptionStyleModel",
     "state": {
      "_model_module": "@jupyter-widgets/controls",
      "_model_module_version": "1.5.0",
      "_model_name": "DescriptionStyleModel",
      "_view_count": null,
      "_view_module": "@jupyter-widgets/base",
      "_view_module_version": "1.2.0",
      "_view_name": "StyleView",
      "description_width": ""
     }
    },
    "5db24fa0f5084c43b22cd77d414c66c6": {
     "model_module": "@jupyter-widgets/controls",
     "model_module_version": "1.5.0",
     "model_name": "DescriptionStyleModel",
     "state": {
      "_model_module": "@jupyter-widgets/controls",
      "_model_module_version": "1.5.0",
      "_model_name": "DescriptionStyleModel",
      "_view_count": null,
      "_view_module": "@jupyter-widgets/base",
      "_view_module_version": "1.2.0",
      "_view_name": "StyleView",
      "description_width": ""
     }
    },
    "62d8f5016aee4655ac26098bf60b9b5a": {
     "model_module": "@jupyter-widgets/controls",
     "model_module_version": "1.5.0",
     "model_name": "DescriptionStyleModel",
     "state": {
      "_model_module": "@jupyter-widgets/controls",
      "_model_module_version": "1.5.0",
      "_model_name": "DescriptionStyleModel",
      "_view_count": null,
      "_view_module": "@jupyter-widgets/base",
      "_view_module_version": "1.2.0",
      "_view_name": "StyleView",
      "description_width": ""
     }
    },
    "658d6008d43b4a9594080cd1998a4cd2": {
     "model_module": "@jupyter-widgets/controls",
     "model_module_version": "1.5.0",
     "model_name": "DescriptionStyleModel",
     "state": {
      "_model_module": "@jupyter-widgets/controls",
      "_model_module_version": "1.5.0",
      "_model_name": "DescriptionStyleModel",
      "_view_count": null,
      "_view_module": "@jupyter-widgets/base",
      "_view_module_version": "1.2.0",
      "_view_name": "StyleView",
      "description_width": ""
     }
    },
    "666cf9d7543f4ac6a965620e80e38287": {
     "model_module": "@jupyter-widgets/controls",
     "model_module_version": "1.5.0",
     "model_name": "HBoxModel",
     "state": {
      "_dom_classes": [],
      "_model_module": "@jupyter-widgets/controls",
      "_model_module_version": "1.5.0",
      "_model_name": "HBoxModel",
      "_view_count": null,
      "_view_module": "@jupyter-widgets/controls",
      "_view_module_version": "1.5.0",
      "_view_name": "HBoxView",
      "box_style": "",
      "children": [
       "IPY_MODEL_10fc564e0c24498aa152d8c8f3e46abf",
       "IPY_MODEL_c23d78f979aa4506889358b4e360773e",
       "IPY_MODEL_9e2e495cacd840839d4cb0189863644a"
      ],
      "layout": "IPY_MODEL_256a04e69b0f4947b47d614e141a0c1e"
     }
    },
    "6acbab4dfdcb4a1faff2b51300d51861": {
     "model_module": "@jupyter-widgets/controls",
     "model_module_version": "1.5.0",
     "model_name": "HTMLModel",
     "state": {
      "_dom_classes": [],
      "_model_module": "@jupyter-widgets/controls",
      "_model_module_version": "1.5.0",
      "_model_name": "HTMLModel",
      "_view_count": null,
      "_view_module": "@jupyter-widgets/controls",
      "_view_module_version": "1.5.0",
      "_view_name": "HTMLView",
      "description": "",
      "description_tooltip": null,
      "layout": "IPY_MODEL_ffc5fca84daa402a8f899f9dd65b2464",
      "placeholder": "​",
      "style": "IPY_MODEL_3a5a69e3374a41968af0bd7468aee36c",
      "value": " 10/10 [05:12&lt;00:00, 30.26s/it]"
     }
    },
    "75a074269730442aa58ce2cd180a5da1": {
     "model_module": "@jupyter-widgets/controls",
     "model_module_version": "1.5.0",
     "model_name": "ProgressStyleModel",
     "state": {
      "_model_module": "@jupyter-widgets/controls",
      "_model_module_version": "1.5.0",
      "_model_name": "ProgressStyleModel",
      "_view_count": null,
      "_view_module": "@jupyter-widgets/base",
      "_view_module_version": "1.2.0",
      "_view_name": "StyleView",
      "bar_color": null,
      "description_width": ""
     }
    },
    "8162c63e237047d79e485a4d7266e245": {
     "model_module": "@jupyter-widgets/base",
     "model_module_version": "1.2.0",
     "model_name": "LayoutModel",
     "state": {
      "_model_module": "@jupyter-widgets/base",
      "_model_module_version": "1.2.0",
      "_model_name": "LayoutModel",
      "_view_count": null,
      "_view_module": "@jupyter-widgets/base",
      "_view_module_version": "1.2.0",
      "_view_name": "LayoutView",
      "align_content": null,
      "align_items": null,
      "align_self": null,
      "border": null,
      "bottom": null,
      "display": null,
      "flex": null,
      "flex_flow": null,
      "grid_area": null,
      "grid_auto_columns": null,
      "grid_auto_flow": null,
      "grid_auto_rows": null,
      "grid_column": null,
      "grid_gap": null,
      "grid_row": null,
      "grid_template_areas": null,
      "grid_template_columns": null,
      "grid_template_rows": null,
      "height": null,
      "justify_content": null,
      "justify_items": null,
      "left": null,
      "margin": null,
      "max_height": null,
      "max_width": null,
      "min_height": null,
      "min_width": null,
      "object_fit": null,
      "object_position": null,
      "order": null,
      "overflow": null,
      "overflow_x": null,
      "overflow_y": null,
      "padding": null,
      "right": null,
      "top": null,
      "visibility": null,
      "width": null
     }
    },
    "840797f27e9241e9a622d7fe13f8ba4c": {
     "model_module": "@jupyter-widgets/controls",
     "model_module_version": "1.5.0",
     "model_name": "HBoxModel",
     "state": {
      "_dom_classes": [],
      "_model_module": "@jupyter-widgets/controls",
      "_model_module_version": "1.5.0",
      "_model_name": "HBoxModel",
      "_view_count": null,
      "_view_module": "@jupyter-widgets/controls",
      "_view_module_version": "1.5.0",
      "_view_name": "HBoxView",
      "box_style": "",
      "children": [
       "IPY_MODEL_29f28c718220448b967ede71b6aa3cfe",
       "IPY_MODEL_f8941783cd3c48628d5b1e0ccba15c8d",
       "IPY_MODEL_1ab99dd2c9ad42ff856bc34ccf5c8912"
      ],
      "layout": "IPY_MODEL_93da5596abac4b37acfd462133efc373"
     }
    },
    "935f9353e2fd407397cc7a38eebce9bc": {
     "model_module": "@jupyter-widgets/controls",
     "model_module_version": "1.5.0",
     "model_name": "HTMLModel",
     "state": {
      "_dom_classes": [],
      "_model_module": "@jupyter-widgets/controls",
      "_model_module_version": "1.5.0",
      "_model_name": "HTMLModel",
      "_view_count": null,
      "_view_module": "@jupyter-widgets/controls",
      "_view_module_version": "1.5.0",
      "_view_name": "HTMLView",
      "description": "",
      "description_tooltip": null,
      "layout": "IPY_MODEL_20638decc217426b867e1907d8a117ee",
      "placeholder": "​",
      "style": "IPY_MODEL_037f596ad6174aa6ab326640105d5f3a",
      "value": "100%"
     }
    },
    "93868ce9d06343e299deab9e7bf9e2ac": {
     "model_module": "@jupyter-widgets/base",
     "model_module_version": "1.2.0",
     "model_name": "LayoutModel",
     "state": {
      "_model_module": "@jupyter-widgets/base",
      "_model_module_version": "1.2.0",
      "_model_name": "LayoutModel",
      "_view_count": null,
      "_view_module": "@jupyter-widgets/base",
      "_view_module_version": "1.2.0",
      "_view_name": "LayoutView",
      "align_content": null,
      "align_items": null,
      "align_self": null,
      "border": null,
      "bottom": null,
      "display": null,
      "flex": null,
      "flex_flow": null,
      "grid_area": null,
      "grid_auto_columns": null,
      "grid_auto_flow": null,
      "grid_auto_rows": null,
      "grid_column": null,
      "grid_gap": null,
      "grid_row": null,
      "grid_template_areas": null,
      "grid_template_columns": null,
      "grid_template_rows": null,
      "height": null,
      "justify_content": null,
      "justify_items": null,
      "left": null,
      "margin": null,
      "max_height": null,
      "max_width": null,
      "min_height": null,
      "min_width": null,
      "object_fit": null,
      "object_position": null,
      "order": null,
      "overflow": null,
      "overflow_x": null,
      "overflow_y": null,
      "padding": null,
      "right": null,
      "top": null,
      "visibility": null,
      "width": null
     }
    },
    "93da5596abac4b37acfd462133efc373": {
     "model_module": "@jupyter-widgets/base",
     "model_module_version": "1.2.0",
     "model_name": "LayoutModel",
     "state": {
      "_model_module": "@jupyter-widgets/base",
      "_model_module_version": "1.2.0",
      "_model_name": "LayoutModel",
      "_view_count": null,
      "_view_module": "@jupyter-widgets/base",
      "_view_module_version": "1.2.0",
      "_view_name": "LayoutView",
      "align_content": null,
      "align_items": null,
      "align_self": null,
      "border": null,
      "bottom": null,
      "display": null,
      "flex": null,
      "flex_flow": null,
      "grid_area": null,
      "grid_auto_columns": null,
      "grid_auto_flow": null,
      "grid_auto_rows": null,
      "grid_column": null,
      "grid_gap": null,
      "grid_row": null,
      "grid_template_areas": null,
      "grid_template_columns": null,
      "grid_template_rows": null,
      "height": null,
      "justify_content": null,
      "justify_items": null,
      "left": null,
      "margin": null,
      "max_height": null,
      "max_width": null,
      "min_height": null,
      "min_width": null,
      "object_fit": null,
      "object_position": null,
      "order": null,
      "overflow": null,
      "overflow_x": null,
      "overflow_y": null,
      "padding": null,
      "right": null,
      "top": null,
      "visibility": null,
      "width": null
     }
    },
    "955f852d2fb8405993a54a507d24e5e6": {
     "model_module": "@jupyter-widgets/controls",
     "model_module_version": "1.5.0",
     "model_name": "FloatProgressModel",
     "state": {
      "_dom_classes": [],
      "_model_module": "@jupyter-widgets/controls",
      "_model_module_version": "1.5.0",
      "_model_name": "FloatProgressModel",
      "_view_count": null,
      "_view_module": "@jupyter-widgets/controls",
      "_view_module_version": "1.5.0",
      "_view_name": "ProgressView",
      "bar_style": "success",
      "description": "",
      "description_tooltip": null,
      "layout": "IPY_MODEL_b74aede22b554edf9eaa0f8f452420d9",
      "max": 36882185,
      "min": 0,
      "orientation": "horizontal",
      "style": "IPY_MODEL_1d943dbefbd74964accb2236981c0597",
      "value": 36882185
     }
    },
    "9e2e495cacd840839d4cb0189863644a": {
     "model_module": "@jupyter-widgets/controls",
     "model_module_version": "1.5.0",
     "model_name": "HTMLModel",
     "state": {
      "_dom_classes": [],
      "_model_module": "@jupyter-widgets/controls",
      "_model_module_version": "1.5.0",
      "_model_name": "HTMLModel",
      "_view_count": null,
      "_view_module": "@jupyter-widgets/controls",
      "_view_module_version": "1.5.0",
      "_view_name": "HTMLView",
      "description": "",
      "description_tooltip": null,
      "layout": "IPY_MODEL_cfc4786c55f34e0f8a12f6078e99fcbd",
      "placeholder": "​",
      "style": "IPY_MODEL_62d8f5016aee4655ac26098bf60b9b5a",
      "value": " 10/10 [05:48&lt;00:00, 34.23s/it]"
     }
    },
    "a1a34b1712d64e6d83ec28824883ac8f": {
     "model_module": "@jupyter-widgets/base",
     "model_module_version": "1.2.0",
     "model_name": "LayoutModel",
     "state": {
      "_model_module": "@jupyter-widgets/base",
      "_model_module_version": "1.2.0",
      "_model_name": "LayoutModel",
      "_view_count": null,
      "_view_module": "@jupyter-widgets/base",
      "_view_module_version": "1.2.0",
      "_view_name": "LayoutView",
      "align_content": null,
      "align_items": null,
      "align_self": null,
      "border": null,
      "bottom": null,
      "display": null,
      "flex": null,
      "flex_flow": null,
      "grid_area": null,
      "grid_auto_columns": null,
      "grid_auto_flow": null,
      "grid_auto_rows": null,
      "grid_column": null,
      "grid_gap": null,
      "grid_row": null,
      "grid_template_areas": null,
      "grid_template_columns": null,
      "grid_template_rows": null,
      "height": null,
      "justify_content": null,
      "justify_items": null,
      "left": null,
      "margin": null,
      "max_height": null,
      "max_width": null,
      "min_height": null,
      "min_width": null,
      "object_fit": null,
      "object_position": null,
      "order": null,
      "overflow": null,
      "overflow_x": null,
      "overflow_y": null,
      "padding": null,
      "right": null,
      "top": null,
      "visibility": null,
      "width": null
     }
    },
    "a6698108086847bda1cb4170d267c881": {
     "model_module": "@jupyter-widgets/controls",
     "model_module_version": "1.5.0",
     "model_name": "HTMLModel",
     "state": {
      "_dom_classes": [],
      "_model_module": "@jupyter-widgets/controls",
      "_model_module_version": "1.5.0",
      "_model_name": "HTMLModel",
      "_view_count": null,
      "_view_module": "@jupyter-widgets/controls",
      "_view_module_version": "1.5.0",
      "_view_name": "HTMLView",
      "description": "",
      "description_tooltip": null,
      "layout": "IPY_MODEL_a7d149e7bd43498bb19e4d1de996b2fc",
      "placeholder": "​",
      "style": "IPY_MODEL_c612ec3dc941424c8a2ce804081f03b7",
      "value": "100%"
     }
    },
    "a7d149e7bd43498bb19e4d1de996b2fc": {
     "model_module": "@jupyter-widgets/base",
     "model_module_version": "1.2.0",
     "model_name": "LayoutModel",
     "state": {
      "_model_module": "@jupyter-widgets/base",
      "_model_module_version": "1.2.0",
      "_model_name": "LayoutModel",
      "_view_count": null,
      "_view_module": "@jupyter-widgets/base",
      "_view_module_version": "1.2.0",
      "_view_name": "LayoutView",
      "align_content": null,
      "align_items": null,
      "align_self": null,
      "border": null,
      "bottom": null,
      "display": null,
      "flex": null,
      "flex_flow": null,
      "grid_area": null,
      "grid_auto_columns": null,
      "grid_auto_flow": null,
      "grid_auto_rows": null,
      "grid_column": null,
      "grid_gap": null,
      "grid_row": null,
      "grid_template_areas": null,
      "grid_template_columns": null,
      "grid_template_rows": null,
      "height": null,
      "justify_content": null,
      "justify_items": null,
      "left": null,
      "margin": null,
      "max_height": null,
      "max_width": null,
      "min_height": null,
      "min_width": null,
      "object_fit": null,
      "object_position": null,
      "order": null,
      "overflow": null,
      "overflow_x": null,
      "overflow_y": null,
      "padding": null,
      "right": null,
      "top": null,
      "visibility": null,
      "width": null
     }
    },
    "b50b2cadca3d4f1f8269ce3a55fcaf07": {
     "model_module": "@jupyter-widgets/base",
     "model_module_version": "1.2.0",
     "model_name": "LayoutModel",
     "state": {
      "_model_module": "@jupyter-widgets/base",
      "_model_module_version": "1.2.0",
      "_model_name": "LayoutModel",
      "_view_count": null,
      "_view_module": "@jupyter-widgets/base",
      "_view_module_version": "1.2.0",
      "_view_name": "LayoutView",
      "align_content": null,
      "align_items": null,
      "align_self": null,
      "border": null,
      "bottom": null,
      "display": null,
      "flex": null,
      "flex_flow": null,
      "grid_area": null,
      "grid_auto_columns": null,
      "grid_auto_flow": null,
      "grid_auto_rows": null,
      "grid_column": null,
      "grid_gap": null,
      "grid_row": null,
      "grid_template_areas": null,
      "grid_template_columns": null,
      "grid_template_rows": null,
      "height": null,
      "justify_content": null,
      "justify_items": null,
      "left": null,
      "margin": null,
      "max_height": null,
      "max_width": null,
      "min_height": null,
      "min_width": null,
      "object_fit": null,
      "object_position": null,
      "order": null,
      "overflow": null,
      "overflow_x": null,
      "overflow_y": null,
      "padding": null,
      "right": null,
      "top": null,
      "visibility": null,
      "width": null
     }
    },
    "b74aede22b554edf9eaa0f8f452420d9": {
     "model_module": "@jupyter-widgets/base",
     "model_module_version": "1.2.0",
     "model_name": "LayoutModel",
     "state": {
      "_model_module": "@jupyter-widgets/base",
      "_model_module_version": "1.2.0",
      "_model_name": "LayoutModel",
      "_view_count": null,
      "_view_module": "@jupyter-widgets/base",
      "_view_module_version": "1.2.0",
      "_view_name": "LayoutView",
      "align_content": null,
      "align_items": null,
      "align_self": null,
      "border": null,
      "bottom": null,
      "display": null,
      "flex": null,
      "flex_flow": null,
      "grid_area": null,
      "grid_auto_columns": null,
      "grid_auto_flow": null,
      "grid_auto_rows": null,
      "grid_column": null,
      "grid_gap": null,
      "grid_row": null,
      "grid_template_areas": null,
      "grid_template_columns": null,
      "grid_template_rows": null,
      "height": null,
      "justify_content": null,
      "justify_items": null,
      "left": null,
      "margin": null,
      "max_height": null,
      "max_width": null,
      "min_height": null,
      "min_width": null,
      "object_fit": null,
      "object_position": null,
      "order": null,
      "overflow": null,
      "overflow_x": null,
      "overflow_y": null,
      "padding": null,
      "right": null,
      "top": null,
      "visibility": null,
      "width": null
     }
    },
    "bb9151e5b0db438cb27bc55b95ff1289": {
     "model_module": "@jupyter-widgets/controls",
     "model_module_version": "1.5.0",
     "model_name": "HTMLModel",
     "state": {
      "_dom_classes": [],
      "_model_module": "@jupyter-widgets/controls",
      "_model_module_version": "1.5.0",
      "_model_name": "HTMLModel",
      "_view_count": null,
      "_view_module": "@jupyter-widgets/controls",
      "_view_module_version": "1.5.0",
      "_view_name": "HTMLView",
      "description": "",
      "description_tooltip": null,
      "layout": "IPY_MODEL_341857c408f941e5a513d853ba2f1757",
      "placeholder": "​",
      "style": "IPY_MODEL_daca49a1fdc34fd6af7ac307e9bf1fcd",
      "value": " 439/439 [01:01&lt;00:00,  8.46it/s]"
     }
    },
    "c0c7686cb60c4ec2a57c9837d26e4691": {
     "model_module": "@jupyter-widgets/controls",
     "model_module_version": "1.5.0",
     "model_name": "HBoxModel",
     "state": {
      "_dom_classes": [],
      "_model_module": "@jupyter-widgets/controls",
      "_model_module_version": "1.5.0",
      "_model_name": "HBoxModel",
      "_view_count": null,
      "_view_module": "@jupyter-widgets/controls",
      "_view_module_version": "1.5.0",
      "_view_name": "HBoxView",
      "box_style": "",
      "children": [
       "IPY_MODEL_935f9353e2fd407397cc7a38eebce9bc",
       "IPY_MODEL_955f852d2fb8405993a54a507d24e5e6",
       "IPY_MODEL_da8b2c7c2e8544beb25109f1ec029e9f"
      ],
      "layout": "IPY_MODEL_93868ce9d06343e299deab9e7bf9e2ac"
     }
    },
    "c1021017c3af4668a5762447bd9e21df": {
     "model_module": "@jupyter-widgets/controls",
     "model_module_version": "1.5.0",
     "model_name": "HBoxModel",
     "state": {
      "_dom_classes": [],
      "_model_module": "@jupyter-widgets/controls",
      "_model_module_version": "1.5.0",
      "_model_name": "HBoxModel",
      "_view_count": null,
      "_view_module": "@jupyter-widgets/controls",
      "_view_module_version": "1.5.0",
      "_view_name": "HBoxView",
      "box_style": "",
      "children": [
       "IPY_MODEL_fac480c369cf4a668e9820afeaf5574e",
       "IPY_MODEL_c66e45c3781b4652b1746bf66e40c8e0",
       "IPY_MODEL_bb9151e5b0db438cb27bc55b95ff1289"
      ],
      "layout": "IPY_MODEL_dedafdccbc764298b18645fd2eee7fd8"
     }
    },
    "c23d78f979aa4506889358b4e360773e": {
     "model_module": "@jupyter-widgets/controls",
     "model_module_version": "1.5.0",
     "model_name": "FloatProgressModel",
     "state": {
      "_dom_classes": [],
      "_model_module": "@jupyter-widgets/controls",
      "_model_module_version": "1.5.0",
      "_model_name": "FloatProgressModel",
      "_view_count": null,
      "_view_module": "@jupyter-widgets/controls",
      "_view_module_version": "1.5.0",
      "_view_name": "ProgressView",
      "bar_style": "success",
      "description": "",
      "description_tooltip": null,
      "layout": "IPY_MODEL_8162c63e237047d79e485a4d7266e245",
      "max": 10,
      "min": 0,
      "orientation": "horizontal",
      "style": "IPY_MODEL_3fb8ff946bae408a804ca929146ec7a8",
      "value": 10
     }
    },
    "c5c006c68e4145bc951dbcc0adfb323a": {
     "model_module": "@jupyter-widgets/controls",
     "model_module_version": "1.5.0",
     "model_name": "DescriptionStyleModel",
     "state": {
      "_model_module": "@jupyter-widgets/controls",
      "_model_module_version": "1.5.0",
      "_model_name": "DescriptionStyleModel",
      "_view_count": null,
      "_view_module": "@jupyter-widgets/base",
      "_view_module_version": "1.2.0",
      "_view_name": "StyleView",
      "description_width": ""
     }
    },
    "c612ec3dc941424c8a2ce804081f03b7": {
     "model_module": "@jupyter-widgets/controls",
     "model_module_version": "1.5.0",
     "model_name": "DescriptionStyleModel",
     "state": {
      "_model_module": "@jupyter-widgets/controls",
      "_model_module_version": "1.5.0",
      "_model_name": "DescriptionStyleModel",
      "_view_count": null,
      "_view_module": "@jupyter-widgets/base",
      "_view_module_version": "1.2.0",
      "_view_name": "StyleView",
      "description_width": ""
     }
    },
    "c66e45c3781b4652b1746bf66e40c8e0": {
     "model_module": "@jupyter-widgets/controls",
     "model_module_version": "1.5.0",
     "model_name": "FloatProgressModel",
     "state": {
      "_dom_classes": [],
      "_model_module": "@jupyter-widgets/controls",
      "_model_module_version": "1.5.0",
      "_model_name": "FloatProgressModel",
      "_view_count": null,
      "_view_module": "@jupyter-widgets/controls",
      "_view_module_version": "1.5.0",
      "_view_name": "ProgressView",
      "bar_style": "success",
      "description": "",
      "description_tooltip": null,
      "layout": "IPY_MODEL_30e3fe6361ba4beb8644bfec1b65aa7c",
      "max": 439,
      "min": 0,
      "orientation": "horizontal",
      "style": "IPY_MODEL_2b0aa39f8a8242919130f382a14538b6",
      "value": 439
     }
    },
    "cfc4786c55f34e0f8a12f6078e99fcbd": {
     "model_module": "@jupyter-widgets/base",
     "model_module_version": "1.2.0",
     "model_name": "LayoutModel",
     "state": {
      "_model_module": "@jupyter-widgets/base",
      "_model_module_version": "1.2.0",
      "_model_name": "LayoutModel",
      "_view_count": null,
      "_view_module": "@jupyter-widgets/base",
      "_view_module_version": "1.2.0",
      "_view_name": "LayoutView",
      "align_content": null,
      "align_items": null,
      "align_self": null,
      "border": null,
      "bottom": null,
      "display": null,
      "flex": null,
      "flex_flow": null,
      "grid_area": null,
      "grid_auto_columns": null,
      "grid_auto_flow": null,
      "grid_auto_rows": null,
      "grid_column": null,
      "grid_gap": null,
      "grid_row": null,
      "grid_template_areas": null,
      "grid_template_columns": null,
      "grid_template_rows": null,
      "height": null,
      "justify_content": null,
      "justify_items": null,
      "left": null,
      "margin": null,
      "max_height": null,
      "max_width": null,
      "min_height": null,
      "min_width": null,
      "object_fit": null,
      "object_position": null,
      "order": null,
      "overflow": null,
      "overflow_x": null,
      "overflow_y": null,
      "padding": null,
      "right": null,
      "top": null,
      "visibility": null,
      "width": null
     }
    },
    "d30dbb8319124b9b975791ff51ef0ba2": {
     "model_module": "@jupyter-widgets/controls",
     "model_module_version": "1.5.0",
     "model_name": "HTMLModel",
     "state": {
      "_dom_classes": [],
      "_model_module": "@jupyter-widgets/controls",
      "_model_module_version": "1.5.0",
      "_model_name": "HTMLModel",
      "_view_count": null,
      "_view_module": "@jupyter-widgets/controls",
      "_view_module_version": "1.5.0",
      "_view_name": "HTMLView",
      "description": "",
      "description_tooltip": null,
      "layout": "IPY_MODEL_109e74e70a424c1d93bf0f1721e0f46d",
      "placeholder": "​",
      "style": "IPY_MODEL_e838a4f644db4c3a8f0abb7db73b4875",
      "value": " 330M/330M [00:02&lt;00:00, 150MB/s]"
     }
    },
    "d3645b5aab2b48398f48572e30fc02de": {
     "model_module": "@jupyter-widgets/base",
     "model_module_version": "1.2.0",
     "model_name": "LayoutModel",
     "state": {
      "_model_module": "@jupyter-widgets/base",
      "_model_module_version": "1.2.0",
      "_model_name": "LayoutModel",
      "_view_count": null,
      "_view_module": "@jupyter-widgets/base",
      "_view_module_version": "1.2.0",
      "_view_name": "LayoutView",
      "align_content": null,
      "align_items": null,
      "align_self": null,
      "border": null,
      "bottom": null,
      "display": null,
      "flex": null,
      "flex_flow": null,
      "grid_area": null,
      "grid_auto_columns": null,
      "grid_auto_flow": null,
      "grid_auto_rows": null,
      "grid_column": null,
      "grid_gap": null,
      "grid_row": null,
      "grid_template_areas": null,
      "grid_template_columns": null,
      "grid_template_rows": null,
      "height": null,
      "justify_content": null,
      "justify_items": null,
      "left": null,
      "margin": null,
      "max_height": null,
      "max_width": null,
      "min_height": null,
      "min_width": null,
      "object_fit": null,
      "object_position": null,
      "order": null,
      "overflow": null,
      "overflow_x": null,
      "overflow_y": null,
      "padding": null,
      "right": null,
      "top": null,
      "visibility": null,
      "width": null
     }
    },
    "d751ce6e625c4f788296db84343e09dd": {
     "model_module": "@jupyter-widgets/base",
     "model_module_version": "1.2.0",
     "model_name": "LayoutModel",
     "state": {
      "_model_module": "@jupyter-widgets/base",
      "_model_module_version": "1.2.0",
      "_model_name": "LayoutModel",
      "_view_count": null,
      "_view_module": "@jupyter-widgets/base",
      "_view_module_version": "1.2.0",
      "_view_name": "LayoutView",
      "align_content": null,
      "align_items": null,
      "align_self": null,
      "border": null,
      "bottom": null,
      "display": null,
      "flex": null,
      "flex_flow": null,
      "grid_area": null,
      "grid_auto_columns": null,
      "grid_auto_flow": null,
      "grid_auto_rows": null,
      "grid_column": null,
      "grid_gap": null,
      "grid_row": null,
      "grid_template_areas": null,
      "grid_template_columns": null,
      "grid_template_rows": null,
      "height": null,
      "justify_content": null,
      "justify_items": null,
      "left": null,
      "margin": null,
      "max_height": null,
      "max_width": null,
      "min_height": null,
      "min_width": null,
      "object_fit": null,
      "object_position": null,
      "order": null,
      "overflow": null,
      "overflow_x": null,
      "overflow_y": null,
      "padding": null,
      "right": null,
      "top": null,
      "visibility": null,
      "width": null
     }
    },
    "d86ec96f2e054b41bf1bf6b672b6ab02": {
     "model_module": "@jupyter-widgets/base",
     "model_module_version": "1.2.0",
     "model_name": "LayoutModel",
     "state": {
      "_model_module": "@jupyter-widgets/base",
      "_model_module_version": "1.2.0",
      "_model_name": "LayoutModel",
      "_view_count": null,
      "_view_module": "@jupyter-widgets/base",
      "_view_module_version": "1.2.0",
      "_view_name": "LayoutView",
      "align_content": null,
      "align_items": null,
      "align_self": null,
      "border": null,
      "bottom": null,
      "display": null,
      "flex": null,
      "flex_flow": null,
      "grid_area": null,
      "grid_auto_columns": null,
      "grid_auto_flow": null,
      "grid_auto_rows": null,
      "grid_column": null,
      "grid_gap": null,
      "grid_row": null,
      "grid_template_areas": null,
      "grid_template_columns": null,
      "grid_template_rows": null,
      "height": null,
      "justify_content": null,
      "justify_items": null,
      "left": null,
      "margin": null,
      "max_height": null,
      "max_width": null,
      "min_height": null,
      "min_width": null,
      "object_fit": null,
      "object_position": null,
      "order": null,
      "overflow": null,
      "overflow_x": null,
      "overflow_y": null,
      "padding": null,
      "right": null,
      "top": null,
      "visibility": null,
      "width": null
     }
    },
    "da8b2c7c2e8544beb25109f1ec029e9f": {
     "model_module": "@jupyter-widgets/controls",
     "model_module_version": "1.5.0",
     "model_name": "HTMLModel",
     "state": {
      "_dom_classes": [],
      "_model_module": "@jupyter-widgets/controls",
      "_model_module_version": "1.5.0",
      "_model_name": "HTMLModel",
      "_view_count": null,
      "_view_module": "@jupyter-widgets/controls",
      "_view_module_version": "1.5.0",
      "_view_name": "HTMLView",
      "description": "",
      "description_tooltip": null,
      "layout": "IPY_MODEL_36e0652c579742fcb8939f74fe0bc9f3",
      "placeholder": "​",
      "style": "IPY_MODEL_5db24fa0f5084c43b22cd77d414c66c6",
      "value": " 35.2M/35.2M [00:00&lt;00:00, 46.8MB/s]"
     }
    },
    "daca49a1fdc34fd6af7ac307e9bf1fcd": {
     "model_module": "@jupyter-widgets/controls",
     "model_module_version": "1.5.0",
     "model_name": "DescriptionStyleModel",
     "state": {
      "_model_module": "@jupyter-widgets/controls",
      "_model_module_version": "1.5.0",
      "_model_name": "DescriptionStyleModel",
      "_view_count": null,
      "_view_module": "@jupyter-widgets/base",
      "_view_module_version": "1.2.0",
      "_view_name": "StyleView",
      "description_width": ""
     }
    },
    "dc6420fb3763440e96f4ac8a68265cf7": {
     "model_module": "@jupyter-widgets/controls",
     "model_module_version": "1.5.0",
     "model_name": "FloatProgressModel",
     "state": {
      "_dom_classes": [],
      "_model_module": "@jupyter-widgets/controls",
      "_model_module_version": "1.5.0",
      "_model_name": "FloatProgressModel",
      "_view_count": null,
      "_view_module": "@jupyter-widgets/controls",
      "_view_module_version": "1.5.0",
      "_view_name": "ProgressView",
      "bar_style": "success",
      "description": "",
      "description_tooltip": null,
      "layout": "IPY_MODEL_d86ec96f2e054b41bf1bf6b672b6ab02",
      "max": 10,
      "min": 0,
      "orientation": "horizontal",
      "style": "IPY_MODEL_75a074269730442aa58ce2cd180a5da1",
      "value": 10
     }
    },
    "dedafdccbc764298b18645fd2eee7fd8": {
     "model_module": "@jupyter-widgets/base",
     "model_module_version": "1.2.0",
     "model_name": "LayoutModel",
     "state": {
      "_model_module": "@jupyter-widgets/base",
      "_model_module_version": "1.2.0",
      "_model_name": "LayoutModel",
      "_view_count": null,
      "_view_module": "@jupyter-widgets/base",
      "_view_module_version": "1.2.0",
      "_view_name": "LayoutView",
      "align_content": null,
      "align_items": null,
      "align_self": null,
      "border": null,
      "bottom": null,
      "display": null,
      "flex": null,
      "flex_flow": null,
      "grid_area": null,
      "grid_auto_columns": null,
      "grid_auto_flow": null,
      "grid_auto_rows": null,
      "grid_column": null,
      "grid_gap": null,
      "grid_row": null,
      "grid_template_areas": null,
      "grid_template_columns": null,
      "grid_template_rows": null,
      "height": null,
      "justify_content": null,
      "justify_items": null,
      "left": null,
      "margin": null,
      "max_height": null,
      "max_width": null,
      "min_height": null,
      "min_width": null,
      "object_fit": null,
      "object_position": null,
      "order": null,
      "overflow": null,
      "overflow_x": null,
      "overflow_y": null,
      "padding": null,
      "right": null,
      "top": null,
      "visibility": null,
      "width": null
     }
    },
    "e01cc4ec70c9425dbd249ef5ad463d78": {
     "model_module": "@jupyter-widgets/controls",
     "model_module_version": "1.5.0",
     "model_name": "ProgressStyleModel",
     "state": {
      "_model_module": "@jupyter-widgets/controls",
      "_model_module_version": "1.5.0",
      "_model_name": "ProgressStyleModel",
      "_view_count": null,
      "_view_module": "@jupyter-widgets/base",
      "_view_module_version": "1.2.0",
      "_view_name": "StyleView",
      "bar_color": null,
      "description_width": ""
     }
    },
    "e248a50f3d0a4029b97423131719e536": {
     "model_module": "@jupyter-widgets/base",
     "model_module_version": "1.2.0",
     "model_name": "LayoutModel",
     "state": {
      "_model_module": "@jupyter-widgets/base",
      "_model_module_version": "1.2.0",
      "_model_name": "LayoutModel",
      "_view_count": null,
      "_view_module": "@jupyter-widgets/base",
      "_view_module_version": "1.2.0",
      "_view_name": "LayoutView",
      "align_content": null,
      "align_items": null,
      "align_self": null,
      "border": null,
      "bottom": null,
      "display": null,
      "flex": null,
      "flex_flow": null,
      "grid_area": null,
      "grid_auto_columns": null,
      "grid_auto_flow": null,
      "grid_auto_rows": null,
      "grid_column": null,
      "grid_gap": null,
      "grid_row": null,
      "grid_template_areas": null,
      "grid_template_columns": null,
      "grid_template_rows": null,
      "height": null,
      "justify_content": null,
      "justify_items": null,
      "left": null,
      "margin": null,
      "max_height": null,
      "max_width": null,
      "min_height": null,
      "min_width": null,
      "object_fit": null,
      "object_position": null,
      "order": null,
      "overflow": null,
      "overflow_x": null,
      "overflow_y": null,
      "padding": null,
      "right": null,
      "top": null,
      "visibility": null,
      "width": null
     }
    },
    "e65b48b24c8b4bdda0c0647a2ca99535": {
     "model_module": "@jupyter-widgets/controls",
     "model_module_version": "1.5.0",
     "model_name": "ProgressStyleModel",
     "state": {
      "_model_module": "@jupyter-widgets/controls",
      "_model_module_version": "1.5.0",
      "_model_name": "ProgressStyleModel",
      "_view_count": null,
      "_view_module": "@jupyter-widgets/base",
      "_view_module_version": "1.2.0",
      "_view_name": "StyleView",
      "bar_color": null,
      "description_width": ""
     }
    },
    "e838a4f644db4c3a8f0abb7db73b4875": {
     "model_module": "@jupyter-widgets/controls",
     "model_module_version": "1.5.0",
     "model_name": "DescriptionStyleModel",
     "state": {
      "_model_module": "@jupyter-widgets/controls",
      "_model_module_version": "1.5.0",
      "_model_name": "DescriptionStyleModel",
      "_view_count": null,
      "_view_module": "@jupyter-widgets/base",
      "_view_module_version": "1.2.0",
      "_view_name": "StyleView",
      "description_width": ""
     }
    },
    "f8941783cd3c48628d5b1e0ccba15c8d": {
     "model_module": "@jupyter-widgets/controls",
     "model_module_version": "1.5.0",
     "model_name": "FloatProgressModel",
     "state": {
      "_dom_classes": [],
      "_model_module": "@jupyter-widgets/controls",
      "_model_module_version": "1.5.0",
      "_model_name": "FloatProgressModel",
      "_view_count": null,
      "_view_module": "@jupyter-widgets/controls",
      "_view_module_version": "1.5.0",
      "_view_name": "ProgressView",
      "bar_style": "success",
      "description": "",
      "description_tooltip": null,
      "layout": "IPY_MODEL_e248a50f3d0a4029b97423131719e536",
      "max": 439,
      "min": 0,
      "orientation": "horizontal",
      "style": "IPY_MODEL_e01cc4ec70c9425dbd249ef5ad463d78",
      "value": 439
     }
    },
    "f95d5c664e724905904367654ae93462": {
     "model_module": "@jupyter-widgets/base",
     "model_module_version": "1.2.0",
     "model_name": "LayoutModel",
     "state": {
      "_model_module": "@jupyter-widgets/base",
      "_model_module_version": "1.2.0",
      "_model_name": "LayoutModel",
      "_view_count": null,
      "_view_module": "@jupyter-widgets/base",
      "_view_module_version": "1.2.0",
      "_view_name": "LayoutView",
      "align_content": null,
      "align_items": null,
      "align_self": null,
      "border": null,
      "bottom": null,
      "display": null,
      "flex": null,
      "flex_flow": null,
      "grid_area": null,
      "grid_auto_columns": null,
      "grid_auto_flow": null,
      "grid_auto_rows": null,
      "grid_column": null,
      "grid_gap": null,
      "grid_row": null,
      "grid_template_areas": null,
      "grid_template_columns": null,
      "grid_template_rows": null,
      "height": null,
      "justify_content": null,
      "justify_items": null,
      "left": null,
      "margin": null,
      "max_height": null,
      "max_width": null,
      "min_height": null,
      "min_width": null,
      "object_fit": null,
      "object_position": null,
      "order": null,
      "overflow": null,
      "overflow_x": null,
      "overflow_y": null,
      "padding": null,
      "right": null,
      "top": null,
      "visibility": null,
      "width": null
     }
    },
    "fac480c369cf4a668e9820afeaf5574e": {
     "model_module": "@jupyter-widgets/controls",
     "model_module_version": "1.5.0",
     "model_name": "HTMLModel",
     "state": {
      "_dom_classes": [],
      "_model_module": "@jupyter-widgets/controls",
      "_model_module_version": "1.5.0",
      "_model_name": "HTMLModel",
      "_view_count": null,
      "_view_module": "@jupyter-widgets/controls",
      "_view_module_version": "1.5.0",
      "_view_name": "HTMLView",
      "description": "",
      "description_tooltip": null,
      "layout": "IPY_MODEL_3a1ec68bba6a4f32b4f45640e55f7cba",
      "placeholder": "​",
      "style": "IPY_MODEL_583b3030d5934c548789f4377adee40c",
      "value": "100%"
     }
    },
    "ffc5fca84daa402a8f899f9dd65b2464": {
     "model_module": "@jupyter-widgets/base",
     "model_module_version": "1.2.0",
     "model_name": "LayoutModel",
     "state": {
      "_model_module": "@jupyter-widgets/base",
      "_model_module_version": "1.2.0",
      "_model_name": "LayoutModel",
      "_view_count": null,
      "_view_module": "@jupyter-widgets/base",
      "_view_module_version": "1.2.0",
      "_view_name": "LayoutView",
      "align_content": null,
      "align_items": null,
      "align_self": null,
      "border": null,
      "bottom": null,
      "display": null,
      "flex": null,
      "flex_flow": null,
      "grid_area": null,
      "grid_auto_columns": null,
      "grid_auto_flow": null,
      "grid_auto_rows": null,
      "grid_column": null,
      "grid_gap": null,
      "grid_row": null,
      "grid_template_areas": null,
      "grid_template_columns": null,
      "grid_template_rows": null,
      "height": null,
      "justify_content": null,
      "justify_items": null,
      "left": null,
      "margin": null,
      "max_height": null,
      "max_width": null,
      "min_height": null,
      "min_width": null,
      "object_fit": null,
      "object_position": null,
      "order": null,
      "overflow": null,
      "overflow_x": null,
      "overflow_y": null,
      "padding": null,
      "right": null,
      "top": null,
      "visibility": null,
      "width": null
     }
    }
   }
  }
 },
 "nbformat": 4,
 "nbformat_minor": 4
}
